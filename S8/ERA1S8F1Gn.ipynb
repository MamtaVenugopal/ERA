{
  "nbformat": 4,
  "nbformat_minor": 0,
  "metadata": {
    "colab": {
      "provenance": [],
      "gpuType": "V100"
    },
    "kernelspec": {
      "name": "python3",
      "display_name": "Python 3"
    },
    "accelerator": "GPU"
  },
  "cells": [
    {
      "cell_type": "markdown",
      "metadata": {
        "id": "aO-7t1Y7-hV4"
      },
      "source": [
        "# Import Libraries"
      ]
    },
    {
      "cell_type": "code",
      "metadata": {
        "id": "8kH16rnZ7wt_"
      },
      "source": [
        "from __future__ import print_function\n",
        "import torch\n",
        "import torch.nn as nn\n",
        "import torch.nn.functional as F\n",
        "import torch.optim as optim\n",
        "from torchvision import datasets, transforms\n",
        "import matplotlib.pyplot as plt\n",
        "from torchvision.utils import make_grid\n",
        "import warnings\n",
        "warnings.filterwarnings('ignore')\n"
      ],
      "execution_count": 3,
      "outputs": []
    },
    {
      "cell_type": "code",
      "source": [
        "from google.colab import drive\n",
        "drive.mount('/content/drive')"
      ],
      "metadata": {
        "colab": {
          "base_uri": "https://localhost:8080/"
        },
        "id": "RjtUDv30tcV-",
        "outputId": "51313fe1-a555-4a05-acb5-741d45f0e5af"
      },
      "execution_count": 2,
      "outputs": [
        {
          "output_type": "stream",
          "name": "stdout",
          "text": [
            "Mounted at /content/drive\n"
          ]
        }
      ]
    },
    {
      "cell_type": "markdown",
      "metadata": {
        "id": "ky3f_Odl-7um"
      },
      "source": [
        "## Data Transformations\n",
        "\n",
        "We first start with defining our data transformations. We need to think what our data is and how can we augment it to correct represent images which it might not see otherwise.\n"
      ]
    },
    {
      "cell_type": "code",
      "metadata": {
        "id": "YtssFUKb-jqx"
      },
      "source": [
        "# Train Phase transformations\n",
        "train_transforms = transforms.Compose([\n",
        "                                      #  transforms.Resize((28, 28)),\n",
        "                                      #  transforms.ColorJitter(brightness=0.10, contrast=0.1, saturation=0.10, hue=0.1),\n",
        "\n",
        "                                       transforms.ToTensor(),\n",
        "                                       transforms.Normalize((0.1307,), (0.3081,)) # The mean and std have to be sequences (e.g., tuples), therefore you should add a comma after the values.\n",
        "                                       # Note the difference between (0.1307) and (0.1307,)\n",
        "                                       ])\n",
        "\n",
        "# Test Phase transformations\n",
        "test_transforms = transforms.Compose([\n",
        "                                      #  transforms.Resize((28, 28)),\n",
        "                                      #  transforms.ColorJitter(brightness=0.10, contrast=0.1, saturation=0.10, hue=0.1),\n",
        "                                       transforms.ToTensor(),\n",
        "                                       transforms.Normalize((0.1307,), (0.3081,))\n",
        "                                       ])\n"
      ],
      "execution_count": 4,
      "outputs": []
    },
    {
      "cell_type": "markdown",
      "metadata": {
        "id": "oQciFYo2B1mO"
      },
      "source": [
        "# Dataset and Creating Train/Test Split"
      ]
    },
    {
      "cell_type": "code",
      "metadata": {
        "id": "_4A84rlfDA23",
        "colab": {
          "base_uri": "https://localhost:8080/"
        },
        "outputId": "2d7992d7-e761-47d5-e516-51a79210608f"
      },
      "source": [
        "train = datasets.CIFAR10('./data', train=True, download=True, transform=train_transforms)\n",
        "test = datasets.CIFAR10('./data', train=False, download=True, transform=test_transforms)"
      ],
      "execution_count": 5,
      "outputs": [
        {
          "output_type": "stream",
          "name": "stdout",
          "text": [
            "Downloading https://www.cs.toronto.edu/~kriz/cifar-10-python.tar.gz to ./data/cifar-10-python.tar.gz\n"
          ]
        },
        {
          "output_type": "stream",
          "name": "stderr",
          "text": [
            "100%|██████████| 170498071/170498071 [00:06<00:00, 28146823.41it/s]\n"
          ]
        },
        {
          "output_type": "stream",
          "name": "stdout",
          "text": [
            "Extracting ./data/cifar-10-python.tar.gz to ./data\n",
            "Files already downloaded and verified\n"
          ]
        }
      ]
    },
    {
      "cell_type": "code",
      "source": [
        "cls = train.classes"
      ],
      "metadata": {
        "id": "QuSZlGgDk02_"
      },
      "execution_count": 6,
      "outputs": []
    },
    {
      "cell_type": "markdown",
      "metadata": {
        "id": "qgldp_3-Dn0c"
      },
      "source": [
        "# Dataloader Arguments & Test/Train Dataloaders\n"
      ]
    },
    {
      "cell_type": "code",
      "metadata": {
        "id": "C8OLDR79DrHG",
        "colab": {
          "base_uri": "https://localhost:8080/"
        },
        "outputId": "8db8773a-21d4-4a71-aa12-d6015cfd3771"
      },
      "source": [
        "SEED = 1\n",
        "\n",
        "# CUDA?\n",
        "cuda = torch.cuda.is_available()\n",
        "print(\"CUDA Available?\", cuda)\n",
        "\n",
        "# For reproducibility\n",
        "torch.manual_seed(SEED)\n",
        "\n",
        "if cuda:\n",
        "    torch.cuda.manual_seed(SEED)\n",
        "\n",
        "# dataloader arguments - something you'll fetch these from cmdprmt\n",
        "dataloader_args = dict(shuffle=True, batch_size=128, num_workers=4, pin_memory=True) if cuda else dict(shuffle=True, batch_size=64)\n",
        "\n",
        "# train dataloader\n",
        "train_loader = torch.utils.data.DataLoader(train, **dataloader_args)\n",
        "\n",
        "# test dataloader\n",
        "test_loader = torch.utils.data.DataLoader(test, **dataloader_args)"
      ],
      "execution_count": 7,
      "outputs": [
        {
          "output_type": "stream",
          "name": "stdout",
          "text": [
            "CUDA Available? True\n"
          ]
        }
      ]
    },
    {
      "cell_type": "markdown",
      "metadata": {
        "id": "ubQL3H6RJL3h"
      },
      "source": [
        "# The model\n",
        "Let's start with the model we first saw"
      ]
    },
    {
      "cell_type": "code",
      "metadata": {
        "id": "7FXQlB9kH1ov"
      },
      "source": [
        "import torch.nn.functional as F\n",
        "dropout_value = 0.1\n",
        "num_groups = 2\n",
        "class Net(nn.Module):\n",
        "    def __init__(self):\n",
        "        super(Net, self).__init__()\n",
        "        # Input Block C1\n",
        "        self.convblock1 = nn.Sequential(\n",
        "            nn.Conv2d(in_channels=3, out_channels=32, kernel_size=(3, 3), padding=1, bias=False),\n",
        "            nn.ReLU(),\n",
        "            nn.GroupNorm(num_groups, 32),\n",
        "            nn.Dropout(dropout_value)\n",
        "        ) # output_size = 32\n",
        "\n",
        "        # CONVOLUTION BLOCK C2\n",
        "        self.convblock2 = nn.Sequential(\n",
        "            nn.Conv2d(in_channels=32, out_channels=16, kernel_size=(3, 3), padding=1, bias=False),\n",
        "            nn.ReLU(),\n",
        "            nn.GroupNorm(num_groups, 16),\n",
        "            nn.Dropout(dropout_value)\n",
        "        ) # output_size = 32\n",
        "\n",
        "        # TRANSITION BLOCK 1\n",
        "        self.c3 = nn.Sequential(\n",
        "            nn.Conv2d(in_channels=16, out_channels=16, kernel_size=(1, 1), padding=1, bias=False),\n",
        "            nn.GroupNorm(num_groups, 16)\n",
        "        ) # output_size = 32\n",
        "        self.pool1 = nn.MaxPool2d(2, 2) # output_size = 16\n",
        "\n",
        "        # CONVOLUTION BLOCK C3\n",
        "        self.convblock3 = nn.Sequential(\n",
        "            nn.Conv2d(in_channels=16, out_channels=32, kernel_size=(3, 3), padding=1, bias=False),\n",
        "            nn.ReLU(),\n",
        "            nn.GroupNorm(num_groups, 32),\n",
        "            nn.Dropout(dropout_value)\n",
        "        ) # output_size = 16\n",
        "        # CONVOLUTION BLOCK C4\n",
        "        self.convblock4 = nn.Sequential(\n",
        "            nn.Conv2d(in_channels=32, out_channels=32, kernel_size=(3, 3), padding=1, bias=False),\n",
        "            nn.ReLU(),\n",
        "            nn.GroupNorm(num_groups, 32),\n",
        "            nn.Dropout(dropout_value)\n",
        "        ) # output_size = 16\n",
        "        # CONVOLUTION BLOCK C5\n",
        "        self.convblock5 = nn.Sequential(\n",
        "            nn.Conv2d(in_channels=32, out_channels=32, kernel_size=(3, 3), padding=1, bias=False),\n",
        "            nn.ReLU(),\n",
        "            nn.GroupNorm(num_groups, 32),\n",
        "            nn.Dropout(dropout_value)\n",
        "        ) # output_size = 16\n",
        "\n",
        "       # TRANSITION BLOCK 2\n",
        "        self.c6 = nn.Sequential(\n",
        "            nn.Conv2d(in_channels=32, out_channels=16, kernel_size=(1, 1), padding=1, bias=False),\n",
        "            nn.GroupNorm(num_groups, 16)\n",
        "        ) # output_size = 16\n",
        "        self.pool2 = nn.MaxPool2d(2, 2) # output_size = 8\n",
        "\n",
        "        # CONVOLUTION BLOCK C7\n",
        "        self.convblock7 = nn.Sequential(\n",
        "            nn.Conv2d(in_channels=16, out_channels=32, kernel_size=(3, 3), padding=1, bias=False),\n",
        "            nn.ReLU(),\n",
        "            nn.GroupNorm(num_groups, 32),\n",
        "            nn.Dropout(dropout_value)\n",
        "        ) # output_size = 8\n",
        "        # CONVOLUTION BLOCK C8\n",
        "        self.convblock8 = nn.Sequential(\n",
        "            nn.Conv2d(in_channels=32, out_channels=64, kernel_size=(3, 3), padding=1, bias=False),\n",
        "            nn.ReLU(),\n",
        "            nn.GroupNorm(num_groups, 64),\n",
        "            nn.Dropout(dropout_value)\n",
        "        ) # output_size = 8\n",
        "        # CONVOLUTION BLOCK C9\n",
        "        self.convblock9 = nn.Sequential(\n",
        "            nn.Conv2d(in_channels=64, out_channels=32, kernel_size=(3, 3), padding=1, bias=False),\n",
        "            nn.ReLU(),\n",
        "            nn.GroupNorm(num_groups, 32),\n",
        "            nn.Dropout(dropout_value)\n",
        "        ) # output_size = 8\n",
        "\n",
        "        # OUTPUT BLOCK\n",
        "        self.gap = nn.Sequential(\n",
        "            nn.AvgPool2d(kernel_size=8)\n",
        "        ) # output_size = 1\n",
        "        # CONVOLUTION BLOCK C10\n",
        "        self.convblock10 = nn.Sequential(\n",
        "            nn.Conv2d(in_channels=32, out_channels=10, kernel_size=(1, 1), padding=0, bias=False),\n",
        "            # nn.BatchNorm2d(10),\n",
        "            # nn.ReLU(),\n",
        "            # nn.Dropout(dropout_value)\n",
        "        )\n",
        "\n",
        "\n",
        "        self.dropout = nn.Dropout(dropout_value)\n",
        "\n",
        "    def forward(self, x):\n",
        "        x = self.convblock1(x)\n",
        "        x = self.convblock2(x)\n",
        "        x = self.c3(x)\n",
        "        x = self.pool1(x)\n",
        "        x = self.convblock3(x)\n",
        "        x = self.convblock4(x)\n",
        "        x = self.convblock5(x)\n",
        "        x = self.c6(x)\n",
        "        x = self.pool2(x)\n",
        "        x = self.convblock7(x)\n",
        "        x = self.convblock8(x)\n",
        "        x = self.convblock9(x)\n",
        "        x = self.gap(x)\n",
        "        x = self.convblock10(x)\n",
        "\n",
        "        x = x.view(-1, 10)\n",
        "        return F.log_softmax(x, dim=-1)"
      ],
      "execution_count": 8,
      "outputs": []
    },
    {
      "cell_type": "markdown",
      "metadata": {
        "id": "M3-vp8X9LCWo"
      },
      "source": [
        "# Model Params\n",
        "Can't emphasize on how important viewing Model Summary is.\n",
        "Unfortunately, there is no in-built model visualizer, so we have to take external help"
      ]
    },
    {
      "cell_type": "code",
      "metadata": {
        "id": "5skB97zIJQQe",
        "colab": {
          "base_uri": "https://localhost:8080/"
        },
        "outputId": "a6d4977e-a10a-4fd7-b59e-529a0fb52353"
      },
      "source": [
        "!pip install torchsummary\n",
        "from torchsummary import summary\n",
        "use_cuda = torch.cuda.is_available()\n",
        "device = torch.device(\"cuda\" if use_cuda else \"cpu\")\n",
        "print(device)\n",
        "model = Net().to(device)\n",
        "summary(model, input_size=(3, 32, 32))"
      ],
      "execution_count": 9,
      "outputs": [
        {
          "output_type": "stream",
          "name": "stdout",
          "text": [
            "Looking in indexes: https://pypi.org/simple, https://us-python.pkg.dev/colab-wheels/public/simple/\n",
            "Requirement already satisfied: torchsummary in /usr/local/lib/python3.10/dist-packages (1.5.1)\n",
            "cuda\n",
            "----------------------------------------------------------------\n",
            "        Layer (type)               Output Shape         Param #\n",
            "================================================================\n",
            "            Conv2d-1           [-1, 32, 32, 32]             864\n",
            "              ReLU-2           [-1, 32, 32, 32]               0\n",
            "         GroupNorm-3           [-1, 32, 32, 32]              64\n",
            "           Dropout-4           [-1, 32, 32, 32]               0\n",
            "            Conv2d-5           [-1, 16, 32, 32]           4,608\n",
            "              ReLU-6           [-1, 16, 32, 32]               0\n",
            "         GroupNorm-7           [-1, 16, 32, 32]              32\n",
            "           Dropout-8           [-1, 16, 32, 32]               0\n",
            "            Conv2d-9           [-1, 16, 34, 34]             256\n",
            "        GroupNorm-10           [-1, 16, 34, 34]              32\n",
            "        MaxPool2d-11           [-1, 16, 17, 17]               0\n",
            "           Conv2d-12           [-1, 32, 17, 17]           4,608\n",
            "             ReLU-13           [-1, 32, 17, 17]               0\n",
            "        GroupNorm-14           [-1, 32, 17, 17]              64\n",
            "          Dropout-15           [-1, 32, 17, 17]               0\n",
            "           Conv2d-16           [-1, 32, 17, 17]           9,216\n",
            "             ReLU-17           [-1, 32, 17, 17]               0\n",
            "        GroupNorm-18           [-1, 32, 17, 17]              64\n",
            "          Dropout-19           [-1, 32, 17, 17]               0\n",
            "           Conv2d-20           [-1, 32, 17, 17]           9,216\n",
            "             ReLU-21           [-1, 32, 17, 17]               0\n",
            "        GroupNorm-22           [-1, 32, 17, 17]              64\n",
            "          Dropout-23           [-1, 32, 17, 17]               0\n",
            "           Conv2d-24           [-1, 16, 19, 19]             512\n",
            "        GroupNorm-25           [-1, 16, 19, 19]              32\n",
            "        MaxPool2d-26             [-1, 16, 9, 9]               0\n",
            "           Conv2d-27             [-1, 32, 9, 9]           4,608\n",
            "             ReLU-28             [-1, 32, 9, 9]               0\n",
            "        GroupNorm-29             [-1, 32, 9, 9]              64\n",
            "          Dropout-30             [-1, 32, 9, 9]               0\n",
            "           Conv2d-31             [-1, 64, 9, 9]          18,432\n",
            "             ReLU-32             [-1, 64, 9, 9]               0\n",
            "        GroupNorm-33             [-1, 64, 9, 9]             128\n",
            "          Dropout-34             [-1, 64, 9, 9]               0\n",
            "           Conv2d-35             [-1, 32, 9, 9]          18,432\n",
            "             ReLU-36             [-1, 32, 9, 9]               0\n",
            "        GroupNorm-37             [-1, 32, 9, 9]              64\n",
            "          Dropout-38             [-1, 32, 9, 9]               0\n",
            "        AvgPool2d-39             [-1, 32, 1, 1]               0\n",
            "           Conv2d-40             [-1, 10, 1, 1]             320\n",
            "================================================================\n",
            "Total params: 71,680\n",
            "Trainable params: 71,680\n",
            "Non-trainable params: 0\n",
            "----------------------------------------------------------------\n",
            "Input size (MB): 0.01\n",
            "Forward/backward pass size (MB): 3.08\n",
            "Params size (MB): 0.27\n",
            "Estimated Total Size (MB): 3.36\n",
            "----------------------------------------------------------------\n"
          ]
        }
      ]
    },
    {
      "cell_type": "markdown",
      "metadata": {
        "id": "1__x_SbrL7z3"
      },
      "source": [
        "# Training and Testing\n",
        "\n",
        "All right, so we have 24M params, and that's too many, we know that. But the purpose of this notebook is to set things right for our future experiments.\n",
        "\n",
        "Looking at logs can be boring, so we'll introduce **tqdm** progressbar to get cooler logs.\n",
        "\n",
        "Let's write train and test functions"
      ]
    },
    {
      "cell_type": "code",
      "metadata": {
        "id": "fbkF2nN_LYIb"
      },
      "source": [
        "from tqdm import tqdm\n",
        "\n",
        "train_losses = []\n",
        "test_losses = []\n",
        "train_acc = []\n",
        "test_acc = []\n",
        "\n",
        "def train(model, device, train_loader, optimizer, epoch):\n",
        "  model.train()\n",
        "  pbar = tqdm(train_loader)\n",
        "  correct = 0\n",
        "  processed = 0\n",
        "  for batch_idx, (data, target) in enumerate(pbar):\n",
        "    # get samples\n",
        "    data, target = data.to(device), target.to(device)\n",
        "\n",
        "    # Init\n",
        "    optimizer.zero_grad()\n",
        "    # In PyTorch, we need to set the gradients to zero before starting to do backpropragation because PyTorch accumulates the gradients on subsequent backward passes.\n",
        "    # Because of this, when you start your training loop, ideally you should zero out the gradients so that you do the parameter update correctly.\n",
        "\n",
        "    # Predict\n",
        "    y_pred = model(data)\n",
        "\n",
        "    # Calculate loss\n",
        "    loss = F.nll_loss(y_pred, target)\n",
        "    train_losses.append(loss)\n",
        "\n",
        "    # Backpropagation\n",
        "    loss.backward()\n",
        "    optimizer.step()\n",
        "\n",
        "    # Update pbar-tqdm\n",
        "\n",
        "    pred = y_pred.argmax(dim=1, keepdim=True)  # get the index of the max log-probability\n",
        "    correct += pred.eq(target.view_as(pred)).sum().item()\n",
        "    processed += len(data)\n",
        "\n",
        "    pbar.set_description(desc= f'Loss={loss.item()} Batch_id={batch_idx} Accuracy={100*correct/processed:0.2f}')\n",
        "    train_acc.append(100*correct/processed)\n",
        "\n",
        "def test(model, device, test_loader):\n",
        "    model.eval()\n",
        "    test_loss = 0\n",
        "    correct = 0\n",
        "    with torch.no_grad():\n",
        "        for data, target in test_loader:\n",
        "            data, target = data.to(device), target.to(device)\n",
        "            output = model(data)\n",
        "            test_loss += F.nll_loss(output, target, reduction='sum').item()  # sum up batch loss\n",
        "            pred = output.argmax(dim=1, keepdim=True)  # get the index of the max log-probability\n",
        "            correct += pred.eq(target.view_as(pred)).sum().item()\n",
        "\n",
        "    test_loss /= len(test_loader.dataset)\n",
        "    test_losses.append(test_loss)\n",
        "\n",
        "    print('\\nTest set: Average loss: {:.4f}, Accuracy: {}/{} ({:.2f}%)\\n'.format(\n",
        "        test_loss, correct, len(test_loader.dataset),\n",
        "        100. * correct / len(test_loader.dataset)))\n",
        "\n",
        "    test_acc.append(100. * correct / len(test_loader.dataset))"
      ],
      "execution_count": 10,
      "outputs": []
    },
    {
      "cell_type": "code",
      "metadata": {
        "id": "aE5Le6FYHhc8",
        "colab": {
          "base_uri": "https://localhost:8080/"
        },
        "outputId": "6e182d03-c767-46df-f16d-2d6e27af167f"
      },
      "source": [
        "from torch.optim.lr_scheduler import StepLR\n",
        "\n",
        "model =  Net().to(device)\n",
        "optimizer = optim.SGD(model.parameters(), lr=0.01, momentum=0.9)\n",
        "scheduler = StepLR(optimizer, step_size=6, gamma=0.1)\n",
        "\n",
        "\n",
        "EPOCHS = 20\n",
        "for epoch in range(EPOCHS):\n",
        "    print(\"EPOCH:\", epoch)\n",
        "    train(model, device, train_loader, optimizer, epoch)\n",
        "    scheduler.step()\n",
        "    test(model, device, test_loader)"
      ],
      "execution_count": 11,
      "outputs": [
        {
          "output_type": "stream",
          "name": "stdout",
          "text": [
            "EPOCH: 0\n"
          ]
        },
        {
          "output_type": "stream",
          "name": "stderr",
          "text": [
            "Loss=1.5446165800094604 Batch_id=390 Accuracy=34.15: 100%|██████████| 391/391 [00:25<00:00, 15.05it/s]\n"
          ]
        },
        {
          "output_type": "stream",
          "name": "stdout",
          "text": [
            "\n",
            "Test set: Average loss: 1.6614, Accuracy: 3737/10000 (37.37%)\n",
            "\n",
            "EPOCH: 1\n"
          ]
        },
        {
          "output_type": "stream",
          "name": "stderr",
          "text": [
            "Loss=1.160522699356079 Batch_id=390 Accuracy=48.56: 100%|██████████| 391/391 [00:26<00:00, 14.72it/s]\n"
          ]
        },
        {
          "output_type": "stream",
          "name": "stdout",
          "text": [
            "\n",
            "Test set: Average loss: 1.2707, Accuracy: 5337/10000 (53.37%)\n",
            "\n",
            "EPOCH: 2\n"
          ]
        },
        {
          "output_type": "stream",
          "name": "stderr",
          "text": [
            "Loss=1.1371116638183594 Batch_id=390 Accuracy=56.51: 100%|██████████| 391/391 [00:18<00:00, 20.76it/s]\n"
          ]
        },
        {
          "output_type": "stream",
          "name": "stdout",
          "text": [
            "\n",
            "Test set: Average loss: 1.0953, Accuracy: 6066/10000 (60.66%)\n",
            "\n",
            "EPOCH: 3\n"
          ]
        },
        {
          "output_type": "stream",
          "name": "stderr",
          "text": [
            "Loss=1.0213375091552734 Batch_id=390 Accuracy=61.56: 100%|██████████| 391/391 [00:20<00:00, 18.74it/s]\n"
          ]
        },
        {
          "output_type": "stream",
          "name": "stdout",
          "text": [
            "\n",
            "Test set: Average loss: 0.9924, Accuracy: 6482/10000 (64.82%)\n",
            "\n",
            "EPOCH: 4\n"
          ]
        },
        {
          "output_type": "stream",
          "name": "stderr",
          "text": [
            "Loss=0.8668822050094604 Batch_id=390 Accuracy=65.22: 100%|██████████| 391/391 [00:19<00:00, 20.24it/s]\n"
          ]
        },
        {
          "output_type": "stream",
          "name": "stdout",
          "text": [
            "\n",
            "Test set: Average loss: 0.9428, Accuracy: 6732/10000 (67.32%)\n",
            "\n",
            "EPOCH: 5\n"
          ]
        },
        {
          "output_type": "stream",
          "name": "stderr",
          "text": [
            "Loss=0.9262970089912415 Batch_id=390 Accuracy=68.06: 100%|██████████| 391/391 [00:20<00:00, 18.99it/s]\n"
          ]
        },
        {
          "output_type": "stream",
          "name": "stdout",
          "text": [
            "\n",
            "Test set: Average loss: 0.8545, Accuracy: 6989/10000 (69.89%)\n",
            "\n",
            "EPOCH: 6\n"
          ]
        },
        {
          "output_type": "stream",
          "name": "stderr",
          "text": [
            "Loss=0.6681672930717468 Batch_id=390 Accuracy=72.84: 100%|██████████| 391/391 [00:23<00:00, 16.43it/s]\n"
          ]
        },
        {
          "output_type": "stream",
          "name": "stdout",
          "text": [
            "\n",
            "Test set: Average loss: 0.7797, Accuracy: 7298/10000 (72.98%)\n",
            "\n",
            "EPOCH: 7\n"
          ]
        },
        {
          "output_type": "stream",
          "name": "stderr",
          "text": [
            "Loss=0.6062544584274292 Batch_id=390 Accuracy=73.75: 100%|██████████| 391/391 [00:19<00:00, 20.18it/s]\n"
          ]
        },
        {
          "output_type": "stream",
          "name": "stdout",
          "text": [
            "\n",
            "Test set: Average loss: 0.7672, Accuracy: 7329/10000 (73.29%)\n",
            "\n",
            "EPOCH: 8\n"
          ]
        },
        {
          "output_type": "stream",
          "name": "stderr",
          "text": [
            "Loss=0.9509884715080261 Batch_id=390 Accuracy=74.20: 100%|██████████| 391/391 [00:20<00:00, 18.84it/s]\n"
          ]
        },
        {
          "output_type": "stream",
          "name": "stdout",
          "text": [
            "\n",
            "Test set: Average loss: 0.7628, Accuracy: 7350/10000 (73.50%)\n",
            "\n",
            "EPOCH: 9\n"
          ]
        },
        {
          "output_type": "stream",
          "name": "stderr",
          "text": [
            "Loss=0.7419139742851257 Batch_id=390 Accuracy=74.61: 100%|██████████| 391/391 [00:19<00:00, 20.06it/s]\n"
          ]
        },
        {
          "output_type": "stream",
          "name": "stdout",
          "text": [
            "\n",
            "Test set: Average loss: 0.7468, Accuracy: 7447/10000 (74.47%)\n",
            "\n",
            "EPOCH: 10\n"
          ]
        },
        {
          "output_type": "stream",
          "name": "stderr",
          "text": [
            "Loss=0.7296785712242126 Batch_id=390 Accuracy=74.63: 100%|██████████| 391/391 [00:21<00:00, 18.10it/s]\n"
          ]
        },
        {
          "output_type": "stream",
          "name": "stdout",
          "text": [
            "\n",
            "Test set: Average loss: 0.7504, Accuracy: 7408/10000 (74.08%)\n",
            "\n",
            "EPOCH: 11\n"
          ]
        },
        {
          "output_type": "stream",
          "name": "stderr",
          "text": [
            "Loss=0.9759791493415833 Batch_id=390 Accuracy=75.14: 100%|██████████| 391/391 [00:19<00:00, 20.31it/s]\n"
          ]
        },
        {
          "output_type": "stream",
          "name": "stdout",
          "text": [
            "\n",
            "Test set: Average loss: 0.7420, Accuracy: 7428/10000 (74.28%)\n",
            "\n",
            "EPOCH: 12\n"
          ]
        },
        {
          "output_type": "stream",
          "name": "stderr",
          "text": [
            "Loss=0.5238140821456909 Batch_id=390 Accuracy=75.85: 100%|██████████| 391/391 [00:20<00:00, 18.75it/s]\n"
          ]
        },
        {
          "output_type": "stream",
          "name": "stdout",
          "text": [
            "\n",
            "Test set: Average loss: 0.7377, Accuracy: 7417/10000 (74.17%)\n",
            "\n",
            "EPOCH: 13\n"
          ]
        },
        {
          "output_type": "stream",
          "name": "stderr",
          "text": [
            "Loss=0.7977338433265686 Batch_id=390 Accuracy=75.62: 100%|██████████| 391/391 [00:20<00:00, 18.70it/s]\n"
          ]
        },
        {
          "output_type": "stream",
          "name": "stdout",
          "text": [
            "\n",
            "Test set: Average loss: 0.7363, Accuracy: 7438/10000 (74.38%)\n",
            "\n",
            "EPOCH: 14\n"
          ]
        },
        {
          "output_type": "stream",
          "name": "stderr",
          "text": [
            "Loss=0.6884155869483948 Batch_id=390 Accuracy=75.98: 100%|██████████| 391/391 [00:19<00:00, 20.22it/s]\n"
          ]
        },
        {
          "output_type": "stream",
          "name": "stdout",
          "text": [
            "\n",
            "Test set: Average loss: 0.7359, Accuracy: 7435/10000 (74.35%)\n",
            "\n",
            "EPOCH: 15\n"
          ]
        },
        {
          "output_type": "stream",
          "name": "stderr",
          "text": [
            "Loss=0.5367088913917542 Batch_id=390 Accuracy=75.95: 100%|██████████| 391/391 [00:20<00:00, 19.27it/s]\n"
          ]
        },
        {
          "output_type": "stream",
          "name": "stdout",
          "text": [
            "\n",
            "Test set: Average loss: 0.7359, Accuracy: 7437/10000 (74.37%)\n",
            "\n",
            "EPOCH: 16\n"
          ]
        },
        {
          "output_type": "stream",
          "name": "stderr",
          "text": [
            "Loss=0.6390290260314941 Batch_id=390 Accuracy=75.96: 100%|██████████| 391/391 [00:19<00:00, 20.15it/s]\n"
          ]
        },
        {
          "output_type": "stream",
          "name": "stdout",
          "text": [
            "\n",
            "Test set: Average loss: 0.7363, Accuracy: 7440/10000 (74.40%)\n",
            "\n",
            "EPOCH: 17\n"
          ]
        },
        {
          "output_type": "stream",
          "name": "stderr",
          "text": [
            "Loss=0.7112063765525818 Batch_id=390 Accuracy=75.97: 100%|██████████| 391/391 [00:20<00:00, 18.88it/s]\n"
          ]
        },
        {
          "output_type": "stream",
          "name": "stdout",
          "text": [
            "\n",
            "Test set: Average loss: 0.7346, Accuracy: 7438/10000 (74.38%)\n",
            "\n",
            "EPOCH: 18\n"
          ]
        },
        {
          "output_type": "stream",
          "name": "stderr",
          "text": [
            "Loss=0.735722541809082 Batch_id=390 Accuracy=76.05: 100%|██████████| 391/391 [00:19<00:00, 20.37it/s]\n"
          ]
        },
        {
          "output_type": "stream",
          "name": "stdout",
          "text": [
            "\n",
            "Test set: Average loss: 0.7343, Accuracy: 7440/10000 (74.40%)\n",
            "\n",
            "EPOCH: 19\n"
          ]
        },
        {
          "output_type": "stream",
          "name": "stderr",
          "text": [
            "Loss=0.5918418169021606 Batch_id=390 Accuracy=76.01: 100%|██████████| 391/391 [00:21<00:00, 18.41it/s]\n"
          ]
        },
        {
          "output_type": "stream",
          "name": "stdout",
          "text": [
            "\n",
            "Test set: Average loss: 0.7337, Accuracy: 7443/10000 (74.43%)\n",
            "\n"
          ]
        }
      ]
    },
    {
      "cell_type": "code",
      "source": [
        "torch.save(model.state_dict(),'/content/drive/MyDrive/ERA/ERA_S8/modelln2.pth')"
      ],
      "metadata": {
        "id": "PNjl0K78sX59"
      },
      "execution_count": null,
      "outputs": []
    },
    {
      "cell_type": "code",
      "source": [
        "t = [t_items.item() for t_items in train_losses]\n",
        "%matplotlib inline\n",
        "import matplotlib.pyplot as plt\n",
        "fig, axs = plt.subplots(2,2,figsize=(15,10))\n",
        "axs[0, 0].plot(t)\n",
        "axs[0, 0].set_title(\"Training Loss\")\n",
        "axs[1, 0].plot(train_acc)\n",
        "axs[1, 0].set_title(\"Training Accuracy\")\n",
        "axs[0, 1].plot(test_losses)\n",
        "axs[0, 1].set_title(\"Test Loss\")\n",
        "axs[1, 1].plot(test_acc)\n",
        "axs[1, 1].set_title(\"Test Accuracy\")"
      ],
      "metadata": {
        "id": "fKeBz_bFDIBd",
        "colab": {
          "base_uri": "https://localhost:8080/",
          "height": 871
        },
        "outputId": "0ceaa429-321f-4042-d6be-5a483874fce9"
      },
      "execution_count": 12,
      "outputs": [
        {
          "output_type": "execute_result",
          "data": {
            "text/plain": [
              "Text(0.5, 1.0, 'Test Accuracy')"
            ]
          },
          "metadata": {},
          "execution_count": 12
        },
        {
          "output_type": "display_data",
          "data": {
            "text/plain": [
              "<Figure size 1500x1000 with 4 Axes>"
            ],
            "image/png": "[encoded data removed]"
          },
          "metadata": {}
        }
      ]
    },
    {
      "cell_type": "code",
      "source": [
        "dataiter = iter(test_loader)\n",
        "images, labels = next(dataiter)\n",
        "print(labels)\n",
        "model.eval()\n",
        "test_loss = 0\n",
        "pred = []\n",
        "with torch.no_grad():\n",
        "  data, target = images.to(device), labels.to(device)\n",
        "  output = model(data)\n",
        "  test_loss += F.nll_loss(output, target, reduction='sum').item()  # sum up batch loss\n",
        "  p = output.argmax(dim=1, keepdim=True)\n",
        "  print(p.tolist())\n",
        "  #pred.append(output.argmax(dim=1, keepdim=True)[1].tolist()) # get the index of the max log-probability\n",
        "pred = [t_items.item() for t_items in p]\n",
        "target = [t_items.item() for t_items in target]\n",
        "print('prediction:',pred)\n",
        "print('target:',target)\n",
        "res = [idx for idx, elem in enumerate(pred)\n",
        "                           if elem != target[idx]]\n",
        "\n"
      ],
      "metadata": {
        "colab": {
          "base_uri": "https://localhost:8080/"
        },
        "id": "D3c_QNT9weZM",
        "outputId": "d7c3b940-c954-407c-c5cb-63a14b9b04c1"
      },
      "execution_count": 13,
      "outputs": [
        {
          "output_type": "stream",
          "name": "stdout",
          "text": [
            "tensor([0, 4, 7, 2, 5, 5, 0, 2, 7, 8, 2, 1, 3, 6, 3, 3, 4, 9, 1, 2, 2, 9, 0, 2,\n",
            "        9, 8, 3, 9, 7, 8, 2, 3, 6, 0, 9, 1, 2, 4, 5, 6, 6, 6, 9, 2, 8, 9, 0, 4,\n",
            "        1, 0, 5, 6, 4, 1, 3, 7, 8, 4, 4, 7, 3, 8, 8, 9, 5, 5, 7, 9, 5, 2, 2, 4,\n",
            "        7, 9, 2, 6, 1, 8, 5, 6, 1, 6, 1, 9, 3, 4, 0, 2, 5, 2, 4, 7, 7, 5, 7, 3,\n",
            "        5, 5, 1, 0, 3, 8, 0, 6, 5, 4, 8, 2, 5, 7, 6, 2, 2, 3, 4, 2, 1, 7, 4, 9,\n",
            "        7, 4, 6, 3, 9, 9, 2, 9])\n",
            "[[0], [4], [5], [2], [3], [2], [0], [2], [7], [8], [2], [1], [3], [6], [3], [5], [4], [9], [1], [4], [2], [9], [0], [2], [9], [8], [3], [9], [0], [0], [2], [0], [6], [0], [9], [9], [2], [4], [5], [6], [6], [6], [9], [4], [8], [8], [0], [4], [1], [0], [2], [6], [4], [1], [3], [7], [8], [2], [4], [7], [3], [0], [8], [9], [5], [3], [7], [9], [5], [4], [4], [4], [7], [9], [2], [3], [1], [8], [1], [3], [1], [6], [1], [9], [6], [4], [2], [2], [5], [2], [5], [8], [7], [5], [7], [0], [3], [3], [1], [0], [3], [8], [0], [6], [5], [4], [8], [2], [5], [7], [2], [2], [2], [3], [4], [4], [8], [7], [2], [9], [7], [4], [6], [5], [9], [9], [3], [9]]\n",
            "prediction: [0, 4, 5, 2, 3, 2, 0, 2, 7, 8, 2, 1, 3, 6, 3, 5, 4, 9, 1, 4, 2, 9, 0, 2, 9, 8, 3, 9, 0, 0, 2, 0, 6, 0, 9, 9, 2, 4, 5, 6, 6, 6, 9, 4, 8, 8, 0, 4, 1, 0, 2, 6, 4, 1, 3, 7, 8, 2, 4, 7, 3, 0, 8, 9, 5, 3, 7, 9, 5, 4, 4, 4, 7, 9, 2, 3, 1, 8, 1, 3, 1, 6, 1, 9, 6, 4, 2, 2, 5, 2, 5, 8, 7, 5, 7, 0, 3, 3, 1, 0, 3, 8, 0, 6, 5, 4, 8, 2, 5, 7, 2, 2, 2, 3, 4, 4, 8, 7, 2, 9, 7, 4, 6, 5, 9, 9, 3, 9]\n",
            "target: [0, 4, 7, 2, 5, 5, 0, 2, 7, 8, 2, 1, 3, 6, 3, 3, 4, 9, 1, 2, 2, 9, 0, 2, 9, 8, 3, 9, 7, 8, 2, 3, 6, 0, 9, 1, 2, 4, 5, 6, 6, 6, 9, 2, 8, 9, 0, 4, 1, 0, 5, 6, 4, 1, 3, 7, 8, 4, 4, 7, 3, 8, 8, 9, 5, 5, 7, 9, 5, 2, 2, 4, 7, 9, 2, 6, 1, 8, 5, 6, 1, 6, 1, 9, 3, 4, 0, 2, 5, 2, 4, 7, 7, 5, 7, 3, 5, 5, 1, 0, 3, 8, 0, 6, 5, 4, 8, 2, 5, 7, 6, 2, 2, 3, 4, 2, 1, 7, 4, 9, 7, 4, 6, 3, 9, 9, 2, 9]\n"
          ]
        }
      ]
    },
    {
      "cell_type": "code",
      "source": [
        "ind = [i for i in range(10)]\n",
        "label_dict=dict(zip(ind,cls))\n",
        "new = res[0:10]\n",
        "print(len(new))"
      ],
      "metadata": {
        "colab": {
          "base_uri": "https://localhost:8080/"
        },
        "id": "3UDh8EeCNjQr",
        "outputId": "e844f53d-3944-428c-9271-bfdef80afc83"
      },
      "execution_count": 14,
      "outputs": [
        {
          "output_type": "stream",
          "name": "stdout",
          "text": [
            "10\n"
          ]
        }
      ]
    },
    {
      "cell_type": "code",
      "source": [
        "fig, axs = plt.subplots(5, 2 ,layout='constrained')\n",
        "axs[0, 0].imshow(images[new[0]].permute((1, 2, 0)))\n",
        "axs[0,0].set_title(label_dict[pred[new[0]]], fontsize = '10')\n",
        "axs[0,0].annotate(label_dict[target[new[0]]], xy=(0,27),fontsize = '10')\n",
        "\n",
        "axs[0, 1].imshow(images[new[1]].permute((1, 2, 0)))\n",
        "axs[0,1].set_title(label_dict[pred[new[1]]], fontsize = '10')\n",
        "axs[0,1].annotate(label_dict[target[new[1]]], xy=(0,27),fontsize = '10')\n",
        "\n",
        "axs[1, 0].imshow(images[new[2]].permute((1, 2, 0)))\n",
        "axs[1,0].set_title(label_dict[pred[new[2]]], fontsize = '10')\n",
        "axs[1,0].annotate(label_dict[target[new[2]]], xy=(0,27),fontsize = '10')\n",
        "\n",
        "axs[1, 1].imshow(images[new[3]].permute((1, 2, 0)))\n",
        "axs[1,1].set_title(label_dict[pred[new[3]]], fontsize = '10')\n",
        "axs[1,1].annotate(label_dict[target[new[3]]], xy=(0,27),fontsize = '10')\n",
        "\n",
        "axs[2, 0].imshow(images[new[4]].permute((1, 2, 0)))\n",
        "axs[2,0].set_title(label_dict[pred[new[4]]], fontsize = '10')\n",
        "axs[2,0].annotate(label_dict[target[new[4]]], xy=(0,27),fontsize = '10')\n",
        "\n",
        "axs[2, 1].imshow(images[new[5]].permute((1, 2, 0)))\n",
        "axs[2,1].set_title(label_dict[pred[new[5]]], fontsize = '10')\n",
        "axs[2,1].annotate(label_dict[target[new[5]]], xy=(0,27),fontsize = '10')\n",
        "\n",
        "axs[3, 0].imshow(images[new[6]].permute((1, 2, 0)))\n",
        "axs[3,0].set_title(label_dict[pred[new[6]]], fontsize = '10')\n",
        "axs[3,0].annotate(label_dict[target[new[6]]], xy=(0,27),fontsize = '10')\n",
        "\n",
        "axs[3, 1].imshow(images[new[7]].permute((1, 2, 0)))\n",
        "axs[3,1].set_title(label_dict[pred[new[7]]], fontsize = '10')\n",
        "axs[3,1].annotate(label_dict[target[new[7]]], xy=(0,27),fontsize = '10')\n",
        "\n",
        "axs[4, 0].imshow(images[new[8]].permute((1, 2, 0)))\n",
        "axs[4,0].set_title(label_dict[pred[new[8]]], fontsize = '10')\n",
        "axs[4,0].annotate(label_dict[target[new[8]]], xy=(0,27),fontsize = '10')\n",
        "\n",
        "axs[4, 1].imshow(images[new[9]].permute((1, 2, 0)))\n",
        "axs[4,1].set_title(label_dict[pred[new[9]]], fontsize = '10')\n",
        "axs[4,1].annotate(label_dict[target[new[9]]], xy=(0,27),fontsize = '10')\n",
        "\n",
        "\n"
      ],
      "metadata": {
        "colab": {
          "base_uri": "https://localhost:8080/",
          "height": 704
        },
        "id": "889EcJKRo383",
        "outputId": "9bd580b5-8ab4-4d92-ac81-e8a977c897aa"
      },
      "execution_count": 15,
      "outputs": [
        {
          "output_type": "stream",
          "name": "stderr",
          "text": [
            "WARNING:matplotlib.image:Clipping input data to the valid range for imshow with RGB data ([0..1] for floats or [0..255] for integers).\n",
            "WARNING:matplotlib.image:Clipping input data to the valid range for imshow with RGB data ([0..1] for floats or [0..255] for integers).\n",
            "WARNING:matplotlib.image:Clipping input data to the valid range for imshow with RGB data ([0..1] for floats or [0..255] for integers).\n",
            "WARNING:matplotlib.image:Clipping input data to the valid range for imshow with RGB data ([0..1] for floats or [0..255] for integers).\n",
            "WARNING:matplotlib.image:Clipping input data to the valid range for imshow with RGB data ([0..1] for floats or [0..255] for integers).\n",
            "WARNING:matplotlib.image:Clipping input data to the valid range for imshow with RGB data ([0..1] for floats or [0..255] for integers).\n",
            "WARNING:matplotlib.image:Clipping input data to the valid range for imshow with RGB data ([0..1] for floats or [0..255] for integers).\n",
            "WARNING:matplotlib.image:Clipping input data to the valid range for imshow with RGB data ([0..1] for floats or [0..255] for integers).\n",
            "WARNING:matplotlib.image:Clipping input data to the valid range for imshow with RGB data ([0..1] for floats or [0..255] for integers).\n",
            "WARNING:matplotlib.image:Clipping input data to the valid range for imshow with RGB data ([0..1] for floats or [0..255] for integers).\n"
          ]
        },
        {
          "output_type": "execute_result",
          "data": {
            "text/plain": [
              "Text(0, 27, 'bird')"
            ]
          },
          "metadata": {},
          "execution_count": 15
        },
        {
          "output_type": "display_data",
          "data": {
            "text/plain": [
              "<Figure size 640x480 with 10 Axes>"
            ],
            "image/png": "[encoded data removed]"
          },
          "metadata": {}
        }
      ]
    }
  ]
}