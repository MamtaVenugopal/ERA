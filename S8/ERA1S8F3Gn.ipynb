{
  "nbformat": 4,
  "nbformat_minor": 0,
  "metadata": {
    "colab": {
      "provenance": [],
      "gpuType": "V100"
    },
    "kernelspec": {
      "name": "python3",
      "display_name": "Python 3"
    },
    "accelerator": "GPU"
  },
  "cells": [
    {
      "cell_type": "markdown",
      "metadata": {
        "id": "aO-7t1Y7-hV4"
      },
      "source": [
        "# Import Libraries"
      ]
    },
    {
      "cell_type": "code",
      "metadata": {
        "id": "8kH16rnZ7wt_"
      },
      "source": [
        "from __future__ import print_function\n",
        "import torch\n",
        "import torch.nn as nn\n",
        "import torch.nn.functional as F\n",
        "import torch.optim as optim\n",
        "from torchvision import datasets, transforms\n",
        "import matplotlib.pyplot as plt\n",
        "from torchvision.utils import make_grid\n",
        "import warnings\n",
        "warnings.filterwarnings('ignore')\n"
      ],
      "execution_count": 1,
      "outputs": []
    },
    {
      "cell_type": "code",
      "source": [
        "from google.colab import drive\n",
        "drive.mount('/content/drive')"
      ],
      "metadata": {
        "colab": {
          "base_uri": "https://localhost:8080/"
        },
        "id": "RjtUDv30tcV-",
        "outputId": "041b2a18-6081-471c-893a-d09c6934c371"
      },
      "execution_count": 2,
      "outputs": [
        {
          "output_type": "stream",
          "name": "stdout",
          "text": [
            "Mounted at /content/drive\n"
          ]
        }
      ]
    },
    {
      "cell_type": "markdown",
      "metadata": {
        "id": "ky3f_Odl-7um"
      },
      "source": [
        "## Data Transformations\n",
        "\n",
        "We first start with defining our data transformations. We need to think what our data is and how can we augment it to correct represent images which it might not see otherwise.\n"
      ]
    },
    {
      "cell_type": "code",
      "metadata": {
        "id": "YtssFUKb-jqx"
      },
      "source": [
        "# Train Phase transformations\n",
        "train_transforms = transforms.Compose([\n",
        "                                      #  transforms.Resize((28, 28)),\n",
        "                                      #  transforms.ColorJitter(brightness=0.10, contrast=0.1, saturation=0.10, hue=0.1),\n",
        "\n",
        "                                       transforms.ToTensor(),\n",
        "                                       transforms.Normalize((0.1307,), (0.3081,)) # The mean and std have to be sequences (e.g., tuples), therefore you should add a comma after the values.\n",
        "                                       # Note the difference between (0.1307) and (0.1307,)\n",
        "                                       ])\n",
        "\n",
        "# Test Phase transformations\n",
        "test_transforms = transforms.Compose([\n",
        "                                      #  transforms.Resize((28, 28)),\n",
        "                                      #  transforms.ColorJitter(brightness=0.10, contrast=0.1, saturation=0.10, hue=0.1),\n",
        "                                       transforms.ToTensor(),\n",
        "                                       transforms.Normalize((0.1307,), (0.3081,))\n",
        "                                       ])\n"
      ],
      "execution_count": 3,
      "outputs": []
    },
    {
      "cell_type": "markdown",
      "metadata": {
        "id": "oQciFYo2B1mO"
      },
      "source": [
        "# Dataset and Creating Train/Test Split"
      ]
    },
    {
      "cell_type": "code",
      "metadata": {
        "id": "_4A84rlfDA23",
        "colab": {
          "base_uri": "https://localhost:8080/"
        },
        "outputId": "6435786b-cb05-463d-fd22-9af86b254178"
      },
      "source": [
        "train = datasets.CIFAR10('./data', train=True, download=True, transform=train_transforms)\n",
        "test = datasets.CIFAR10('./data', train=False, download=True, transform=test_transforms)"
      ],
      "execution_count": 4,
      "outputs": [
        {
          "output_type": "stream",
          "name": "stdout",
          "text": [
            "Downloading https://www.cs.toronto.edu/~kriz/cifar-10-python.tar.gz to ./data/cifar-10-python.tar.gz\n"
          ]
        },
        {
          "output_type": "stream",
          "name": "stderr",
          "text": [
            "100%|██████████| 170498071/170498071 [00:07<00:00, 21949262.71it/s]\n"
          ]
        },
        {
          "output_type": "stream",
          "name": "stdout",
          "text": [
            "Extracting ./data/cifar-10-python.tar.gz to ./data\n",
            "Files already downloaded and verified\n"
          ]
        }
      ]
    },
    {
      "cell_type": "code",
      "source": [
        "cls=train.classes"
      ],
      "metadata": {
        "id": "QuSZlGgDk02_"
      },
      "execution_count": 5,
      "outputs": []
    },
    {
      "cell_type": "markdown",
      "metadata": {
        "id": "qgldp_3-Dn0c"
      },
      "source": [
        "# Dataloader Arguments & Test/Train Dataloaders\n"
      ]
    },
    {
      "cell_type": "code",
      "metadata": {
        "id": "C8OLDR79DrHG",
        "colab": {
          "base_uri": "https://localhost:8080/"
        },
        "outputId": "83079a24-7f38-4923-a706-21518a60d7bb"
      },
      "source": [
        "SEED = 1\n",
        "\n",
        "# CUDA?\n",
        "cuda = torch.cuda.is_available()\n",
        "print(\"CUDA Available?\", cuda)\n",
        "\n",
        "# For reproducibility\n",
        "torch.manual_seed(SEED)\n",
        "\n",
        "if cuda:\n",
        "    torch.cuda.manual_seed(SEED)\n",
        "\n",
        "# dataloader arguments - something you'll fetch these from cmdprmt\n",
        "dataloader_args = dict(shuffle=True, batch_size=128, num_workers=4, pin_memory=True) if cuda else dict(shuffle=True, batch_size=64)\n",
        "\n",
        "# train dataloader\n",
        "train_loader = torch.utils.data.DataLoader(train, **dataloader_args)\n",
        "\n",
        "# test dataloader\n",
        "test_loader = torch.utils.data.DataLoader(test, **dataloader_args)"
      ],
      "execution_count": 6,
      "outputs": [
        {
          "output_type": "stream",
          "name": "stdout",
          "text": [
            "CUDA Available? True\n"
          ]
        }
      ]
    },
    {
      "cell_type": "markdown",
      "metadata": {
        "id": "ubQL3H6RJL3h"
      },
      "source": [
        "# The model\n",
        "Let's start with the model we first saw"
      ]
    },
    {
      "cell_type": "code",
      "metadata": {
        "id": "7FXQlB9kH1ov"
      },
      "source": [
        "import torch.nn.functional as F\n",
        "dropout_value = 0.1\n",
        "num_groups = 2\n",
        "class Net(nn.Module):\n",
        "    def __init__(self):\n",
        "        super(Net, self).__init__()\n",
        "        # Input Block C1\n",
        "        self.convblock1 = nn.Sequential(\n",
        "            nn.Conv2d(in_channels=3, out_channels=32, kernel_size=(3, 3), padding=1, bias=False),\n",
        "            nn.ReLU(),\n",
        "            nn.GroupNorm(num_groups, 32),\n",
        "            nn.Dropout(dropout_value)\n",
        "        ) # output_size = 32\n",
        "\n",
        "        # CONVOLUTION BLOCK C2\n",
        "        self.convblock2 = nn.Sequential(\n",
        "            nn.Conv2d(in_channels=32, out_channels=16, kernel_size=(3, 3), padding=1, bias=False),\n",
        "            nn.ReLU(),\n",
        "            nn.GroupNorm(num_groups, 16),\n",
        "            nn.Dropout(dropout_value)\n",
        "        ) # output_size = 32\n",
        "\n",
        "        # TRANSITION BLOCK 1\n",
        "        self.c3 = nn.Sequential(\n",
        "            nn.Conv2d(in_channels=16, out_channels=16, kernel_size=(1, 1), padding=1, bias=False),\n",
        "            nn.GroupNorm(num_groups, 16)\n",
        "        ) # output_size = 32\n",
        "        self.pool1 = nn.MaxPool2d(2, 2) # output_size = 16\n",
        "\n",
        "        # CONVOLUTION BLOCK C3\n",
        "        self.convblock3 = nn.Sequential(\n",
        "            nn.Conv2d(in_channels=16, out_channels=32, kernel_size=(3, 3), padding=1, bias=False),\n",
        "            nn.ReLU(),\n",
        "            nn.GroupNorm(num_groups, 32),\n",
        "            nn.Dropout(dropout_value)\n",
        "        ) # output_size = 16\n",
        "        # CONVOLUTION BLOCK C4\n",
        "        self.convblock4 = nn.Sequential(\n",
        "            nn.Conv2d(in_channels=32, out_channels=32, kernel_size=(3, 3), padding=1, bias=False),\n",
        "            nn.ReLU(),\n",
        "            nn.GroupNorm(num_groups, 32),\n",
        "            nn.Dropout(dropout_value)\n",
        "        ) # output_size = 16\n",
        "        # CONVOLUTION BLOCK C5\n",
        "        self.convblock5 = nn.Sequential(\n",
        "            nn.Conv2d(in_channels=32, out_channels=32, kernel_size=(3, 3), padding=1, bias=False),\n",
        "            nn.ReLU(),\n",
        "            nn.GroupNorm(num_groups, 32),\n",
        "            nn.Dropout(dropout_value)\n",
        "        ) # output_size = 16\n",
        "\n",
        "       # TRANSITION BLOCK 2\n",
        "        self.c6 = nn.Sequential(\n",
        "            nn.Conv2d(in_channels=32, out_channels=16, kernel_size=(1, 1), padding=1, bias=False),\n",
        "            nn.GroupNorm(num_groups, 16)\n",
        "        ) # output_size = 16\n",
        "        self.pool2 = nn.MaxPool2d(2, 2) # output_size = 8\n",
        "\n",
        "        # CONVOLUTION BLOCK C7\n",
        "        self.convblock7 = nn.Sequential(\n",
        "            nn.Conv2d(in_channels=16, out_channels=16, kernel_size=(3, 3), padding=1, bias=False),\n",
        "            nn.ReLU(),\n",
        "            nn.GroupNorm(num_groups, 16),\n",
        "            nn.Dropout(dropout_value)\n",
        "        ) # output_size = 8\n",
        "        # CONVOLUTION BLOCK C8\n",
        "        self.convblock8 = nn.Sequential(\n",
        "            nn.Conv2d(in_channels=16, out_channels=32, kernel_size=(3, 3), padding=1, bias=False),\n",
        "            nn.ReLU(),\n",
        "            nn.GroupNorm(num_groups, 32),\n",
        "            nn.Dropout(dropout_value)\n",
        "        ) # output_size = 8\n",
        "        # CONVOLUTION BLOCK C9\n",
        "        self.convblock9 = nn.Sequential(\n",
        "            nn.Conv2d(in_channels=32, out_channels=32, kernel_size=(3, 3), padding=1, bias=False),\n",
        "            nn.ReLU(),\n",
        "            nn.GroupNorm(num_groups, 32),\n",
        "            nn.Dropout(dropout_value)\n",
        "        ) # output_size = 8\n",
        "\n",
        "        # OUTPUT BLOCK\n",
        "        self.gap = nn.Sequential(\n",
        "            nn.AvgPool2d(kernel_size=8)\n",
        "        ) # output_size = 1\n",
        "        # CONVOLUTION BLOCK C10\n",
        "        self.convblock10 = nn.Sequential(\n",
        "            nn.Conv2d(in_channels=32, out_channels=10, kernel_size=(1, 1), padding=0, bias=False),\n",
        "            # nn.BatchNorm2d(10),\n",
        "            # nn.ReLU(),\n",
        "            # nn.Dropout(dropout_value)\n",
        "        )\n",
        "\n",
        "\n",
        "        self.dropout = nn.Dropout(dropout_value)\n",
        "\n",
        "    def forward(self, x):\n",
        "        x = self.convblock1(x)\n",
        "        x = self.convblock2(x)\n",
        "        x = self.c3(x)\n",
        "        x = self.pool1(x)\n",
        "        x = self.convblock3(x)\n",
        "        x = self.convblock4(x)\n",
        "        x = self.convblock5(x)\n",
        "        x = self.c6(x)\n",
        "        x = self.pool2(x)\n",
        "        x = self.convblock7(x)\n",
        "        x = self.convblock8(x)\n",
        "        x = self.convblock9(x)\n",
        "        x = self.gap(x)\n",
        "        x = self.convblock10(x)\n",
        "\n",
        "        x = x.view(-1, 10)\n",
        "        return F.log_softmax(x, dim=-1)"
      ],
      "execution_count": 8,
      "outputs": []
    },
    {
      "cell_type": "markdown",
      "metadata": {
        "id": "M3-vp8X9LCWo"
      },
      "source": [
        "# Model Params\n",
        "Can't emphasize on how important viewing Model Summary is.\n",
        "Unfortunately, there is no in-built model visualizer, so we have to take external help"
      ]
    },
    {
      "cell_type": "code",
      "metadata": {
        "id": "5skB97zIJQQe",
        "colab": {
          "base_uri": "https://localhost:8080/"
        },
        "outputId": "6c7c664c-5eaf-40f9-f92c-778ada1290e6"
      },
      "source": [
        "!pip install torchsummary\n",
        "from torchsummary import summary\n",
        "use_cuda = torch.cuda.is_available()\n",
        "device = torch.device(\"cuda\" if use_cuda else \"cpu\")\n",
        "print(device)\n",
        "model = Net().to(device)\n",
        "summary(model, input_size=(3, 32, 32))"
      ],
      "execution_count": 9,
      "outputs": [
        {
          "output_type": "stream",
          "name": "stdout",
          "text": [
            "Looking in indexes: https://pypi.org/simple, https://us-python.pkg.dev/colab-wheels/public/simple/\n",
            "Requirement already satisfied: torchsummary in /usr/local/lib/python3.10/dist-packages (1.5.1)\n",
            "cuda\n",
            "----------------------------------------------------------------\n",
            "        Layer (type)               Output Shape         Param #\n",
            "================================================================\n",
            "            Conv2d-1           [-1, 32, 32, 32]             864\n",
            "              ReLU-2           [-1, 32, 32, 32]               0\n",
            "         GroupNorm-3           [-1, 32, 32, 32]              64\n",
            "           Dropout-4           [-1, 32, 32, 32]               0\n",
            "            Conv2d-5           [-1, 16, 32, 32]           4,608\n",
            "              ReLU-6           [-1, 16, 32, 32]               0\n",
            "         GroupNorm-7           [-1, 16, 32, 32]              32\n",
            "           Dropout-8           [-1, 16, 32, 32]               0\n",
            "            Conv2d-9           [-1, 16, 34, 34]             256\n",
            "        GroupNorm-10           [-1, 16, 34, 34]              32\n",
            "        MaxPool2d-11           [-1, 16, 17, 17]               0\n",
            "           Conv2d-12           [-1, 32, 17, 17]           4,608\n",
            "             ReLU-13           [-1, 32, 17, 17]               0\n",
            "        GroupNorm-14           [-1, 32, 17, 17]              64\n",
            "          Dropout-15           [-1, 32, 17, 17]               0\n",
            "           Conv2d-16           [-1, 32, 17, 17]           9,216\n",
            "             ReLU-17           [-1, 32, 17, 17]               0\n",
            "        GroupNorm-18           [-1, 32, 17, 17]              64\n",
            "          Dropout-19           [-1, 32, 17, 17]               0\n",
            "           Conv2d-20           [-1, 32, 17, 17]           9,216\n",
            "             ReLU-21           [-1, 32, 17, 17]               0\n",
            "        GroupNorm-22           [-1, 32, 17, 17]              64\n",
            "          Dropout-23           [-1, 32, 17, 17]               0\n",
            "           Conv2d-24           [-1, 16, 19, 19]             512\n",
            "        GroupNorm-25           [-1, 16, 19, 19]              32\n",
            "        MaxPool2d-26             [-1, 16, 9, 9]               0\n",
            "           Conv2d-27             [-1, 16, 9, 9]           2,304\n",
            "             ReLU-28             [-1, 16, 9, 9]               0\n",
            "        GroupNorm-29             [-1, 16, 9, 9]              32\n",
            "          Dropout-30             [-1, 16, 9, 9]               0\n",
            "           Conv2d-31             [-1, 32, 9, 9]           4,608\n",
            "             ReLU-32             [-1, 32, 9, 9]               0\n",
            "        GroupNorm-33             [-1, 32, 9, 9]              64\n",
            "          Dropout-34             [-1, 32, 9, 9]               0\n",
            "           Conv2d-35             [-1, 32, 9, 9]           9,216\n",
            "             ReLU-36             [-1, 32, 9, 9]               0\n",
            "        GroupNorm-37             [-1, 32, 9, 9]              64\n",
            "          Dropout-38             [-1, 32, 9, 9]               0\n",
            "        AvgPool2d-39             [-1, 32, 1, 1]               0\n",
            "           Conv2d-40             [-1, 10, 1, 1]             320\n",
            "================================================================\n",
            "Total params: 46,240\n",
            "Trainable params: 46,240\n",
            "Non-trainable params: 0\n",
            "----------------------------------------------------------------\n",
            "Input size (MB): 0.01\n",
            "Forward/backward pass size (MB): 2.96\n",
            "Params size (MB): 0.18\n",
            "Estimated Total Size (MB): 3.15\n",
            "----------------------------------------------------------------\n"
          ]
        }
      ]
    },
    {
      "cell_type": "markdown",
      "metadata": {
        "id": "1__x_SbrL7z3"
      },
      "source": [
        "# Training and Testing\n",
        "\n",
        "All right, so we have 24M params, and that's too many, we know that. But the purpose of this notebook is to set things right for our future experiments.\n",
        "\n",
        "Looking at logs can be boring, so we'll introduce **tqdm** progressbar to get cooler logs.\n",
        "\n",
        "Let's write train and test functions"
      ]
    },
    {
      "cell_type": "code",
      "metadata": {
        "id": "fbkF2nN_LYIb"
      },
      "source": [
        "from tqdm import tqdm\n",
        "\n",
        "train_losses = []\n",
        "test_losses = []\n",
        "train_acc = []\n",
        "test_acc = []\n",
        "\n",
        "def train(model, device, train_loader, optimizer, epoch):\n",
        "  model.train()\n",
        "  pbar = tqdm(train_loader)\n",
        "  correct = 0\n",
        "  processed = 0\n",
        "  for batch_idx, (data, target) in enumerate(pbar):\n",
        "    # get samples\n",
        "    data, target = data.to(device), target.to(device)\n",
        "\n",
        "    # Init\n",
        "    optimizer.zero_grad()\n",
        "    # In PyTorch, we need to set the gradients to zero before starting to do backpropragation because PyTorch accumulates the gradients on subsequent backward passes.\n",
        "    # Because of this, when you start your training loop, ideally you should zero out the gradients so that you do the parameter update correctly.\n",
        "\n",
        "    # Predict\n",
        "    y_pred = model(data)\n",
        "\n",
        "    # Calculate loss\n",
        "    loss = F.nll_loss(y_pred, target)\n",
        "    train_losses.append(loss)\n",
        "\n",
        "    # Backpropagation\n",
        "    loss.backward()\n",
        "    optimizer.step()\n",
        "\n",
        "    # Update pbar-tqdm\n",
        "\n",
        "    pred = y_pred.argmax(dim=1, keepdim=True)  # get the index of the max log-probability\n",
        "    correct += pred.eq(target.view_as(pred)).sum().item()\n",
        "    processed += len(data)\n",
        "\n",
        "    pbar.set_description(desc= f'Loss={loss.item()} Batch_id={batch_idx} Accuracy={100*correct/processed:0.2f}')\n",
        "    train_acc.append(100*correct/processed)\n",
        "\n",
        "def test(model, device, test_loader):\n",
        "    model.eval()\n",
        "    test_loss = 0\n",
        "    correct = 0\n",
        "    with torch.no_grad():\n",
        "        for data, target in test_loader:\n",
        "            data, target = data.to(device), target.to(device)\n",
        "            output = model(data)\n",
        "            test_loss += F.nll_loss(output, target, reduction='sum').item()  # sum up batch loss\n",
        "            pred = output.argmax(dim=1, keepdim=True)  # get the index of the max log-probability\n",
        "            correct += pred.eq(target.view_as(pred)).sum().item()\n",
        "\n",
        "    test_loss /= len(test_loader.dataset)\n",
        "    test_losses.append(test_loss)\n",
        "\n",
        "    print('\\nTest set: Average loss: {:.4f}, Accuracy: {}/{} ({:.2f}%)\\n'.format(\n",
        "        test_loss, correct, len(test_loader.dataset),\n",
        "        100. * correct / len(test_loader.dataset)))\n",
        "\n",
        "    test_acc.append(100. * correct / len(test_loader.dataset))"
      ],
      "execution_count": 10,
      "outputs": []
    },
    {
      "cell_type": "code",
      "metadata": {
        "id": "aE5Le6FYHhc8",
        "colab": {
          "base_uri": "https://localhost:8080/"
        },
        "outputId": "98b923e8-0bce-4fa7-a6b9-116faacfb109"
      },
      "source": [
        "from torch.optim.lr_scheduler import StepLR\n",
        "\n",
        "model =  Net().to(device)\n",
        "optimizer = optim.SGD(model.parameters(), lr=0.01, momentum=0.9)\n",
        "scheduler = StepLR(optimizer, step_size=6, gamma=0.1)\n",
        "\n",
        "\n",
        "EPOCHS = 20\n",
        "for epoch in range(EPOCHS):\n",
        "    print(\"EPOCH:\", epoch)\n",
        "    train(model, device, train_loader, optimizer, epoch)\n",
        "    scheduler.step()\n",
        "    test(model, device, test_loader)"
      ],
      "execution_count": 11,
      "outputs": [
        {
          "output_type": "stream",
          "name": "stdout",
          "text": [
            "EPOCH: 0\n"
          ]
        },
        {
          "output_type": "stream",
          "name": "stderr",
          "text": [
            "Loss=1.6830718517303467 Batch_id=390 Accuracy=32.12: 100%|██████████| 391/391 [00:29<00:00, 13.41it/s]\n"
          ]
        },
        {
          "output_type": "stream",
          "name": "stdout",
          "text": [
            "\n",
            "Test set: Average loss: 1.5677, Accuracy: 4137/10000 (41.37%)\n",
            "\n",
            "EPOCH: 1\n"
          ]
        },
        {
          "output_type": "stream",
          "name": "stderr",
          "text": [
            "Loss=1.1704384088516235 Batch_id=390 Accuracy=46.82: 100%|██████████| 391/391 [00:21<00:00, 18.45it/s]\n"
          ]
        },
        {
          "output_type": "stream",
          "name": "stdout",
          "text": [
            "\n",
            "Test set: Average loss: 1.3181, Accuracy: 5177/10000 (51.77%)\n",
            "\n",
            "EPOCH: 2\n"
          ]
        },
        {
          "output_type": "stream",
          "name": "stderr",
          "text": [
            "Loss=1.2071974277496338 Batch_id=390 Accuracy=54.25: 100%|██████████| 391/391 [00:17<00:00, 21.96it/s]\n"
          ]
        },
        {
          "output_type": "stream",
          "name": "stdout",
          "text": [
            "\n",
            "Test set: Average loss: 1.2023, Accuracy: 5672/10000 (56.72%)\n",
            "\n",
            "EPOCH: 3\n"
          ]
        },
        {
          "output_type": "stream",
          "name": "stderr",
          "text": [
            "Loss=1.0838134288787842 Batch_id=390 Accuracy=58.49: 100%|██████████| 391/391 [00:17<00:00, 21.78it/s]\n"
          ]
        },
        {
          "output_type": "stream",
          "name": "stdout",
          "text": [
            "\n",
            "Test set: Average loss: 1.0715, Accuracy: 6100/10000 (61.00%)\n",
            "\n",
            "EPOCH: 4\n"
          ]
        },
        {
          "output_type": "stream",
          "name": "stderr",
          "text": [
            "Loss=1.1718910932540894 Batch_id=390 Accuracy=62.56: 100%|██████████| 391/391 [00:18<00:00, 21.58it/s]\n"
          ]
        },
        {
          "output_type": "stream",
          "name": "stdout",
          "text": [
            "\n",
            "Test set: Average loss: 0.9829, Accuracy: 6399/10000 (63.99%)\n",
            "\n",
            "EPOCH: 5\n"
          ]
        },
        {
          "output_type": "stream",
          "name": "stderr",
          "text": [
            "Loss=0.9363504648208618 Batch_id=390 Accuracy=64.71: 100%|██████████| 391/391 [00:18<00:00, 20.78it/s]\n"
          ]
        },
        {
          "output_type": "stream",
          "name": "stdout",
          "text": [
            "\n",
            "Test set: Average loss: 0.9308, Accuracy: 6637/10000 (66.37%)\n",
            "\n",
            "EPOCH: 6\n"
          ]
        },
        {
          "output_type": "stream",
          "name": "stderr",
          "text": [
            "Loss=0.7622360587120056 Batch_id=390 Accuracy=69.47: 100%|██████████| 391/391 [00:21<00:00, 18.11it/s]\n"
          ]
        },
        {
          "output_type": "stream",
          "name": "stdout",
          "text": [
            "\n",
            "Test set: Average loss: 0.8589, Accuracy: 6921/10000 (69.21%)\n",
            "\n",
            "EPOCH: 7\n"
          ]
        },
        {
          "output_type": "stream",
          "name": "stderr",
          "text": [
            "Loss=1.1099817752838135 Batch_id=390 Accuracy=70.12: 100%|██████████| 391/391 [00:19<00:00, 19.87it/s]\n"
          ]
        },
        {
          "output_type": "stream",
          "name": "stdout",
          "text": [
            "\n",
            "Test set: Average loss: 0.8600, Accuracy: 6915/10000 (69.15%)\n",
            "\n",
            "EPOCH: 8\n"
          ]
        },
        {
          "output_type": "stream",
          "name": "stderr",
          "text": [
            "Loss=0.6915024518966675 Batch_id=390 Accuracy=70.42: 100%|██████████| 391/391 [00:18<00:00, 20.69it/s]\n"
          ]
        },
        {
          "output_type": "stream",
          "name": "stdout",
          "text": [
            "\n",
            "Test set: Average loss: 0.8540, Accuracy: 6939/10000 (69.39%)\n",
            "\n",
            "EPOCH: 9\n"
          ]
        },
        {
          "output_type": "stream",
          "name": "stderr",
          "text": [
            "Loss=0.7033830881118774 Batch_id=390 Accuracy=70.94: 100%|██████████| 391/391 [00:20<00:00, 19.42it/s]\n"
          ]
        },
        {
          "output_type": "stream",
          "name": "stdout",
          "text": [
            "\n",
            "Test set: Average loss: 0.8395, Accuracy: 6990/10000 (69.90%)\n",
            "\n",
            "EPOCH: 10\n"
          ]
        },
        {
          "output_type": "stream",
          "name": "stderr",
          "text": [
            "Loss=0.7480231523513794 Batch_id=390 Accuracy=70.93: 100%|██████████| 391/391 [00:19<00:00, 20.34it/s]\n"
          ]
        },
        {
          "output_type": "stream",
          "name": "stdout",
          "text": [
            "\n",
            "Test set: Average loss: 0.8361, Accuracy: 7032/10000 (70.32%)\n",
            "\n",
            "EPOCH: 11\n"
          ]
        },
        {
          "output_type": "stream",
          "name": "stderr",
          "text": [
            "Loss=0.7763761281967163 Batch_id=390 Accuracy=71.43: 100%|██████████| 391/391 [00:20<00:00, 18.96it/s]\n"
          ]
        },
        {
          "output_type": "stream",
          "name": "stdout",
          "text": [
            "\n",
            "Test set: Average loss: 0.8340, Accuracy: 7024/10000 (70.24%)\n",
            "\n",
            "EPOCH: 12\n"
          ]
        },
        {
          "output_type": "stream",
          "name": "stderr",
          "text": [
            "Loss=0.9521480798721313 Batch_id=390 Accuracy=71.76: 100%|██████████| 391/391 [00:18<00:00, 20.72it/s]\n"
          ]
        },
        {
          "output_type": "stream",
          "name": "stdout",
          "text": [
            "\n",
            "Test set: Average loss: 0.8224, Accuracy: 7084/10000 (70.84%)\n",
            "\n",
            "EPOCH: 13\n"
          ]
        },
        {
          "output_type": "stream",
          "name": "stderr",
          "text": [
            "Loss=0.6687381863594055 Batch_id=390 Accuracy=71.78: 100%|██████████| 391/391 [00:20<00:00, 18.89it/s]\n"
          ]
        },
        {
          "output_type": "stream",
          "name": "stdout",
          "text": [
            "\n",
            "Test set: Average loss: 0.8219, Accuracy: 7073/10000 (70.73%)\n",
            "\n",
            "EPOCH: 14\n"
          ]
        },
        {
          "output_type": "stream",
          "name": "stderr",
          "text": [
            "Loss=0.6119282841682434 Batch_id=390 Accuracy=71.72: 100%|██████████| 391/391 [00:21<00:00, 18.25it/s]\n"
          ]
        },
        {
          "output_type": "stream",
          "name": "stdout",
          "text": [
            "\n",
            "Test set: Average loss: 0.8219, Accuracy: 7082/10000 (70.82%)\n",
            "\n",
            "EPOCH: 15\n"
          ]
        },
        {
          "output_type": "stream",
          "name": "stderr",
          "text": [
            "Loss=0.9649984240531921 Batch_id=390 Accuracy=71.97: 100%|██████████| 391/391 [00:20<00:00, 19.32it/s]\n"
          ]
        },
        {
          "output_type": "stream",
          "name": "stdout",
          "text": [
            "\n",
            "Test set: Average loss: 0.8214, Accuracy: 7076/10000 (70.76%)\n",
            "\n",
            "EPOCH: 16\n"
          ]
        },
        {
          "output_type": "stream",
          "name": "stderr",
          "text": [
            "Loss=0.6987255215644836 Batch_id=390 Accuracy=71.88: 100%|██████████| 391/391 [00:20<00:00, 19.37it/s]\n"
          ]
        },
        {
          "output_type": "stream",
          "name": "stdout",
          "text": [
            "\n",
            "Test set: Average loss: 0.8214, Accuracy: 7096/10000 (70.96%)\n",
            "\n",
            "EPOCH: 17\n"
          ]
        },
        {
          "output_type": "stream",
          "name": "stderr",
          "text": [
            "Loss=0.6579293012619019 Batch_id=390 Accuracy=72.07: 100%|██████████| 391/391 [00:20<00:00, 19.55it/s]\n"
          ]
        },
        {
          "output_type": "stream",
          "name": "stdout",
          "text": [
            "\n",
            "Test set: Average loss: 0.8216, Accuracy: 7082/10000 (70.82%)\n",
            "\n",
            "EPOCH: 18\n"
          ]
        },
        {
          "output_type": "stream",
          "name": "stderr",
          "text": [
            "Loss=0.6650019884109497 Batch_id=390 Accuracy=71.93: 100%|██████████| 391/391 [00:21<00:00, 18.52it/s]\n"
          ]
        },
        {
          "output_type": "stream",
          "name": "stdout",
          "text": [
            "\n",
            "Test set: Average loss: 0.8203, Accuracy: 7096/10000 (70.96%)\n",
            "\n",
            "EPOCH: 19\n"
          ]
        },
        {
          "output_type": "stream",
          "name": "stderr",
          "text": [
            "Loss=0.8079153299331665 Batch_id=390 Accuracy=72.15: 100%|██████████| 391/391 [00:19<00:00, 20.28it/s]\n"
          ]
        },
        {
          "output_type": "stream",
          "name": "stdout",
          "text": [
            "\n",
            "Test set: Average loss: 0.8200, Accuracy: 7095/10000 (70.95%)\n",
            "\n"
          ]
        }
      ]
    },
    {
      "cell_type": "code",
      "source": [
        "t = [t_items.item() for t_items in train_losses]\n",
        "%matplotlib inline\n",
        "import matplotlib.pyplot as plt\n",
        "fig, axs = plt.subplots(2,2,figsize=(15,10))\n",
        "axs[0, 0].plot(t)\n",
        "axs[0, 0].set_title(\"Training Loss\")\n",
        "axs[1, 0].plot(train_acc)\n",
        "axs[1, 0].set_title(\"Training Accuracy\")\n",
        "axs[0, 1].plot(test_losses)\n",
        "axs[0, 1].set_title(\"Test Loss\")\n",
        "axs[1, 1].plot(test_acc)\n",
        "axs[1, 1].set_title(\"Test Accuracy\")"
      ],
      "metadata": {
        "id": "fKeBz_bFDIBd",
        "colab": {
          "base_uri": "https://localhost:8080/",
          "height": 871
        },
        "outputId": "ad5b07e7-bc30-41d5-f46d-eceee39d75a8"
      },
      "execution_count": 12,
      "outputs": [
        {
          "output_type": "execute_result",
          "data": {
            "text/plain": [
              "Text(0.5, 1.0, 'Test Accuracy')"
            ]
          },
          "metadata": {},
          "execution_count": 12
        },
        {
          "output_type": "display_data",
          "data": {
            "text/plain": [
              "<Figure size 1500x1000 with 4 Axes>"
            ],
            "image/png": "[encoded data removed]"
          },
          "metadata": {}
        }
      ]
    },
    {
      "cell_type": "code",
      "source": [
        "dataiter = iter(test_loader)\n",
        "images, labels = next(dataiter)\n",
        "print(labels)\n",
        "model.eval()\n",
        "test_loss = 0\n",
        "pred = []\n",
        "with torch.no_grad():\n",
        "  data, target = images.to(device), labels.to(device)\n",
        "  output = model(data)\n",
        "  test_loss += F.nll_loss(output, target, reduction='sum').item()  # sum up batch loss\n",
        "  p = output.argmax(dim=1, keepdim=True)\n",
        "  print(p.tolist())\n",
        "  #pred.append(output.argmax(dim=1, keepdim=True)[1].tolist()) # get the index of the max log-probability\n",
        "pred = [t_items.item() for t_items in p]\n",
        "target = [t_items.item() for t_items in target]\n",
        "print('prediction:',pred)\n",
        "print('target:',target)\n",
        "res = [idx for idx, elem in enumerate(pred)\n",
        "                           if elem != target[idx]]\n",
        "\n"
      ],
      "metadata": {
        "colab": {
          "base_uri": "https://localhost:8080/"
        },
        "id": "D3c_QNT9weZM",
        "outputId": "be9fc778-dac1-490d-966a-52dd4b908604"
      },
      "execution_count": 13,
      "outputs": [
        {
          "output_type": "stream",
          "name": "stdout",
          "text": [
            "tensor([3, 6, 5, 9, 8, 9, 5, 6, 0, 8, 3, 2, 2, 0, 8, 4, 3, 9, 2, 6, 2, 0, 9, 3,\n",
            "        3, 4, 1, 4, 0, 2, 1, 4, 0, 2, 0, 9, 2, 1, 0, 6, 2, 7, 2, 6, 5, 5, 6, 1,\n",
            "        5, 6, 5, 8, 9, 0, 9, 3, 1, 8, 2, 6, 4, 3, 2, 1, 8, 4, 9, 4, 8, 4, 3, 7,\n",
            "        6, 4, 0, 4, 5, 5, 4, 6, 3, 3, 1, 7, 9, 8, 7, 3, 4, 0, 3, 3, 2, 3, 0, 8,\n",
            "        3, 5, 8, 2, 0, 0, 0, 7, 6, 3, 6, 6, 7, 6, 7, 0, 9, 3, 6, 1, 7, 1, 8, 3,\n",
            "        7, 5, 0, 9, 9, 8, 2, 8])\n",
            "[[7], [6], [3], [9], [8], [9], [8], [6], [8], [1], [3], [2], [2], [0], [8], [3], [5], [9], [0], [4], [9], [0], [9], [5], [3], [4], [8], [4], [0], [4], [1], [4], [0], [2], [0], [1], [2], [1], [0], [6], [3], [7], [3], [6], [5], [5], [6], [1], [5], [6], [3], [8], [9], [0], [9], [3], [1], [8], [2], [6], [2], [2], [2], [1], [8], [4], [1], [4], [8], [8], [2], [7], [6], [0], [0], [4], [5], [4], [7], [6], [3], [3], [1], [7], [9], [8], [7], [3], [4], [0], [3], [3], [3], [4], [0], [9], [5], [5], [8], [3], [2], [0], [0], [7], [6], [3], [6], [6], [5], [6], [7], [0], [9], [3], [6], [1], [7], [8], [8], [3], [7], [4], [0], [9], [9], [8], [2], [8]]\n",
            "prediction: [7, 6, 3, 9, 8, 9, 8, 6, 8, 1, 3, 2, 2, 0, 8, 3, 5, 9, 0, 4, 9, 0, 9, 5, 3, 4, 8, 4, 0, 4, 1, 4, 0, 2, 0, 1, 2, 1, 0, 6, 3, 7, 3, 6, 5, 5, 6, 1, 5, 6, 3, 8, 9, 0, 9, 3, 1, 8, 2, 6, 2, 2, 2, 1, 8, 4, 1, 4, 8, 8, 2, 7, 6, 0, 0, 4, 5, 4, 7, 6, 3, 3, 1, 7, 9, 8, 7, 3, 4, 0, 3, 3, 3, 4, 0, 9, 5, 5, 8, 3, 2, 0, 0, 7, 6, 3, 6, 6, 5, 6, 7, 0, 9, 3, 6, 1, 7, 8, 8, 3, 7, 4, 0, 9, 9, 8, 2, 8]\n",
            "target: [3, 6, 5, 9, 8, 9, 5, 6, 0, 8, 3, 2, 2, 0, 8, 4, 3, 9, 2, 6, 2, 0, 9, 3, 3, 4, 1, 4, 0, 2, 1, 4, 0, 2, 0, 9, 2, 1, 0, 6, 2, 7, 2, 6, 5, 5, 6, 1, 5, 6, 5, 8, 9, 0, 9, 3, 1, 8, 2, 6, 4, 3, 2, 1, 8, 4, 9, 4, 8, 4, 3, 7, 6, 4, 0, 4, 5, 5, 4, 6, 3, 3, 1, 7, 9, 8, 7, 3, 4, 0, 3, 3, 2, 3, 0, 8, 3, 5, 8, 2, 0, 0, 0, 7, 6, 3, 6, 6, 7, 6, 7, 0, 9, 3, 6, 1, 7, 1, 8, 3, 7, 5, 0, 9, 9, 8, 2, 8]\n"
          ]
        }
      ]
    },
    {
      "cell_type": "code",
      "source": [
        "ind = [i for i in range(10)]\n",
        "label_dict=dict(zip(ind,cls))\n",
        "new = res[0:10]\n",
        "print(len(new))"
      ],
      "metadata": {
        "colab": {
          "base_uri": "https://localhost:8080/"
        },
        "id": "3UDh8EeCNjQr",
        "outputId": "36fbb89c-8d2a-4b0b-d0d4-b03b17e17fa2"
      },
      "execution_count": 14,
      "outputs": [
        {
          "output_type": "stream",
          "name": "stdout",
          "text": [
            "10\n"
          ]
        }
      ]
    },
    {
      "cell_type": "code",
      "source": [
        "fig, axs = plt.subplots(5, 2 ,layout='constrained')\n",
        "axs[0, 0].imshow(images[new[0]].permute((1, 2, 0)))\n",
        "axs[0,0].set_title(label_dict[pred[new[0]]], fontsize = '10')\n",
        "axs[0,0].annotate(label_dict[target[new[0]]], xy=(0,27),fontsize = '10')\n",
        "\n",
        "axs[0, 1].imshow(images[new[1]].permute((1, 2, 0)))\n",
        "axs[0,1].set_title(label_dict[pred[new[1]]], fontsize = '10')\n",
        "axs[0,1].annotate(label_dict[target[new[1]]], xy=(0,27),fontsize = '10')\n",
        "\n",
        "axs[1, 0].imshow(images[new[2]].permute((1, 2, 0)))\n",
        "axs[1,0].set_title(label_dict[pred[new[2]]], fontsize = '10')\n",
        "axs[1,0].annotate(label_dict[target[new[2]]], xy=(0,27),fontsize = '10')\n",
        "\n",
        "axs[1, 1].imshow(images[new[3]].permute((1, 2, 0)))\n",
        "axs[1,1].set_title(label_dict[pred[new[3]]], fontsize = '10')\n",
        "axs[1,1].annotate(label_dict[target[new[3]]], xy=(0,27),fontsize = '10')\n",
        "\n",
        "axs[2, 0].imshow(images[new[4]].permute((1, 2, 0)))\n",
        "axs[2,0].set_title(label_dict[pred[new[4]]], fontsize = '10')\n",
        "axs[2,0].annotate(label_dict[target[new[4]]], xy=(0,27),fontsize = '10')\n",
        "\n",
        "axs[2, 1].imshow(images[new[5]].permute((1, 2, 0)))\n",
        "axs[2,1].set_title(label_dict[pred[new[5]]], fontsize = '10')\n",
        "axs[2,1].annotate(label_dict[target[new[5]]], xy=(0,27),fontsize = '10')\n",
        "\n",
        "axs[3, 0].imshow(images[new[6]].permute((1, 2, 0)))\n",
        "axs[3,0].set_title(label_dict[pred[new[6]]], fontsize = '10')\n",
        "axs[3,0].annotate(label_dict[target[new[6]]], xy=(0,27),fontsize = '10')\n",
        "\n",
        "axs[3, 1].imshow(images[new[7]].permute((1, 2, 0)))\n",
        "axs[3,1].set_title(label_dict[pred[new[7]]], fontsize = '10')\n",
        "axs[3,1].annotate(label_dict[target[new[7]]], xy=(0,27),fontsize = '10')\n",
        "\n",
        "axs[4, 0].imshow(images[new[8]].permute((1, 2, 0)))\n",
        "axs[4,0].set_title(label_dict[pred[new[8]]], fontsize = '10')\n",
        "axs[4,0].annotate(label_dict[target[new[8]]], xy=(0,27),fontsize = '10')\n",
        "\n",
        "axs[4, 1].imshow(images[new[9]].permute((1, 2, 0)))\n",
        "axs[4,1].set_title(label_dict[pred[new[9]]], fontsize = '10')\n",
        "axs[4,1].annotate(label_dict[target[new[9]]], xy=(0,27),fontsize = '10')\n",
        "\n",
        "\n"
      ],
      "metadata": {
        "colab": {
          "base_uri": "https://localhost:8080/",
          "height": 704
        },
        "id": "889EcJKRo383",
        "outputId": "f802f8d0-e619-4816-c177-2cdbcb39073e"
      },
      "execution_count": 15,
      "outputs": [
        {
          "output_type": "stream",
          "name": "stderr",
          "text": [
            "WARNING:matplotlib.image:Clipping input data to the valid range for imshow with RGB data ([0..1] for floats or [0..255] for integers).\n",
            "WARNING:matplotlib.image:Clipping input data to the valid range for imshow with RGB data ([0..1] for floats or [0..255] for integers).\n",
            "WARNING:matplotlib.image:Clipping input data to the valid range for imshow with RGB data ([0..1] for floats or [0..255] for integers).\n",
            "WARNING:matplotlib.image:Clipping input data to the valid range for imshow with RGB data ([0..1] for floats or [0..255] for integers).\n",
            "WARNING:matplotlib.image:Clipping input data to the valid range for imshow with RGB data ([0..1] for floats or [0..255] for integers).\n",
            "WARNING:matplotlib.image:Clipping input data to the valid range for imshow with RGB data ([0..1] for floats or [0..255] for integers).\n",
            "WARNING:matplotlib.image:Clipping input data to the valid range for imshow with RGB data ([0..1] for floats or [0..255] for integers).\n",
            "WARNING:matplotlib.image:Clipping input data to the valid range for imshow with RGB data ([0..1] for floats or [0..255] for integers).\n",
            "WARNING:matplotlib.image:Clipping input data to the valid range for imshow with RGB data ([0..1] for floats or [0..255] for integers).\n",
            "WARNING:matplotlib.image:Clipping input data to the valid range for imshow with RGB data ([0..1] for floats or [0..255] for integers).\n"
          ]
        },
        {
          "output_type": "execute_result",
          "data": {
            "text/plain": [
              "Text(0, 27, 'bird')"
            ]
          },
          "metadata": {},
          "execution_count": 15
        },
        {
          "output_type": "display_data",
          "data": {
            "text/plain": [
              "<Figure size 640x480 with 10 Axes>"
            ],
            "image/png": "[encoded data removed]"
          },
          "metadata": {}
        }
      ]
    }
  ]
}