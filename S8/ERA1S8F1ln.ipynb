{
  "nbformat": 4,
  "nbformat_minor": 0,
  "metadata": {
    "colab": {
      "provenance": []
    },
    "kernelspec": {
      "name": "python3",
      "display_name": "Python 3"
    },
    "accelerator": "GPU"
  },
  "cells": [
    {
      "cell_type": "markdown",
      "metadata": {
        "id": "aO-7t1Y7-hV4"
      },
      "source": [
        "# Import Libraries"
      ]
    },
    {
      "cell_type": "code",
      "metadata": {
        "id": "8kH16rnZ7wt_"
      },
      "source": [
        "from __future__ import print_function\n",
        "import torch\n",
        "import torch.nn as nn\n",
        "import torch.nn.functional as F\n",
        "import torch.optim as optim\n",
        "from torchvision import datasets, transforms\n",
        "import matplotlib.pyplot as plt\n",
        "from torchvision.utils import make_grid\n"
      ],
      "execution_count": 1,
      "outputs": []
    },
    {
      "cell_type": "code",
      "source": [
        "from google.colab import drive\n",
        "drive.mount('/content/drive')"
      ],
      "metadata": {
        "colab": {
          "base_uri": "https://localhost:8080/"
        },
        "id": "RjtUDv30tcV-",
        "outputId": "1b974843-3080-4379-ea4d-44cc9b19867a"
      },
      "execution_count": 2,
      "outputs": [
        {
          "output_type": "stream",
          "name": "stdout",
          "text": [
            "Mounted at /content/drive\n"
          ]
        }
      ]
    },
    {
      "cell_type": "markdown",
      "metadata": {
        "id": "ky3f_Odl-7um"
      },
      "source": [
        "## Data Transformations\n",
        "\n",
        "We first start with defining our data transformations. We need to think what our data is and how can we augment it to correct represent images which it might not see otherwise.\n"
      ]
    },
    {
      "cell_type": "code",
      "metadata": {
        "id": "YtssFUKb-jqx"
      },
      "source": [
        "# Train Phase transformations\n",
        "train_transforms = transforms.Compose([\n",
        "                                      #  transforms.Resize((28, 28)),\n",
        "                                      #  transforms.ColorJitter(brightness=0.10, contrast=0.1, saturation=0.10, hue=0.1),\n",
        "\n",
        "                                       transforms.ToTensor(),\n",
        "                                       transforms.Normalize((0.1307,), (0.3081,)) # The mean and std have to be sequences (e.g., tuples), therefore you should add a comma after the values.\n",
        "                                       # Note the difference between (0.1307) and (0.1307,)\n",
        "                                       ])\n",
        "\n",
        "# Test Phase transformations\n",
        "test_transforms = transforms.Compose([\n",
        "                                      #  transforms.Resize((28, 28)),\n",
        "                                      #  transforms.ColorJitter(brightness=0.10, contrast=0.1, saturation=0.10, hue=0.1),\n",
        "                                       transforms.ToTensor(),\n",
        "                                       transforms.Normalize((0.1307,), (0.3081,))\n",
        "                                       ])\n"
      ],
      "execution_count": 3,
      "outputs": []
    },
    {
      "cell_type": "markdown",
      "metadata": {
        "id": "oQciFYo2B1mO"
      },
      "source": [
        "# Dataset and Creating Train/Test Split"
      ]
    },
    {
      "cell_type": "code",
      "metadata": {
        "id": "_4A84rlfDA23",
        "colab": {
          "base_uri": "https://localhost:8080/"
        },
        "outputId": "79012721-2447-40ab-9359-d6b0c758465c"
      },
      "source": [
        "train = datasets.CIFAR10('./data', train=True, download=True, transform=train_transforms)\n",
        "test = datasets.CIFAR10('./data', train=False, download=True, transform=test_transforms)"
      ],
      "execution_count": 4,
      "outputs": [
        {
          "output_type": "stream",
          "name": "stdout",
          "text": [
            "Downloading https://www.cs.toronto.edu/~kriz/cifar-10-python.tar.gz to ./data/cifar-10-python.tar.gz\n"
          ]
        },
        {
          "output_type": "stream",
          "name": "stderr",
          "text": [
            "100%|██████████| 170498071/170498071 [00:01<00:00, 97697480.38it/s] \n"
          ]
        },
        {
          "output_type": "stream",
          "name": "stdout",
          "text": [
            "Extracting ./data/cifar-10-python.tar.gz to ./data\n",
            "Files already downloaded and verified\n"
          ]
        }
      ]
    },
    {
      "cell_type": "code",
      "source": [
        "cls=train.classes"
      ],
      "metadata": {
        "id": "QuSZlGgDk02_"
      },
      "execution_count": 6,
      "outputs": []
    },
    {
      "cell_type": "markdown",
      "metadata": {
        "id": "qgldp_3-Dn0c"
      },
      "source": [
        "# Dataloader Arguments & Test/Train Dataloaders\n"
      ]
    },
    {
      "cell_type": "code",
      "metadata": {
        "id": "C8OLDR79DrHG",
        "colab": {
          "base_uri": "https://localhost:8080/"
        },
        "outputId": "3087c4bd-cb07-463d-ce9a-6b32d48353b3"
      },
      "source": [
        "SEED = 1\n",
        "\n",
        "# CUDA?\n",
        "cuda = torch.cuda.is_available()\n",
        "print(\"CUDA Available?\", cuda)\n",
        "\n",
        "# For reproducibility\n",
        "torch.manual_seed(SEED)\n",
        "\n",
        "if cuda:\n",
        "    torch.cuda.manual_seed(SEED)\n",
        "\n",
        "# dataloader arguments - something you'll fetch these from cmdprmt\n",
        "dataloader_args = dict(shuffle=True, batch_size=128, num_workers=4, pin_memory=True) if cuda else dict(shuffle=True, batch_size=64)\n",
        "\n",
        "# train dataloader\n",
        "train_loader = torch.utils.data.DataLoader(train, **dataloader_args)\n",
        "\n",
        "# test dataloader\n",
        "test_loader = torch.utils.data.DataLoader(test, **dataloader_args)"
      ],
      "execution_count": 7,
      "outputs": [
        {
          "output_type": "stream",
          "name": "stdout",
          "text": [
            "CUDA Available? True\n"
          ]
        },
        {
          "output_type": "stream",
          "name": "stderr",
          "text": [
            "/usr/local/lib/python3.10/dist-packages/torch/utils/data/dataloader.py:560: UserWarning: This DataLoader will create 4 worker processes in total. Our suggested max number of worker in current system is 2, which is smaller than what this DataLoader is going to create. Please be aware that excessive worker creation might get DataLoader running slow or even freeze, lower the worker number to avoid potential slowness/freeze if necessary.\n",
            "  warnings.warn(_create_warning_msg(\n"
          ]
        }
      ]
    },
    {
      "cell_type": "markdown",
      "metadata": {
        "id": "ubQL3H6RJL3h"
      },
      "source": [
        "# The model\n",
        "Let's start with the model we first saw"
      ]
    },
    {
      "cell_type": "code",
      "metadata": {
        "id": "7FXQlB9kH1ov"
      },
      "source": [
        "import torch.nn.functional as F\n",
        "dropout_value = 0.1\n",
        "class Net(nn.Module):\n",
        "    def __init__(self):\n",
        "        super(Net, self).__init__()\n",
        "        # Input Block C1\n",
        "        self.convblock1 = nn.Sequential(\n",
        "            nn.Conv2d(in_channels=3, out_channels=32, kernel_size=(3, 3), padding=1, bias=False),\n",
        "            nn.ReLU(),\n",
        "            nn.GroupNorm(1, 32),\n",
        "            nn.Dropout(dropout_value)\n",
        "        ) # output_size = 32\n",
        "\n",
        "        # CONVOLUTION BLOCK C2\n",
        "        self.convblock2 = nn.Sequential(\n",
        "            nn.Conv2d(in_channels=32, out_channels=16, kernel_size=(3, 3), padding=1, bias=False),\n",
        "            nn.ReLU(),\n",
        "            nn.GroupNorm(1, 16),\n",
        "            nn.Dropout(dropout_value)\n",
        "        ) # output_size = 32\n",
        "\n",
        "        # TRANSITION BLOCK 1\n",
        "        self.c3 = nn.Sequential(\n",
        "            nn.Conv2d(in_channels=16, out_channels=16, kernel_size=(1, 1), padding=1, bias=False),\n",
        "        ) # output_size = 32\n",
        "        self.pool1 = nn.MaxPool2d(2, 2) # output_size = 16\n",
        "\n",
        "        # CONVOLUTION BLOCK C3\n",
        "        self.convblock3 = nn.Sequential(\n",
        "            nn.Conv2d(in_channels=16, out_channels=32, kernel_size=(3, 3), padding=1, bias=False),\n",
        "            nn.ReLU(),\n",
        "            nn.GroupNorm(1, 32),\n",
        "            nn.Dropout(dropout_value)\n",
        "        ) # output_size = 16\n",
        "        # CONVOLUTION BLOCK C4\n",
        "        self.convblock4 = nn.Sequential(\n",
        "            nn.Conv2d(in_channels=32, out_channels=64, kernel_size=(3, 3), padding=1, bias=False),\n",
        "            nn.ReLU(),\n",
        "            nn.GroupNorm(1, 64),\n",
        "            nn.Dropout(dropout_value)\n",
        "        ) # output_size = 16\n",
        "        # CONVOLUTION BLOCK C5\n",
        "        self.convblock5 = nn.Sequential(\n",
        "            nn.Conv2d(in_channels=64, out_channels=32, kernel_size=(3, 3), padding=1, bias=False),\n",
        "            nn.ReLU(),\n",
        "            nn.GroupNorm(1, 32),\n",
        "            nn.Dropout(dropout_value)\n",
        "        ) # output_size = 16\n",
        "\n",
        "       # TRANSITION BLOCK 2\n",
        "        self.c6 = nn.Sequential(\n",
        "            nn.Conv2d(in_channels=32, out_channels=16, kernel_size=(1, 1), padding=1, bias=False)\n",
        "        ) # output_size = 16\n",
        "        self.pool2 = nn.MaxPool2d(2, 2) # output_size = 8\n",
        "\n",
        "        # CONVOLUTION BLOCK C7\n",
        "        self.convblock7 = nn.Sequential(\n",
        "            nn.Conv2d(in_channels=16, out_channels=16, kernel_size=(3, 3), padding=1, bias=False),\n",
        "            nn.ReLU(),\n",
        "            nn.GroupNorm(1, 16),\n",
        "            nn.Dropout(dropout_value)\n",
        "        ) # output_size = 8\n",
        "        # CONVOLUTION BLOCK C8\n",
        "        self.convblock8 = nn.Sequential(\n",
        "            nn.Conv2d(in_channels=16, out_channels=32, kernel_size=(3, 3), padding=1, bias=False),\n",
        "            nn.ReLU(),\n",
        "            nn.GroupNorm(1, 32),\n",
        "            nn.Dropout(dropout_value)\n",
        "        ) # output_size = 8\n",
        "        # CONVOLUTION BLOCK C9\n",
        "        self.convblock9 = nn.Sequential(\n",
        "            nn.Conv2d(in_channels=32, out_channels=32, kernel_size=(3, 3), padding=1, bias=False),\n",
        "            nn.ReLU(),\n",
        "            nn.GroupNorm(1, 32),\n",
        "            nn.Dropout(dropout_value)\n",
        "        ) # output_size = 8\n",
        "\n",
        "        # OUTPUT BLOCK\n",
        "        self.gap = nn.Sequential(\n",
        "            nn.AvgPool2d(kernel_size=8)\n",
        "        ) # output_size = 1\n",
        "        # CONVOLUTION BLOCK C10\n",
        "        self.convblock10 = nn.Sequential(\n",
        "            nn.Conv2d(in_channels=32, out_channels=10, kernel_size=(1, 1), padding=0, bias=False),\n",
        "            # nn.BatchNorm2d(10),\n",
        "            # nn.ReLU(),\n",
        "            # nn.Dropout(dropout_value)\n",
        "        )\n",
        "\n",
        "\n",
        "        self.dropout = nn.Dropout(dropout_value)\n",
        "\n",
        "    def forward(self, x):\n",
        "        x = self.convblock1(x)\n",
        "        x = self.convblock2(x)\n",
        "        x = self.c3(x)\n",
        "        x = self.pool1(x)\n",
        "        x = self.convblock3(x)\n",
        "        x = self.convblock4(x)\n",
        "        x = self.convblock5(x)\n",
        "        x = self.c6(x)\n",
        "        x = self.pool2(x)\n",
        "        x = self.convblock7(x)\n",
        "        x = self.convblock8(x)\n",
        "        x = self.convblock9(x)\n",
        "        x = self.gap(x)\n",
        "        x = self.convblock10(x)\n",
        "\n",
        "        x = x.view(-1, 10)\n",
        "        return F.log_softmax(x, dim=-1)"
      ],
      "execution_count": 8,
      "outputs": []
    },
    {
      "cell_type": "markdown",
      "metadata": {
        "id": "M3-vp8X9LCWo"
      },
      "source": [
        "# Model Params\n",
        "Can't emphasize on how important viewing Model Summary is.\n",
        "Unfortunately, there is no in-built model visualizer, so we have to take external help"
      ]
    },
    {
      "cell_type": "code",
      "metadata": {
        "id": "5skB97zIJQQe",
        "colab": {
          "base_uri": "https://localhost:8080/"
        },
        "outputId": "3cc13b69-2b56-4651-b96c-0046cc0ff5ff"
      },
      "source": [
        "!pip install torchsummary\n",
        "from torchsummary import summary\n",
        "use_cuda = torch.cuda.is_available()\n",
        "device = torch.device(\"cuda\" if use_cuda else \"cpu\")\n",
        "print(device)\n",
        "model = Net().to(device)\n",
        "summary(model, input_size=(3, 32, 32))"
      ],
      "execution_count": 9,
      "outputs": [
        {
          "output_type": "stream",
          "name": "stdout",
          "text": [
            "Looking in indexes: https://pypi.org/simple, https://us-python.pkg.dev/colab-wheels/public/simple/\n",
            "Requirement already satisfied: torchsummary in /usr/local/lib/python3.10/dist-packages (1.5.1)\n",
            "cuda\n",
            "----------------------------------------------------------------\n",
            "        Layer (type)               Output Shape         Param #\n",
            "================================================================\n",
            "            Conv2d-1           [-1, 32, 32, 32]             864\n",
            "              ReLU-2           [-1, 32, 32, 32]               0\n",
            "         GroupNorm-3           [-1, 32, 32, 32]              64\n",
            "           Dropout-4           [-1, 32, 32, 32]               0\n",
            "            Conv2d-5           [-1, 16, 32, 32]           4,608\n",
            "              ReLU-6           [-1, 16, 32, 32]               0\n",
            "         GroupNorm-7           [-1, 16, 32, 32]              32\n",
            "           Dropout-8           [-1, 16, 32, 32]               0\n",
            "            Conv2d-9           [-1, 16, 34, 34]             256\n",
            "        MaxPool2d-10           [-1, 16, 17, 17]               0\n",
            "           Conv2d-11           [-1, 32, 17, 17]           4,608\n",
            "             ReLU-12           [-1, 32, 17, 17]               0\n",
            "        GroupNorm-13           [-1, 32, 17, 17]              64\n",
            "          Dropout-14           [-1, 32, 17, 17]               0\n",
            "           Conv2d-15           [-1, 64, 17, 17]          18,432\n",
            "             ReLU-16           [-1, 64, 17, 17]               0\n",
            "        GroupNorm-17           [-1, 64, 17, 17]             128\n",
            "          Dropout-18           [-1, 64, 17, 17]               0\n",
            "           Conv2d-19           [-1, 32, 17, 17]          18,432\n",
            "             ReLU-20           [-1, 32, 17, 17]               0\n",
            "        GroupNorm-21           [-1, 32, 17, 17]              64\n",
            "          Dropout-22           [-1, 32, 17, 17]               0\n",
            "           Conv2d-23           [-1, 16, 19, 19]             512\n",
            "        MaxPool2d-24             [-1, 16, 9, 9]               0\n",
            "           Conv2d-25             [-1, 16, 9, 9]           2,304\n",
            "             ReLU-26             [-1, 16, 9, 9]               0\n",
            "        GroupNorm-27             [-1, 16, 9, 9]              32\n",
            "          Dropout-28             [-1, 16, 9, 9]               0\n",
            "           Conv2d-29             [-1, 32, 9, 9]           4,608\n",
            "             ReLU-30             [-1, 32, 9, 9]               0\n",
            "        GroupNorm-31             [-1, 32, 9, 9]              64\n",
            "          Dropout-32             [-1, 32, 9, 9]               0\n",
            "           Conv2d-33             [-1, 32, 9, 9]           9,216\n",
            "             ReLU-34             [-1, 32, 9, 9]               0\n",
            "        GroupNorm-35             [-1, 32, 9, 9]              64\n",
            "          Dropout-36             [-1, 32, 9, 9]               0\n",
            "        AvgPool2d-37             [-1, 32, 1, 1]               0\n",
            "           Conv2d-38             [-1, 10, 1, 1]             320\n",
            "================================================================\n",
            "Total params: 64,672\n",
            "Trainable params: 64,672\n",
            "Non-trainable params: 0\n",
            "----------------------------------------------------------------\n",
            "Input size (MB): 0.01\n",
            "Forward/backward pass size (MB): 3.06\n",
            "Params size (MB): 0.25\n",
            "Estimated Total Size (MB): 3.32\n",
            "----------------------------------------------------------------\n"
          ]
        }
      ]
    },
    {
      "cell_type": "markdown",
      "metadata": {
        "id": "1__x_SbrL7z3"
      },
      "source": [
        "# Training and Testing\n",
        "\n",
        "All right, so we have 24M params, and that's too many, we know that. But the purpose of this notebook is to set things right for our future experiments.\n",
        "\n",
        "Looking at logs can be boring, so we'll introduce **tqdm** progressbar to get cooler logs.\n",
        "\n",
        "Let's write train and test functions"
      ]
    },
    {
      "cell_type": "code",
      "metadata": {
        "id": "fbkF2nN_LYIb"
      },
      "source": [
        "from tqdm import tqdm\n",
        "\n",
        "train_losses = []\n",
        "test_losses = []\n",
        "train_acc = []\n",
        "test_acc = []\n",
        "\n",
        "def train(model, device, train_loader, optimizer, epoch):\n",
        "  model.train()\n",
        "  pbar = tqdm(train_loader)\n",
        "  correct = 0\n",
        "  processed = 0\n",
        "  for batch_idx, (data, target) in enumerate(pbar):\n",
        "    # get samples\n",
        "    data, target = data.to(device), target.to(device)\n",
        "\n",
        "    # Init\n",
        "    optimizer.zero_grad()\n",
        "    # In PyTorch, we need to set the gradients to zero before starting to do backpropragation because PyTorch accumulates the gradients on subsequent backward passes.\n",
        "    # Because of this, when you start your training loop, ideally you should zero out the gradients so that you do the parameter update correctly.\n",
        "\n",
        "    # Predict\n",
        "    y_pred = model(data)\n",
        "\n",
        "    # Calculate loss\n",
        "    loss = F.nll_loss(y_pred, target)\n",
        "    train_losses.append(loss)\n",
        "\n",
        "    # Backpropagation\n",
        "    loss.backward()\n",
        "    optimizer.step()\n",
        "\n",
        "    # Update pbar-tqdm\n",
        "\n",
        "    pred = y_pred.argmax(dim=1, keepdim=True)  # get the index of the max log-probability\n",
        "    correct += pred.eq(target.view_as(pred)).sum().item()\n",
        "    processed += len(data)\n",
        "\n",
        "    pbar.set_description(desc= f'Loss={loss.item()} Batch_id={batch_idx} Accuracy={100*correct/processed:0.2f}')\n",
        "    train_acc.append(100*correct/processed)\n",
        "\n",
        "def test(model, device, test_loader):\n",
        "    model.eval()\n",
        "    test_loss = 0\n",
        "    correct = 0\n",
        "    with torch.no_grad():\n",
        "        for data, target in test_loader:\n",
        "            data, target = data.to(device), target.to(device)\n",
        "            output = model(data)\n",
        "            test_loss += F.nll_loss(output, target, reduction='sum').item()  # sum up batch loss\n",
        "            pred = output.argmax(dim=1, keepdim=True)  # get the index of the max log-probability\n",
        "            correct += pred.eq(target.view_as(pred)).sum().item()\n",
        "\n",
        "    test_loss /= len(test_loader.dataset)\n",
        "    test_losses.append(test_loss)\n",
        "\n",
        "    print('\\nTest set: Average loss: {:.4f}, Accuracy: {}/{} ({:.2f}%)\\n'.format(\n",
        "        test_loss, correct, len(test_loader.dataset),\n",
        "        100. * correct / len(test_loader.dataset)))\n",
        "\n",
        "    test_acc.append(100. * correct / len(test_loader.dataset))"
      ],
      "execution_count": 10,
      "outputs": []
    },
    {
      "cell_type": "code",
      "metadata": {
        "id": "aE5Le6FYHhc8",
        "colab": {
          "base_uri": "https://localhost:8080/"
        },
        "outputId": "166adc2c-6ead-46cb-b731-98bf09788ef8"
      },
      "source": [
        "from torch.optim.lr_scheduler import StepLR\n",
        "\n",
        "model =  Net().to(device)\n",
        "optimizer = optim.SGD(model.parameters(), lr=0.01, momentum=0.9)\n",
        "scheduler = StepLR(optimizer, step_size=6, gamma=0.1)\n",
        "\n",
        "\n",
        "EPOCHS = 20\n",
        "for epoch in range(EPOCHS):\n",
        "    print(\"EPOCH:\", epoch)\n",
        "    train(model, device, train_loader, optimizer, epoch)\n",
        "    scheduler.step()\n",
        "    test(model, device, test_loader)"
      ],
      "execution_count": 11,
      "outputs": [
        {
          "output_type": "stream",
          "name": "stdout",
          "text": [
            "EPOCH: 0\n"
          ]
        },
        {
          "output_type": "stream",
          "name": "stderr",
          "text": [
            "Loss=1.4706908464431763 Batch_id=390 Accuracy=32.37: 100%|██████████| 391/391 [00:22<00:00, 17.16it/s]\n"
          ]
        },
        {
          "output_type": "stream",
          "name": "stdout",
          "text": [
            "\n",
            "Test set: Average loss: 1.5757, Accuracy: 4208/10000 (42.08%)\n",
            "\n",
            "EPOCH: 1\n"
          ]
        },
        {
          "output_type": "stream",
          "name": "stderr",
          "text": [
            "Loss=1.280116319656372 Batch_id=390 Accuracy=47.07: 100%|██████████| 391/391 [00:18<00:00, 20.67it/s]\n"
          ]
        },
        {
          "output_type": "stream",
          "name": "stdout",
          "text": [
            "\n",
            "Test set: Average loss: 1.4452, Accuracy: 4846/10000 (48.46%)\n",
            "\n",
            "EPOCH: 2\n"
          ]
        },
        {
          "output_type": "stream",
          "name": "stderr",
          "text": [
            "Loss=1.1560068130493164 Batch_id=390 Accuracy=54.87: 100%|██████████| 391/391 [00:19<00:00, 20.42it/s]\n"
          ]
        },
        {
          "output_type": "stream",
          "name": "stdout",
          "text": [
            "\n",
            "Test set: Average loss: 1.1050, Accuracy: 5992/10000 (59.92%)\n",
            "\n",
            "EPOCH: 3\n"
          ]
        },
        {
          "output_type": "stream",
          "name": "stderr",
          "text": [
            "Loss=1.1995412111282349 Batch_id=390 Accuracy=59.88: 100%|██████████| 391/391 [00:20<00:00, 19.47it/s]\n"
          ]
        },
        {
          "output_type": "stream",
          "name": "stdout",
          "text": [
            "\n",
            "Test set: Average loss: 1.0694, Accuracy: 6145/10000 (61.45%)\n",
            "\n",
            "EPOCH: 4\n"
          ]
        },
        {
          "output_type": "stream",
          "name": "stderr",
          "text": [
            "Loss=0.9226272702217102 Batch_id=390 Accuracy=63.04: 100%|██████████| 391/391 [00:19<00:00, 20.20it/s]\n"
          ]
        },
        {
          "output_type": "stream",
          "name": "stdout",
          "text": [
            "\n",
            "Test set: Average loss: 0.9895, Accuracy: 6432/10000 (64.32%)\n",
            "\n",
            "EPOCH: 5\n"
          ]
        },
        {
          "output_type": "stream",
          "name": "stderr",
          "text": [
            "Loss=0.9862498044967651 Batch_id=390 Accuracy=65.41: 100%|██████████| 391/391 [00:18<00:00, 20.74it/s]\n"
          ]
        },
        {
          "output_type": "stream",
          "name": "stdout",
          "text": [
            "\n",
            "Test set: Average loss: 0.9111, Accuracy: 6777/10000 (67.77%)\n",
            "\n",
            "EPOCH: 6\n"
          ]
        },
        {
          "output_type": "stream",
          "name": "stderr",
          "text": [
            "Loss=0.7434316873550415 Batch_id=390 Accuracy=70.46: 100%|██████████| 391/391 [00:20<00:00, 19.48it/s]\n"
          ]
        },
        {
          "output_type": "stream",
          "name": "stdout",
          "text": [
            "\n",
            "Test set: Average loss: 0.8481, Accuracy: 6940/10000 (69.40%)\n",
            "\n",
            "EPOCH: 7\n"
          ]
        },
        {
          "output_type": "stream",
          "name": "stderr",
          "text": [
            "Loss=0.7769686579704285 Batch_id=390 Accuracy=71.15: 100%|██████████| 391/391 [00:18<00:00, 20.85it/s]\n"
          ]
        },
        {
          "output_type": "stream",
          "name": "stdout",
          "text": [
            "\n",
            "Test set: Average loss: 0.8340, Accuracy: 7024/10000 (70.24%)\n",
            "\n",
            "EPOCH: 8\n"
          ]
        },
        {
          "output_type": "stream",
          "name": "stderr",
          "text": [
            "Loss=0.9239565134048462 Batch_id=390 Accuracy=71.39: 100%|██████████| 391/391 [00:20<00:00, 19.39it/s]\n"
          ]
        },
        {
          "output_type": "stream",
          "name": "stdout",
          "text": [
            "\n",
            "Test set: Average loss: 0.8278, Accuracy: 7031/10000 (70.31%)\n",
            "\n",
            "EPOCH: 9\n"
          ]
        },
        {
          "output_type": "stream",
          "name": "stderr",
          "text": [
            "Loss=0.7001382112503052 Batch_id=390 Accuracy=71.64: 100%|██████████| 391/391 [00:18<00:00, 21.35it/s]\n"
          ]
        },
        {
          "output_type": "stream",
          "name": "stdout",
          "text": [
            "\n",
            "Test set: Average loss: 0.8321, Accuracy: 6995/10000 (69.95%)\n",
            "\n",
            "EPOCH: 10\n"
          ]
        },
        {
          "output_type": "stream",
          "name": "stderr",
          "text": [
            "Loss=0.7657535076141357 Batch_id=390 Accuracy=72.09: 100%|██████████| 391/391 [00:19<00:00, 20.39it/s]\n"
          ]
        },
        {
          "output_type": "stream",
          "name": "stdout",
          "text": [
            "\n",
            "Test set: Average loss: 0.8100, Accuracy: 7122/10000 (71.22%)\n",
            "\n",
            "EPOCH: 11\n"
          ]
        },
        {
          "output_type": "stream",
          "name": "stderr",
          "text": [
            "Loss=0.8703476190567017 Batch_id=390 Accuracy=72.49: 100%|██████████| 391/391 [00:18<00:00, 21.32it/s]\n"
          ]
        },
        {
          "output_type": "stream",
          "name": "stdout",
          "text": [
            "\n",
            "Test set: Average loss: 0.8110, Accuracy: 7094/10000 (70.94%)\n",
            "\n",
            "EPOCH: 12\n"
          ]
        },
        {
          "output_type": "stream",
          "name": "stderr",
          "text": [
            "Loss=0.5911417007446289 Batch_id=390 Accuracy=72.97: 100%|██████████| 391/391 [00:18<00:00, 20.72it/s]\n"
          ]
        },
        {
          "output_type": "stream",
          "name": "stdout",
          "text": [
            "\n",
            "Test set: Average loss: 0.8000, Accuracy: 7143/10000 (71.43%)\n",
            "\n",
            "EPOCH: 13\n"
          ]
        },
        {
          "output_type": "stream",
          "name": "stderr",
          "text": [
            "Loss=0.6879107356071472 Batch_id=390 Accuracy=73.16: 100%|██████████| 391/391 [00:17<00:00, 21.79it/s]\n"
          ]
        },
        {
          "output_type": "stream",
          "name": "stdout",
          "text": [
            "\n",
            "Test set: Average loss: 0.7969, Accuracy: 7137/10000 (71.37%)\n",
            "\n",
            "EPOCH: 14\n"
          ]
        },
        {
          "output_type": "stream",
          "name": "stderr",
          "text": [
            "Loss=0.9795173406600952 Batch_id=390 Accuracy=73.22: 100%|██████████| 391/391 [00:20<00:00, 19.50it/s]\n"
          ]
        },
        {
          "output_type": "stream",
          "name": "stdout",
          "text": [
            "\n",
            "Test set: Average loss: 0.7955, Accuracy: 7135/10000 (71.35%)\n",
            "\n",
            "EPOCH: 15\n"
          ]
        },
        {
          "output_type": "stream",
          "name": "stderr",
          "text": [
            "Loss=1.0168778896331787 Batch_id=390 Accuracy=73.20: 100%|██████████| 391/391 [00:17<00:00, 22.04it/s]\n"
          ]
        },
        {
          "output_type": "stream",
          "name": "stdout",
          "text": [
            "\n",
            "Test set: Average loss: 0.7965, Accuracy: 7143/10000 (71.43%)\n",
            "\n",
            "EPOCH: 16\n"
          ]
        },
        {
          "output_type": "stream",
          "name": "stderr",
          "text": [
            "Loss=0.8025227785110474 Batch_id=390 Accuracy=73.27: 100%|██████████| 391/391 [00:17<00:00, 21.85it/s]\n"
          ]
        },
        {
          "output_type": "stream",
          "name": "stdout",
          "text": [
            "\n",
            "Test set: Average loss: 0.7954, Accuracy: 7144/10000 (71.44%)\n",
            "\n",
            "EPOCH: 17\n"
          ]
        },
        {
          "output_type": "stream",
          "name": "stderr",
          "text": [
            "Loss=0.8164607882499695 Batch_id=390 Accuracy=73.34: 100%|██████████| 391/391 [00:18<00:00, 21.64it/s]\n"
          ]
        },
        {
          "output_type": "stream",
          "name": "stdout",
          "text": [
            "\n",
            "Test set: Average loss: 0.7941, Accuracy: 7149/10000 (71.49%)\n",
            "\n",
            "EPOCH: 18\n"
          ]
        },
        {
          "output_type": "stream",
          "name": "stderr",
          "text": [
            "Loss=0.8199432492256165 Batch_id=390 Accuracy=73.69: 100%|██████████| 391/391 [00:17<00:00, 21.87it/s]\n"
          ]
        },
        {
          "output_type": "stream",
          "name": "stdout",
          "text": [
            "\n",
            "Test set: Average loss: 0.7942, Accuracy: 7141/10000 (71.41%)\n",
            "\n",
            "EPOCH: 19\n"
          ]
        },
        {
          "output_type": "stream",
          "name": "stderr",
          "text": [
            "Loss=0.9837307929992676 Batch_id=390 Accuracy=73.34: 100%|██████████| 391/391 [00:19<00:00, 20.36it/s]\n"
          ]
        },
        {
          "output_type": "stream",
          "name": "stdout",
          "text": [
            "\n",
            "Test set: Average loss: 0.7947, Accuracy: 7138/10000 (71.38%)\n",
            "\n"
          ]
        }
      ]
    },
    {
      "cell_type": "code",
      "source": [
        "torch.save(model.state_dict(),'/content/drive/MyDrive/ERA/ERA_S8/modelln.pth')"
      ],
      "metadata": {
        "id": "PNjl0K78sX59"
      },
      "execution_count": null,
      "outputs": []
    },
    {
      "cell_type": "code",
      "source": [
        "t = [t_items.item() for t_items in train_losses]\n",
        "%matplotlib inline\n",
        "import matplotlib.pyplot as plt\n",
        "fig, axs = plt.subplots(2,2,figsize=(15,10))\n",
        "axs[0, 0].plot(t)\n",
        "axs[0, 0].set_title(\"Training Loss\")\n",
        "axs[1, 0].plot(train_acc)\n",
        "axs[1, 0].set_title(\"Training Accuracy\")\n",
        "axs[0, 1].plot(test_losses)\n",
        "axs[0, 1].set_title(\"Test Loss\")\n",
        "axs[1, 1].plot(test_acc)\n",
        "axs[1, 1].set_title(\"Test Accuracy\")"
      ],
      "metadata": {
        "id": "fKeBz_bFDIBd",
        "colab": {
          "base_uri": "https://localhost:8080/",
          "height": 871
        },
        "outputId": "2da5f31b-8d70-453e-f128-17e0604328e2"
      },
      "execution_count": 12,
      "outputs": [
        {
          "output_type": "execute_result",
          "data": {
            "text/plain": [
              "Text(0.5, 1.0, 'Test Accuracy')"
            ]
          },
          "metadata": {},
          "execution_count": 12
        },
        {
          "output_type": "display_data",
          "data": {
            "text/plain": [
              "<Figure size 1500x1000 with 4 Axes>"
            ],
            "image/png": "[encoded data removed]"
          },
          "metadata": {}
        }
      ]
    },
    {
      "cell_type": "code",
      "source": [
        "dataiter = iter(test_loader)\n",
        "images, labels = next(dataiter)\n",
        "print(labels)\n",
        "model.eval()\n",
        "test_loss = 0\n",
        "pred = []\n",
        "with torch.no_grad():\n",
        "  data, target = images.to(device), labels.to(device)\n",
        "  output = model(data)\n",
        "  test_loss += F.nll_loss(output, target, reduction='sum').item()  # sum up batch loss\n",
        "  p = output.argmax(dim=1, keepdim=True)\n",
        "  print(p.tolist())\n",
        "  #pred.append(output.argmax(dim=1, keepdim=True)[1].tolist()) # get the index of the max log-probability\n",
        "pred = [t_items.item() for t_items in p]\n",
        "target = [t_items.item() for t_items in target]\n",
        "print('prediction:',pred)\n",
        "print('target:',target)\n",
        "res = [idx for idx, elem in enumerate(pred)\n",
        "                           if elem != target[idx]]\n",
        "\n"
      ],
      "metadata": {
        "colab": {
          "base_uri": "https://localhost:8080/"
        },
        "id": "D3c_QNT9weZM",
        "outputId": "4242cb99-089b-448e-ef83-a7bb3e63af0e"
      },
      "execution_count": 13,
      "outputs": [
        {
          "output_type": "stream",
          "name": "stdout",
          "text": [
            "tensor([5, 7, 4, 9, 0, 6, 7, 5, 3, 4, 7, 3, 8, 1, 0, 7, 7, 0, 9, 4, 0, 1, 8, 5,\n",
            "        6, 8, 9, 2, 9, 9, 2, 4, 4, 9, 4, 2, 5, 9, 5, 5, 8, 8, 4, 5, 2, 6, 4, 9,\n",
            "        4, 6, 0, 8, 2, 8, 9, 4, 0, 3, 8, 3, 1, 5, 1, 6, 2, 1, 2, 4, 6, 6, 6, 1,\n",
            "        6, 2, 4, 4, 2, 5, 2, 7, 9, 6, 2, 8, 3, 5, 4, 4, 3, 0, 5, 3, 1, 1, 8, 5,\n",
            "        1, 3, 3, 8, 0, 3, 1, 6, 6, 6, 7, 0, 1, 6, 5, 5, 8, 8, 8, 1, 5, 4, 8, 7,\n",
            "        5, 3, 9, 7, 9, 9, 1, 1])\n",
            "[[3], [9], [3], [9], [0], [6], [5], [5], [3], [4], [7], [3], [8], [1], [0], [5], [7], [6], [9], [4], [2], [1], [8], [3], [6], [8], [1], [2], [9], [8], [3], [4], [4], [9], [4], [2], [3], [9], [5], [2], [8], [8], [4], [3], [2], [6], [4], [9], [5], [6], [0], [8], [2], [8], [9], [4], [0], [3], [1], [5], [1], [8], [1], [6], [2], [3], [2], [4], [3], [3], [6], [1], [4], [7], [4], [4], [2], [5], [3], [5], [9], [3], [2], [1], [3], [3], [5], [4], [3], [0], [3], [5], [0], [9], [8], [5], [1], [5], [3], [1], [0], [6], [1], [6], [6], [6], [7], [0], [1], [4], [5], [5], [8], [8], [1], [1], [3], [4], [8], [7], [5], [5], [0], [7], [9], [9], [1], [1]]\n",
            "prediction: [3, 9, 3, 9, 0, 6, 5, 5, 3, 4, 7, 3, 8, 1, 0, 5, 7, 6, 9, 4, 2, 1, 8, 3, 6, 8, 1, 2, 9, 8, 3, 4, 4, 9, 4, 2, 3, 9, 5, 2, 8, 8, 4, 3, 2, 6, 4, 9, 5, 6, 0, 8, 2, 8, 9, 4, 0, 3, 1, 5, 1, 8, 1, 6, 2, 3, 2, 4, 3, 3, 6, 1, 4, 7, 4, 4, 2, 5, 3, 5, 9, 3, 2, 1, 3, 3, 5, 4, 3, 0, 3, 5, 0, 9, 8, 5, 1, 5, 3, 1, 0, 6, 1, 6, 6, 6, 7, 0, 1, 4, 5, 5, 8, 8, 1, 1, 3, 4, 8, 7, 5, 5, 0, 7, 9, 9, 1, 1]\n",
            "target: [5, 7, 4, 9, 0, 6, 7, 5, 3, 4, 7, 3, 8, 1, 0, 7, 7, 0, 9, 4, 0, 1, 8, 5, 6, 8, 9, 2, 9, 9, 2, 4, 4, 9, 4, 2, 5, 9, 5, 5, 8, 8, 4, 5, 2, 6, 4, 9, 4, 6, 0, 8, 2, 8, 9, 4, 0, 3, 8, 3, 1, 5, 1, 6, 2, 1, 2, 4, 6, 6, 6, 1, 6, 2, 4, 4, 2, 5, 2, 7, 9, 6, 2, 8, 3, 5, 4, 4, 3, 0, 5, 3, 1, 1, 8, 5, 1, 3, 3, 8, 0, 3, 1, 6, 6, 6, 7, 0, 1, 6, 5, 5, 8, 8, 8, 1, 5, 4, 8, 7, 5, 3, 9, 7, 9, 9, 1, 1]\n"
          ]
        }
      ]
    },
    {
      "cell_type": "code",
      "source": [
        "ind = [i for i in range(10)]\n",
        "label_dict=dict(zip(ind,cls))\n",
        "new = res[0:10]\n",
        "print(len(new))"
      ],
      "metadata": {
        "colab": {
          "base_uri": "https://localhost:8080/"
        },
        "id": "kz4FfhQsQwVc",
        "outputId": "0710bae3-0237-4736-82c2-23605215fbdf"
      },
      "execution_count": 14,
      "outputs": [
        {
          "output_type": "stream",
          "name": "stdout",
          "text": [
            "10\n"
          ]
        }
      ]
    },
    {
      "cell_type": "code",
      "source": [
        "fig, axs = plt.subplots(5, 2 ,layout='constrained')\n",
        "axs[0, 0].imshow(images[new[0]].permute((1, 2, 0)))\n",
        "axs[0,0].set_title(label_dict[pred[new[0]]], fontsize = '10')\n",
        "axs[0,0].annotate(label_dict[target[new[0]]], xy=(0,27),fontsize = '10')\n",
        "\n",
        "axs[0, 1].imshow(images[new[1]].permute((1, 2, 0)))\n",
        "axs[0,1].set_title(label_dict[pred[new[1]]], fontsize = '10')\n",
        "axs[0,1].annotate(label_dict[target[new[1]]], xy=(0,27),fontsize = '10')\n",
        "\n",
        "axs[1, 0].imshow(images[new[2]].permute((1, 2, 0)))\n",
        "axs[1,0].set_title(label_dict[pred[new[2]]], fontsize = '10')\n",
        "axs[1,0].annotate(label_dict[target[new[2]]], xy=(0,27),fontsize = '10')\n",
        "\n",
        "axs[1, 1].imshow(images[new[3]].permute((1, 2, 0)))\n",
        "axs[1,1].set_title(label_dict[pred[new[3]]], fontsize = '10')\n",
        "axs[1,1].annotate(label_dict[target[new[3]]], xy=(0,27),fontsize = '10')\n",
        "\n",
        "axs[2, 0].imshow(images[new[4]].permute((1, 2, 0)))\n",
        "axs[2,0].set_title(label_dict[pred[new[4]]], fontsize = '10')\n",
        "axs[2,0].annotate(label_dict[target[new[4]]], xy=(0,27),fontsize = '10')\n",
        "\n",
        "axs[2, 1].imshow(images[new[5]].permute((1, 2, 0)))\n",
        "axs[2,1].set_title(label_dict[pred[new[5]]], fontsize = '10')\n",
        "axs[2,1].annotate(label_dict[target[new[5]]], xy=(0,27),fontsize = '10')\n",
        "\n",
        "axs[3, 0].imshow(images[new[6]].permute((1, 2, 0)))\n",
        "axs[3,0].set_title(label_dict[pred[new[6]]], fontsize = '10')\n",
        "axs[3,0].annotate(label_dict[target[new[6]]], xy=(0,27),fontsize = '10')\n",
        "\n",
        "axs[3, 1].imshow(images[new[7]].permute((1, 2, 0)))\n",
        "axs[3,1].set_title(label_dict[pred[new[7]]], fontsize = '10')\n",
        "axs[3,1].annotate(label_dict[target[new[7]]], xy=(0,27),fontsize = '10')\n",
        "\n",
        "axs[4, 0].imshow(images[new[8]].permute((1, 2, 0)))\n",
        "axs[4,0].set_title(label_dict[pred[new[8]]], fontsize = '10')\n",
        "axs[4,0].annotate(label_dict[target[new[8]]], xy=(0,27),fontsize = '10')\n",
        "\n",
        "axs[4, 1].imshow(images[new[9]].permute((1, 2, 0)))\n",
        "axs[4,1].set_title(label_dict[pred[new[9]]], fontsize = '10')\n",
        "axs[4,1].annotate(label_dict[target[new[9]]], xy=(0,27),fontsize = '10')\n",
        "\n",
        "\n"
      ],
      "metadata": {
        "colab": {
          "base_uri": "https://localhost:8080/",
          "height": 704
        },
        "id": "889EcJKRo383",
        "outputId": "20a38c38-ec88-4ba8-a5ed-063b5bd8ae34"
      },
      "execution_count": 15,
      "outputs": [
        {
          "output_type": "stream",
          "name": "stderr",
          "text": [
            "WARNING:matplotlib.image:Clipping input data to the valid range for imshow with RGB data ([0..1] for floats or [0..255] for integers).\n",
            "WARNING:matplotlib.image:Clipping input data to the valid range for imshow with RGB data ([0..1] for floats or [0..255] for integers).\n",
            "WARNING:matplotlib.image:Clipping input data to the valid range for imshow with RGB data ([0..1] for floats or [0..255] for integers).\n",
            "WARNING:matplotlib.image:Clipping input data to the valid range for imshow with RGB data ([0..1] for floats or [0..255] for integers).\n",
            "WARNING:matplotlib.image:Clipping input data to the valid range for imshow with RGB data ([0..1] for floats or [0..255] for integers).\n",
            "WARNING:matplotlib.image:Clipping input data to the valid range for imshow with RGB data ([0..1] for floats or [0..255] for integers).\n",
            "WARNING:matplotlib.image:Clipping input data to the valid range for imshow with RGB data ([0..1] for floats or [0..255] for integers).\n",
            "WARNING:matplotlib.image:Clipping input data to the valid range for imshow with RGB data ([0..1] for floats or [0..255] for integers).\n",
            "WARNING:matplotlib.image:Clipping input data to the valid range for imshow with RGB data ([0..1] for floats or [0..255] for integers).\n",
            "WARNING:matplotlib.image:Clipping input data to the valid range for imshow with RGB data ([0..1] for floats or [0..255] for integers).\n"
          ]
        },
        {
          "output_type": "execute_result",
          "data": {
            "text/plain": [
              "Text(0, 27, 'truck')"
            ]
          },
          "metadata": {},
          "execution_count": 15
        },
        {
          "output_type": "display_data",
          "data": {
            "text/plain": [
              "<Figure size 640x480 with 10 Axes>"
            ],
            "image/png": "[encoded data removed]"
          },
          "metadata": {}
        }
      ]
    }
  ]
}