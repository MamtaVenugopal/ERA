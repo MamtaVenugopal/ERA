{
  "nbformat": 4,
  "nbformat_minor": 0,
  "metadata": {
    "colab": {
      "provenance": []
    },
    "kernelspec": {
      "name": "python3",
      "display_name": "Python 3"
    },
    "accelerator": "GPU"
  },
  "cells": [
    {
      "cell_type": "markdown",
      "metadata": {
        "id": "aO-7t1Y7-hV4"
      },
      "source": [
        "# Import Libraries"
      ]
    },
    {
      "cell_type": "code",
      "metadata": {
        "id": "8kH16rnZ7wt_"
      },
      "source": [
        "from __future__ import print_function\n",
        "import torch\n",
        "import torch.nn as nn\n",
        "import torch.nn.functional as F\n",
        "import torch.optim as optim\n",
        "from torchvision import datasets, transforms\n",
        "import matplotlib.pyplot as plt\n",
        "from torchvision.utils import make_grid\n"
      ],
      "execution_count": 1,
      "outputs": []
    },
    {
      "cell_type": "code",
      "source": [
        "from google.colab import drive\n",
        "drive.mount('/content/drive')"
      ],
      "metadata": {
        "colab": {
          "base_uri": "https://localhost:8080/"
        },
        "id": "RjtUDv30tcV-",
        "outputId": "251fb421-17ab-4245-dbd7-8276aec1dfaa"
      },
      "execution_count": 2,
      "outputs": [
        {
          "output_type": "stream",
          "name": "stdout",
          "text": [
            "Mounted at /content/drive\n"
          ]
        }
      ]
    },
    {
      "cell_type": "markdown",
      "metadata": {
        "id": "ky3f_Odl-7um"
      },
      "source": [
        "## Data Transformations\n",
        "\n",
        "We first start with defining our data transformations. We need to think what our data is and how can we augment it to correct represent images which it might not see otherwise.\n"
      ]
    },
    {
      "cell_type": "code",
      "metadata": {
        "id": "YtssFUKb-jqx"
      },
      "source": [
        "# Train Phase transformations\n",
        "train_transforms = transforms.Compose([\n",
        "                                      #  transforms.Resize((28, 28)),\n",
        "                                      #  transforms.ColorJitter(brightness=0.10, contrast=0.1, saturation=0.10, hue=0.1),\n",
        "\n",
        "                                       transforms.ToTensor(),\n",
        "                                       transforms.Normalize((0.1307,), (0.3081,)) # The mean and std have to be sequences (e.g., tuples), therefore you should add a comma after the values.\n",
        "                                       # Note the difference between (0.1307) and (0.1307,)\n",
        "                                       ])\n",
        "\n",
        "# Test Phase transformations\n",
        "test_transforms = transforms.Compose([\n",
        "                                      #  transforms.Resize((28, 28)),\n",
        "                                      #  transforms.ColorJitter(brightness=0.10, contrast=0.1, saturation=0.10, hue=0.1),\n",
        "                                       transforms.ToTensor(),\n",
        "                                       transforms.Normalize((0.1307,), (0.3081,))\n",
        "                                       ])\n"
      ],
      "execution_count": 3,
      "outputs": []
    },
    {
      "cell_type": "markdown",
      "metadata": {
        "id": "oQciFYo2B1mO"
      },
      "source": [
        "# Dataset and Creating Train/Test Split"
      ]
    },
    {
      "cell_type": "code",
      "metadata": {
        "id": "_4A84rlfDA23",
        "colab": {
          "base_uri": "https://localhost:8080/"
        },
        "outputId": "5033a02c-8e8c-46ed-b008-f783e0ace35f"
      },
      "source": [
        "train = datasets.CIFAR10('./data', train=True, download=True, transform=train_transforms)\n",
        "test = datasets.CIFAR10('./data', train=False, download=True, transform=test_transforms)"
      ],
      "execution_count": 4,
      "outputs": [
        {
          "output_type": "stream",
          "name": "stdout",
          "text": [
            "Downloading https://www.cs.toronto.edu/~kriz/cifar-10-python.tar.gz to ./data/cifar-10-python.tar.gz\n"
          ]
        },
        {
          "output_type": "stream",
          "name": "stderr",
          "text": [
            "100%|██████████| 170498071/170498071 [00:13<00:00, 12475034.80it/s]\n"
          ]
        },
        {
          "output_type": "stream",
          "name": "stdout",
          "text": [
            "Extracting ./data/cifar-10-python.tar.gz to ./data\n",
            "Files already downloaded and verified\n"
          ]
        }
      ]
    },
    {
      "cell_type": "code",
      "source": [
        "cls=train.classes"
      ],
      "metadata": {
        "id": "QuSZlGgDk02_"
      },
      "execution_count": 5,
      "outputs": []
    },
    {
      "cell_type": "markdown",
      "metadata": {
        "id": "qgldp_3-Dn0c"
      },
      "source": [
        "# Dataloader Arguments & Test/Train Dataloaders\n"
      ]
    },
    {
      "cell_type": "code",
      "metadata": {
        "id": "C8OLDR79DrHG",
        "colab": {
          "base_uri": "https://localhost:8080/"
        },
        "outputId": "506d1d48-c43f-4174-9944-57aefa4a4efa"
      },
      "source": [
        "SEED = 1\n",
        "\n",
        "# CUDA?\n",
        "cuda = torch.cuda.is_available()\n",
        "print(\"CUDA Available?\", cuda)\n",
        "\n",
        "# For reproducibility\n",
        "torch.manual_seed(SEED)\n",
        "\n",
        "if cuda:\n",
        "    torch.cuda.manual_seed(SEED)\n",
        "\n",
        "# dataloader arguments - something you'll fetch these from cmdprmt\n",
        "dataloader_args = dict(shuffle=True, batch_size=128, num_workers=4, pin_memory=True) if cuda else dict(shuffle=True, batch_size=64)\n",
        "\n",
        "# train dataloader\n",
        "train_loader = torch.utils.data.DataLoader(train, **dataloader_args)\n",
        "\n",
        "# test dataloader\n",
        "test_loader = torch.utils.data.DataLoader(test, **dataloader_args)"
      ],
      "execution_count": 6,
      "outputs": [
        {
          "output_type": "stream",
          "name": "stdout",
          "text": [
            "CUDA Available? True\n"
          ]
        },
        {
          "output_type": "stream",
          "name": "stderr",
          "text": [
            "/usr/local/lib/python3.10/dist-packages/torch/utils/data/dataloader.py:560: UserWarning: This DataLoader will create 4 worker processes in total. Our suggested max number of worker in current system is 2, which is smaller than what this DataLoader is going to create. Please be aware that excessive worker creation might get DataLoader running slow or even freeze, lower the worker number to avoid potential slowness/freeze if necessary.\n",
            "  warnings.warn(_create_warning_msg(\n"
          ]
        }
      ]
    },
    {
      "cell_type": "markdown",
      "metadata": {
        "id": "ubQL3H6RJL3h"
      },
      "source": [
        "# The model\n",
        "Let's start with the model we first saw"
      ]
    },
    {
      "cell_type": "code",
      "metadata": {
        "id": "7FXQlB9kH1ov"
      },
      "source": [
        "import torch.nn.functional as F\n",
        "dropout_value = 0.1\n",
        "class Net(nn.Module):\n",
        "    def __init__(self):\n",
        "        super(Net, self).__init__()\n",
        "        # Input Block C1\n",
        "        self.convblock1 = nn.Sequential(\n",
        "            nn.Conv2d(in_channels=3, out_channels=32, kernel_size=(3, 3), padding=1, bias=False),\n",
        "            nn.ReLU(),\n",
        "            nn.GroupNorm(1, 32),\n",
        "            nn.Dropout(dropout_value)\n",
        "        ) # output_size = 32\n",
        "\n",
        "        # CONVOLUTION BLOCK C2\n",
        "        self.convblock2 = nn.Sequential(\n",
        "            nn.Conv2d(in_channels=32, out_channels=16, kernel_size=(3, 3), padding=1, bias=False),\n",
        "            nn.ReLU(),\n",
        "            nn.GroupNorm(1, 16),\n",
        "            nn.Dropout(dropout_value)\n",
        "        ) # output_size = 32\n",
        "\n",
        "        # TRANSITION BLOCK 1\n",
        "        self.c3 = nn.Sequential(\n",
        "            nn.Conv2d(in_channels=16, out_channels=16, kernel_size=(1, 1), padding=1, bias=False),\n",
        "        ) # output_size = 32\n",
        "        self.pool1 = nn.MaxPool2d(2, 2) # output_size = 16\n",
        "\n",
        "        # CONVOLUTION BLOCK C3\n",
        "        self.convblock3 = nn.Sequential(\n",
        "            nn.Conv2d(in_channels=16, out_channels=32, kernel_size=(3, 3), padding=1, bias=False),\n",
        "            nn.ReLU(),\n",
        "            nn.GroupNorm(1, 32),\n",
        "            nn.Dropout(dropout_value)\n",
        "        ) # output_size = 16\n",
        "        # CONVOLUTION BLOCK C4\n",
        "        self.convblock4 = nn.Sequential(\n",
        "            nn.Conv2d(in_channels=32, out_channels=32, kernel_size=(3, 3), padding=1, bias=False),\n",
        "            nn.ReLU(),\n",
        "            nn.GroupNorm(1, 32),\n",
        "            nn.Dropout(dropout_value)\n",
        "        ) # output_size = 16\n",
        "        # CONVOLUTION BLOCK C5\n",
        "        self.convblock5 = nn.Sequential(\n",
        "            nn.Conv2d(in_channels=32, out_channels=32, kernel_size=(3, 3), padding=1, bias=False),\n",
        "            nn.ReLU(),\n",
        "            nn.GroupNorm(1, 32),\n",
        "            nn.Dropout(dropout_value)\n",
        "        ) # output_size = 16\n",
        "\n",
        "       # TRANSITION BLOCK 2\n",
        "        self.c6 = nn.Sequential(\n",
        "            nn.Conv2d(in_channels=32, out_channels=16, kernel_size=(1, 1), padding=1, bias=False)\n",
        "        ) # output_size = 16\n",
        "        self.pool2 = nn.MaxPool2d(2, 2) # output_size = 8\n",
        "\n",
        "        # CONVOLUTION BLOCK C7\n",
        "        self.convblock7 = nn.Sequential(\n",
        "            nn.Conv2d(in_channels=16, out_channels=16, kernel_size=(3, 3), padding=1, bias=False),\n",
        "            nn.ReLU(),\n",
        "            nn.GroupNorm(1, 16),\n",
        "            nn.Dropout(dropout_value)\n",
        "        ) # output_size = 8\n",
        "        # CONVOLUTION BLOCK C8\n",
        "        self.convblock8 = nn.Sequential(\n",
        "            nn.Conv2d(in_channels=16, out_channels=32, kernel_size=(3, 3), padding=1, bias=False),\n",
        "            nn.ReLU(),\n",
        "            nn.GroupNorm(1, 32),\n",
        "            nn.Dropout(dropout_value)\n",
        "        ) # output_size = 8\n",
        "        # CONVOLUTION BLOCK C9\n",
        "        self.convblock9 = nn.Sequential(\n",
        "            nn.Conv2d(in_channels=32, out_channels=32, kernel_size=(3, 3), padding=1, bias=False),\n",
        "            nn.ReLU(),\n",
        "            nn.GroupNorm(1, 32),\n",
        "            nn.Dropout(dropout_value)\n",
        "        ) # output_size = 8\n",
        "\n",
        "        # OUTPUT BLOCK\n",
        "        self.gap = nn.Sequential(\n",
        "            nn.AvgPool2d(kernel_size=8)\n",
        "        ) # output_size = 1\n",
        "        # CONVOLUTION BLOCK C10\n",
        "        self.convblock10 = nn.Sequential(\n",
        "            nn.Conv2d(in_channels=32, out_channels=10, kernel_size=(1, 1), padding=0, bias=False),\n",
        "            # nn.BatchNorm2d(10),\n",
        "            # nn.ReLU(),\n",
        "            # nn.Dropout(dropout_value)\n",
        "        )\n",
        "\n",
        "\n",
        "        self.dropout = nn.Dropout(dropout_value)\n",
        "\n",
        "    def forward(self, x):\n",
        "        x = self.convblock1(x)\n",
        "        x = self.convblock2(x)\n",
        "        x = self.c3(x)\n",
        "        x = self.pool1(x)\n",
        "        x = self.convblock3(x)\n",
        "        x = self.convblock4(x)\n",
        "        x = self.convblock5(x)\n",
        "        x = self.c6(x)\n",
        "        x = self.pool2(x)\n",
        "        x = self.convblock7(x)\n",
        "        x = self.convblock8(x)\n",
        "        x = self.convblock9(x)\n",
        "        x = self.gap(x)\n",
        "        x = self.convblock10(x)\n",
        "\n",
        "        x = x.view(-1, 10)\n",
        "        return F.log_softmax(x, dim=-1)"
      ],
      "execution_count": 7,
      "outputs": []
    },
    {
      "cell_type": "markdown",
      "metadata": {
        "id": "M3-vp8X9LCWo"
      },
      "source": [
        "# Model Params\n",
        "Can't emphasize on how important viewing Model Summary is.\n",
        "Unfortunately, there is no in-built model visualizer, so we have to take external help"
      ]
    },
    {
      "cell_type": "code",
      "metadata": {
        "id": "5skB97zIJQQe",
        "colab": {
          "base_uri": "https://localhost:8080/"
        },
        "outputId": "fe646013-df9e-4432-c4d3-81f54f16f7cd"
      },
      "source": [
        "!pip install torchsummary\n",
        "from torchsummary import summary\n",
        "use_cuda = torch.cuda.is_available()\n",
        "device = torch.device(\"cuda\" if use_cuda else \"cpu\")\n",
        "print(device)\n",
        "model = Net().to(device)\n",
        "summary(model, input_size=(3, 32, 32))"
      ],
      "execution_count": 8,
      "outputs": [
        {
          "output_type": "stream",
          "name": "stdout",
          "text": [
            "Looking in indexes: https://pypi.org/simple, https://us-python.pkg.dev/colab-wheels/public/simple/\n",
            "Requirement already satisfied: torchsummary in /usr/local/lib/python3.10/dist-packages (1.5.1)\n",
            "cuda\n",
            "----------------------------------------------------------------\n",
            "        Layer (type)               Output Shape         Param #\n",
            "================================================================\n",
            "            Conv2d-1           [-1, 32, 32, 32]             864\n",
            "              ReLU-2           [-1, 32, 32, 32]               0\n",
            "         GroupNorm-3           [-1, 32, 32, 32]              64\n",
            "           Dropout-4           [-1, 32, 32, 32]               0\n",
            "            Conv2d-5           [-1, 16, 32, 32]           4,608\n",
            "              ReLU-6           [-1, 16, 32, 32]               0\n",
            "         GroupNorm-7           [-1, 16, 32, 32]              32\n",
            "           Dropout-8           [-1, 16, 32, 32]               0\n",
            "            Conv2d-9           [-1, 16, 34, 34]             256\n",
            "        MaxPool2d-10           [-1, 16, 17, 17]               0\n",
            "           Conv2d-11           [-1, 32, 17, 17]           4,608\n",
            "             ReLU-12           [-1, 32, 17, 17]               0\n",
            "        GroupNorm-13           [-1, 32, 17, 17]              64\n",
            "          Dropout-14           [-1, 32, 17, 17]               0\n",
            "           Conv2d-15           [-1, 32, 17, 17]           9,216\n",
            "             ReLU-16           [-1, 32, 17, 17]               0\n",
            "        GroupNorm-17           [-1, 32, 17, 17]              64\n",
            "          Dropout-18           [-1, 32, 17, 17]               0\n",
            "           Conv2d-19           [-1, 32, 17, 17]           9,216\n",
            "             ReLU-20           [-1, 32, 17, 17]               0\n",
            "        GroupNorm-21           [-1, 32, 17, 17]              64\n",
            "          Dropout-22           [-1, 32, 17, 17]               0\n",
            "           Conv2d-23           [-1, 16, 19, 19]             512\n",
            "        MaxPool2d-24             [-1, 16, 9, 9]               0\n",
            "           Conv2d-25             [-1, 16, 9, 9]           2,304\n",
            "             ReLU-26             [-1, 16, 9, 9]               0\n",
            "        GroupNorm-27             [-1, 16, 9, 9]              32\n",
            "          Dropout-28             [-1, 16, 9, 9]               0\n",
            "           Conv2d-29             [-1, 32, 9, 9]           4,608\n",
            "             ReLU-30             [-1, 32, 9, 9]               0\n",
            "        GroupNorm-31             [-1, 32, 9, 9]              64\n",
            "          Dropout-32             [-1, 32, 9, 9]               0\n",
            "           Conv2d-33             [-1, 32, 9, 9]           9,216\n",
            "             ReLU-34             [-1, 32, 9, 9]               0\n",
            "        GroupNorm-35             [-1, 32, 9, 9]              64\n",
            "          Dropout-36             [-1, 32, 9, 9]               0\n",
            "        AvgPool2d-37             [-1, 32, 1, 1]               0\n",
            "           Conv2d-38             [-1, 10, 1, 1]             320\n",
            "================================================================\n",
            "Total params: 46,176\n",
            "Trainable params: 46,176\n",
            "Non-trainable params: 0\n",
            "----------------------------------------------------------------\n",
            "Input size (MB): 0.01\n",
            "Forward/backward pass size (MB): 2.78\n",
            "Params size (MB): 0.18\n",
            "Estimated Total Size (MB): 2.96\n",
            "----------------------------------------------------------------\n"
          ]
        }
      ]
    },
    {
      "cell_type": "markdown",
      "metadata": {
        "id": "1__x_SbrL7z3"
      },
      "source": [
        "# Training and Testing\n",
        "\n",
        "All right, so we have 24M params, and that's too many, we know that. But the purpose of this notebook is to set things right for our future experiments.\n",
        "\n",
        "Looking at logs can be boring, so we'll introduce **tqdm** progressbar to get cooler logs.\n",
        "\n",
        "Let's write train and test functions"
      ]
    },
    {
      "cell_type": "code",
      "metadata": {
        "id": "fbkF2nN_LYIb"
      },
      "source": [
        "from tqdm import tqdm\n",
        "\n",
        "train_losses = []\n",
        "test_losses = []\n",
        "train_acc = []\n",
        "test_acc = []\n",
        "\n",
        "def train(model, device, train_loader, optimizer, epoch):\n",
        "  model.train()\n",
        "  pbar = tqdm(train_loader)\n",
        "  correct = 0\n",
        "  processed = 0\n",
        "  for batch_idx, (data, target) in enumerate(pbar):\n",
        "    # get samples\n",
        "    data, target = data.to(device), target.to(device)\n",
        "\n",
        "    # Init\n",
        "    optimizer.zero_grad()\n",
        "    # In PyTorch, we need to set the gradients to zero before starting to do backpropragation because PyTorch accumulates the gradients on subsequent backward passes.\n",
        "    # Because of this, when you start your training loop, ideally you should zero out the gradients so that you do the parameter update correctly.\n",
        "\n",
        "    # Predict\n",
        "    y_pred = model(data)\n",
        "\n",
        "    # Calculate loss\n",
        "    loss = F.nll_loss(y_pred, target)\n",
        "    train_losses.append(loss)\n",
        "\n",
        "    # Backpropagation\n",
        "    loss.backward()\n",
        "    optimizer.step()\n",
        "\n",
        "    # Update pbar-tqdm\n",
        "\n",
        "    pred = y_pred.argmax(dim=1, keepdim=True)  # get the index of the max log-probability\n",
        "    correct += pred.eq(target.view_as(pred)).sum().item()\n",
        "    processed += len(data)\n",
        "\n",
        "    pbar.set_description(desc= f'Loss={loss.item()} Batch_id={batch_idx} Accuracy={100*correct/processed:0.2f}')\n",
        "    train_acc.append(100*correct/processed)\n",
        "\n",
        "def test(model, device, test_loader):\n",
        "    model.eval()\n",
        "    test_loss = 0\n",
        "    correct = 0\n",
        "    with torch.no_grad():\n",
        "        for data, target in test_loader:\n",
        "            data, target = data.to(device), target.to(device)\n",
        "            output = model(data)\n",
        "            test_loss += F.nll_loss(output, target, reduction='sum').item()  # sum up batch loss\n",
        "            pred = output.argmax(dim=1, keepdim=True)  # get the index of the max log-probability\n",
        "            correct += pred.eq(target.view_as(pred)).sum().item()\n",
        "\n",
        "    test_loss /= len(test_loader.dataset)\n",
        "    test_losses.append(test_loss)\n",
        "\n",
        "    print('\\nTest set: Average loss: {:.4f}, Accuracy: {}/{} ({:.2f}%)\\n'.format(\n",
        "        test_loss, correct, len(test_loader.dataset),\n",
        "        100. * correct / len(test_loader.dataset)))\n",
        "\n",
        "    test_acc.append(100. * correct / len(test_loader.dataset))"
      ],
      "execution_count": 9,
      "outputs": []
    },
    {
      "cell_type": "code",
      "metadata": {
        "id": "aE5Le6FYHhc8",
        "colab": {
          "base_uri": "https://localhost:8080/"
        },
        "outputId": "be900871-e955-44ca-d3ea-267913414da2"
      },
      "source": [
        "from torch.optim.lr_scheduler import StepLR\n",
        "\n",
        "model =  Net().to(device)\n",
        "optimizer = optim.SGD(model.parameters(), lr=0.01, momentum=0.9)\n",
        "#scheduler = StepLR(optimizer, step_size=6, gamma=0.1)\n",
        "\n",
        "\n",
        "EPOCHS = 20\n",
        "for epoch in range(EPOCHS):\n",
        "    print(\"EPOCH:\", epoch)\n",
        "    train(model, device, train_loader, optimizer, epoch)\n",
        "    #scheduler.step()\n",
        "    test(model, device, test_loader)"
      ],
      "execution_count": 10,
      "outputs": [
        {
          "output_type": "stream",
          "name": "stdout",
          "text": [
            "EPOCH: 0\n"
          ]
        },
        {
          "output_type": "stream",
          "name": "stderr",
          "text": [
            "Loss=1.6484044790267944 Batch_id=390 Accuracy=32.81: 100%|██████████| 391/391 [00:26<00:00, 14.49it/s]\n"
          ]
        },
        {
          "output_type": "stream",
          "name": "stdout",
          "text": [
            "\n",
            "Test set: Average loss: 1.5866, Accuracy: 4258/10000 (42.58%)\n",
            "\n",
            "EPOCH: 1\n"
          ]
        },
        {
          "output_type": "stream",
          "name": "stderr",
          "text": [
            "Loss=1.1304315328598022 Batch_id=390 Accuracy=47.71: 100%|██████████| 391/391 [00:27<00:00, 14.23it/s]\n"
          ]
        },
        {
          "output_type": "stream",
          "name": "stdout",
          "text": [
            "\n",
            "Test set: Average loss: 1.2685, Accuracy: 5374/10000 (53.74%)\n",
            "\n",
            "EPOCH: 2\n"
          ]
        },
        {
          "output_type": "stream",
          "name": "stderr",
          "text": [
            "Loss=1.215996503829956 Batch_id=390 Accuracy=56.24: 100%|██████████| 391/391 [00:20<00:00, 18.99it/s]\n"
          ]
        },
        {
          "output_type": "stream",
          "name": "stdout",
          "text": [
            "\n",
            "Test set: Average loss: 1.2180, Accuracy: 5633/10000 (56.33%)\n",
            "\n",
            "EPOCH: 3\n"
          ]
        },
        {
          "output_type": "stream",
          "name": "stderr",
          "text": [
            "Loss=1.10710608959198 Batch_id=390 Accuracy=60.35: 100%|██████████| 391/391 [00:23<00:00, 16.88it/s]\n"
          ]
        },
        {
          "output_type": "stream",
          "name": "stdout",
          "text": [
            "\n",
            "Test set: Average loss: 1.0180, Accuracy: 6353/10000 (63.53%)\n",
            "\n",
            "EPOCH: 4\n"
          ]
        },
        {
          "output_type": "stream",
          "name": "stderr",
          "text": [
            "Loss=1.0100585222244263 Batch_id=390 Accuracy=63.74: 100%|██████████| 391/391 [00:25<00:00, 15.14it/s]\n"
          ]
        },
        {
          "output_type": "stream",
          "name": "stdout",
          "text": [
            "\n",
            "Test set: Average loss: 0.9728, Accuracy: 6452/10000 (64.52%)\n",
            "\n",
            "EPOCH: 5\n"
          ]
        },
        {
          "output_type": "stream",
          "name": "stderr",
          "text": [
            "Loss=1.1212356090545654 Batch_id=390 Accuracy=65.41: 100%|██████████| 391/391 [00:20<00:00, 18.97it/s]\n"
          ]
        },
        {
          "output_type": "stream",
          "name": "stdout",
          "text": [
            "\n",
            "Test set: Average loss: 0.9821, Accuracy: 6504/10000 (65.04%)\n",
            "\n",
            "EPOCH: 6\n"
          ]
        },
        {
          "output_type": "stream",
          "name": "stderr",
          "text": [
            "Loss=0.9017054438591003 Batch_id=390 Accuracy=67.08: 100%|██████████| 391/391 [00:20<00:00, 18.72it/s]\n"
          ]
        },
        {
          "output_type": "stream",
          "name": "stdout",
          "text": [
            "\n",
            "Test set: Average loss: 0.9238, Accuracy: 6679/10000 (66.79%)\n",
            "\n",
            "EPOCH: 7\n"
          ]
        },
        {
          "output_type": "stream",
          "name": "stderr",
          "text": [
            "Loss=1.2401776313781738 Batch_id=390 Accuracy=68.25: 100%|██████████| 391/391 [00:21<00:00, 18.20it/s]\n"
          ]
        },
        {
          "output_type": "stream",
          "name": "stdout",
          "text": [
            "\n",
            "Test set: Average loss: 0.8773, Accuracy: 6878/10000 (68.78%)\n",
            "\n",
            "EPOCH: 8\n"
          ]
        },
        {
          "output_type": "stream",
          "name": "stderr",
          "text": [
            "Loss=0.8303074836730957 Batch_id=390 Accuracy=69.41: 100%|██████████| 391/391 [00:20<00:00, 18.84it/s]\n"
          ]
        },
        {
          "output_type": "stream",
          "name": "stdout",
          "text": [
            "\n",
            "Test set: Average loss: 0.8846, Accuracy: 6850/10000 (68.50%)\n",
            "\n",
            "EPOCH: 9\n"
          ]
        },
        {
          "output_type": "stream",
          "name": "stderr",
          "text": [
            "Loss=0.6637399196624756 Batch_id=390 Accuracy=70.38: 100%|██████████| 391/391 [00:22<00:00, 17.77it/s]\n"
          ]
        },
        {
          "output_type": "stream",
          "name": "stdout",
          "text": [
            "\n",
            "Test set: Average loss: 0.8282, Accuracy: 7066/10000 (70.66%)\n",
            "\n",
            "EPOCH: 10\n"
          ]
        },
        {
          "output_type": "stream",
          "name": "stderr",
          "text": [
            "Loss=0.7566943764686584 Batch_id=390 Accuracy=71.35: 100%|██████████| 391/391 [00:22<00:00, 17.46it/s]\n"
          ]
        },
        {
          "output_type": "stream",
          "name": "stdout",
          "text": [
            "\n",
            "Test set: Average loss: 0.8162, Accuracy: 7138/10000 (71.38%)\n",
            "\n",
            "EPOCH: 11\n"
          ]
        },
        {
          "output_type": "stream",
          "name": "stderr",
          "text": [
            "Loss=0.7589820623397827 Batch_id=390 Accuracy=72.23: 100%|██████████| 391/391 [00:20<00:00, 18.79it/s]\n"
          ]
        },
        {
          "output_type": "stream",
          "name": "stdout",
          "text": [
            "\n",
            "Test set: Average loss: 0.7695, Accuracy: 7261/10000 (72.61%)\n",
            "\n",
            "EPOCH: 12\n"
          ]
        },
        {
          "output_type": "stream",
          "name": "stderr",
          "text": [
            "Loss=1.0345888137817383 Batch_id=390 Accuracy=73.15: 100%|██████████| 391/391 [00:21<00:00, 17.81it/s]\n"
          ]
        },
        {
          "output_type": "stream",
          "name": "stdout",
          "text": [
            "\n",
            "Test set: Average loss: 0.7659, Accuracy: 7276/10000 (72.76%)\n",
            "\n",
            "EPOCH: 13\n"
          ]
        },
        {
          "output_type": "stream",
          "name": "stderr",
          "text": [
            "Loss=0.7856190800666809 Batch_id=390 Accuracy=73.73: 100%|██████████| 391/391 [00:20<00:00, 18.63it/s]\n"
          ]
        },
        {
          "output_type": "stream",
          "name": "stdout",
          "text": [
            "\n",
            "Test set: Average loss: 0.7840, Accuracy: 7213/10000 (72.13%)\n",
            "\n",
            "EPOCH: 14\n"
          ]
        },
        {
          "output_type": "stream",
          "name": "stderr",
          "text": [
            "Loss=0.6569324135780334 Batch_id=390 Accuracy=74.56: 100%|██████████| 391/391 [00:22<00:00, 17.47it/s]\n"
          ]
        },
        {
          "output_type": "stream",
          "name": "stdout",
          "text": [
            "\n",
            "Test set: Average loss: 0.7376, Accuracy: 7345/10000 (73.45%)\n",
            "\n",
            "EPOCH: 15\n"
          ]
        },
        {
          "output_type": "stream",
          "name": "stderr",
          "text": [
            "Loss=0.8255734443664551 Batch_id=390 Accuracy=74.98: 100%|██████████| 391/391 [00:19<00:00, 20.36it/s]\n"
          ]
        },
        {
          "output_type": "stream",
          "name": "stdout",
          "text": [
            "\n",
            "Test set: Average loss: 0.7543, Accuracy: 7349/10000 (73.49%)\n",
            "\n",
            "EPOCH: 16\n"
          ]
        },
        {
          "output_type": "stream",
          "name": "stderr",
          "text": [
            "Loss=0.5939415097236633 Batch_id=390 Accuracy=75.66: 100%|██████████| 391/391 [00:22<00:00, 17.46it/s]\n"
          ]
        },
        {
          "output_type": "stream",
          "name": "stdout",
          "text": [
            "\n",
            "Test set: Average loss: 0.7243, Accuracy: 7427/10000 (74.27%)\n",
            "\n",
            "EPOCH: 17\n"
          ]
        },
        {
          "output_type": "stream",
          "name": "stderr",
          "text": [
            "Loss=0.5209237337112427 Batch_id=390 Accuracy=76.22: 100%|██████████| 391/391 [00:22<00:00, 17.11it/s]\n"
          ]
        },
        {
          "output_type": "stream",
          "name": "stdout",
          "text": [
            "\n",
            "Test set: Average loss: 0.6952, Accuracy: 7574/10000 (75.74%)\n",
            "\n",
            "EPOCH: 18\n"
          ]
        },
        {
          "output_type": "stream",
          "name": "stderr",
          "text": [
            "Loss=0.5362626314163208 Batch_id=390 Accuracy=76.67: 100%|██████████| 391/391 [00:20<00:00, 18.90it/s]\n"
          ]
        },
        {
          "output_type": "stream",
          "name": "stdout",
          "text": [
            "\n",
            "Test set: Average loss: 0.7137, Accuracy: 7514/10000 (75.14%)\n",
            "\n",
            "EPOCH: 19\n"
          ]
        },
        {
          "output_type": "stream",
          "name": "stderr",
          "text": [
            "Loss=0.9099008440971375 Batch_id=390 Accuracy=77.13: 100%|██████████| 391/391 [00:20<00:00, 18.77it/s]\n"
          ]
        },
        {
          "output_type": "stream",
          "name": "stdout",
          "text": [
            "\n",
            "Test set: Average loss: 0.7223, Accuracy: 7482/10000 (74.82%)\n",
            "\n"
          ]
        }
      ]
    },
    {
      "cell_type": "code",
      "source": [
        "torch.save(model.state_dict(),'/content/drive/MyDrive/ERA/ERA_S8/modelln2.pth')"
      ],
      "metadata": {
        "id": "PNjl0K78sX59"
      },
      "execution_count": null,
      "outputs": []
    },
    {
      "cell_type": "code",
      "source": [
        "t = [t_items.item() for t_items in train_losses]\n",
        "%matplotlib inline\n",
        "import matplotlib.pyplot as plt\n",
        "fig, axs = plt.subplots(2,2,figsize=(15,10))\n",
        "axs[0, 0].plot(t)\n",
        "axs[0, 0].set_title(\"Training Loss\")\n",
        "axs[1, 0].plot(train_acc)\n",
        "axs[1, 0].set_title(\"Training Accuracy\")\n",
        "axs[0, 1].plot(test_losses)\n",
        "axs[0, 1].set_title(\"Test Loss\")\n",
        "axs[1, 1].plot(test_acc)\n",
        "axs[1, 1].set_title(\"Test Accuracy\")"
      ],
      "metadata": {
        "id": "fKeBz_bFDIBd",
        "colab": {
          "base_uri": "https://localhost:8080/",
          "height": 871
        },
        "outputId": "396a0cc0-5378-4037-f7cf-ab89c62de014"
      },
      "execution_count": 11,
      "outputs": [
        {
          "output_type": "execute_result",
          "data": {
            "text/plain": [
              "Text(0.5, 1.0, 'Test Accuracy')"
            ]
          },
          "metadata": {},
          "execution_count": 11
        },
        {
          "output_type": "display_data",
          "data": {
            "text/plain": [
              "<Figure size 1500x1000 with 4 Axes>"
            ],
            "image/png": "[encoded data removed]"
          },
          "metadata": {}
        }
      ]
    },
    {
      "cell_type": "code",
      "source": [
        "dataiter = iter(test_loader)\n",
        "images, labels = next(dataiter)\n",
        "print(labels)\n",
        "model.eval()\n",
        "test_loss = 0\n",
        "pred = []\n",
        "with torch.no_grad():\n",
        "  data, target = images.to(device), labels.to(device)\n",
        "  output = model(data)\n",
        "  test_loss += F.nll_loss(output, target, reduction='sum').item()  # sum up batch loss\n",
        "  p = output.argmax(dim=1, keepdim=True)\n",
        "  print(p.tolist())\n",
        "  #pred.append(output.argmax(dim=1, keepdim=True)[1].tolist()) # get the index of the max log-probability\n",
        "pred = [t_items.item() for t_items in p]\n",
        "target = [t_items.item() for t_items in target]\n",
        "print('prediction:',pred)\n",
        "print('target:',target)\n",
        "res = [idx for idx, elem in enumerate(pred)\n",
        "                           if elem != target[idx]]\n",
        "\n"
      ],
      "metadata": {
        "colab": {
          "base_uri": "https://localhost:8080/"
        },
        "id": "D3c_QNT9weZM",
        "outputId": "1f703938-46ab-4e88-a533-dd507af6a04d"
      },
      "execution_count": 12,
      "outputs": [
        {
          "output_type": "stream",
          "name": "stdout",
          "text": [
            "tensor([3, 6, 5, 9, 8, 9, 5, 6, 0, 8, 3, 2, 2, 0, 8, 4, 3, 9, 2, 6, 2, 0, 9, 3,\n",
            "        3, 4, 1, 4, 0, 2, 1, 4, 0, 2, 0, 9, 2, 1, 0, 6, 2, 7, 2, 6, 5, 5, 6, 1,\n",
            "        5, 6, 5, 8, 9, 0, 9, 3, 1, 8, 2, 6, 4, 3, 2, 1, 8, 4, 9, 4, 8, 4, 3, 7,\n",
            "        6, 4, 0, 4, 5, 5, 4, 6, 3, 3, 1, 7, 9, 8, 7, 3, 4, 0, 3, 3, 2, 3, 0, 8,\n",
            "        3, 5, 8, 2, 0, 0, 0, 7, 6, 3, 6, 6, 7, 6, 7, 0, 9, 3, 6, 1, 7, 1, 8, 3,\n",
            "        7, 5, 0, 9, 9, 8, 2, 8])\n",
            "[[0], [6], [3], [9], [8], [9], [3], [6], [8], [8], [3], [2], [2], [8], [8], [4], [3], [9], [2], [6], [1], [0], [9], [3], [3], [4], [1], [6], [0], [2], [1], [4], [0], [2], [8], [8], [2], [1], [0], [6], [6], [7], [3], [6], [5], [5], [6], [1], [0], [6], [5], [8], [9], [0], [9], [3], [1], [8], [2], [6], [4], [8], [2], [1], [8], [4], [9], [4], [8], [4], [2], [7], [6], [8], [0], [2], [3], [3], [4], [6], [2], [8], [1], [7], [9], [8], [7], [5], [4], [0], [8], [3], [2], [2], [0], [1], [3], [5], [8], [2], [0], [0], [0], [5], [6], [3], [6], [6], [5], [6], [7], [0], [9], [3], [6], [1], [4], [8], [8], [3], [7], [4], [0], [6], [9], [8], [6], [8]]\n",
            "prediction: [0, 6, 3, 9, 8, 9, 3, 6, 8, 8, 3, 2, 2, 8, 8, 4, 3, 9, 2, 6, 1, 0, 9, 3, 3, 4, 1, 6, 0, 2, 1, 4, 0, 2, 8, 8, 2, 1, 0, 6, 6, 7, 3, 6, 5, 5, 6, 1, 0, 6, 5, 8, 9, 0, 9, 3, 1, 8, 2, 6, 4, 8, 2, 1, 8, 4, 9, 4, 8, 4, 2, 7, 6, 8, 0, 2, 3, 3, 4, 6, 2, 8, 1, 7, 9, 8, 7, 5, 4, 0, 8, 3, 2, 2, 0, 1, 3, 5, 8, 2, 0, 0, 0, 5, 6, 3, 6, 6, 5, 6, 7, 0, 9, 3, 6, 1, 4, 8, 8, 3, 7, 4, 0, 6, 9, 8, 6, 8]\n",
            "target: [3, 6, 5, 9, 8, 9, 5, 6, 0, 8, 3, 2, 2, 0, 8, 4, 3, 9, 2, 6, 2, 0, 9, 3, 3, 4, 1, 4, 0, 2, 1, 4, 0, 2, 0, 9, 2, 1, 0, 6, 2, 7, 2, 6, 5, 5, 6, 1, 5, 6, 5, 8, 9, 0, 9, 3, 1, 8, 2, 6, 4, 3, 2, 1, 8, 4, 9, 4, 8, 4, 3, 7, 6, 4, 0, 4, 5, 5, 4, 6, 3, 3, 1, 7, 9, 8, 7, 3, 4, 0, 3, 3, 2, 3, 0, 8, 3, 5, 8, 2, 0, 0, 0, 7, 6, 3, 6, 6, 7, 6, 7, 0, 9, 3, 6, 1, 7, 1, 8, 3, 7, 5, 0, 9, 9, 8, 2, 8]\n"
          ]
        }
      ]
    },
    {
      "cell_type": "code",
      "source": [
        "ind = [i for i in range(10)]\n",
        "label_dict=dict(zip(ind,cls))\n",
        "new = res[0:10]\n",
        "print(len(new))"
      ],
      "metadata": {
        "colab": {
          "base_uri": "https://localhost:8080/"
        },
        "id": "3UDh8EeCNjQr",
        "outputId": "39a9dd09-e7fa-40aa-dddc-cca8a6e326a7"
      },
      "execution_count": 13,
      "outputs": [
        {
          "output_type": "stream",
          "name": "stdout",
          "text": [
            "10\n"
          ]
        }
      ]
    },
    {
      "cell_type": "code",
      "source": [
        "fig, axs = plt.subplots(5, 2 ,layout='constrained')\n",
        "axs[0, 0].imshow(images[new[0]].permute((1, 2, 0)))\n",
        "axs[0,0].set_title(label_dict[pred[new[0]]], fontsize = '10')\n",
        "axs[0,0].annotate(label_dict[target[new[0]]], xy=(0,27),fontsize = '10')\n",
        "\n",
        "axs[0, 1].imshow(images[new[1]].permute((1, 2, 0)))\n",
        "axs[0,1].set_title(label_dict[pred[new[1]]], fontsize = '10')\n",
        "axs[0,1].annotate(label_dict[target[new[1]]], xy=(0,27),fontsize = '10')\n",
        "\n",
        "axs[1, 0].imshow(images[new[2]].permute((1, 2, 0)))\n",
        "axs[1,0].set_title(label_dict[pred[new[2]]], fontsize = '10')\n",
        "axs[1,0].annotate(label_dict[target[new[2]]], xy=(0,27),fontsize = '10')\n",
        "\n",
        "axs[1, 1].imshow(images[new[3]].permute((1, 2, 0)))\n",
        "axs[1,1].set_title(label_dict[pred[new[3]]], fontsize = '10')\n",
        "axs[1,1].annotate(label_dict[target[new[3]]], xy=(0,27),fontsize = '10')\n",
        "\n",
        "axs[2, 0].imshow(images[new[4]].permute((1, 2, 0)))\n",
        "axs[2,0].set_title(label_dict[pred[new[4]]], fontsize = '10')\n",
        "axs[2,0].annotate(label_dict[target[new[4]]], xy=(0,27),fontsize = '10')\n",
        "\n",
        "axs[2, 1].imshow(images[new[5]].permute((1, 2, 0)))\n",
        "axs[2,1].set_title(label_dict[pred[new[5]]], fontsize = '10')\n",
        "axs[2,1].annotate(label_dict[target[new[5]]], xy=(0,27),fontsize = '10')\n",
        "\n",
        "axs[3, 0].imshow(images[new[6]].permute((1, 2, 0)))\n",
        "axs[3,0].set_title(label_dict[pred[new[6]]], fontsize = '10')\n",
        "axs[3,0].annotate(label_dict[target[new[6]]], xy=(0,27),fontsize = '10')\n",
        "\n",
        "axs[3, 1].imshow(images[new[7]].permute((1, 2, 0)))\n",
        "axs[3,1].set_title(label_dict[pred[new[7]]], fontsize = '10')\n",
        "axs[3,1].annotate(label_dict[target[new[7]]], xy=(0,27),fontsize = '10')\n",
        "\n",
        "axs[4, 0].imshow(images[new[8]].permute((1, 2, 0)))\n",
        "axs[4,0].set_title(label_dict[pred[new[8]]], fontsize = '10')\n",
        "axs[4,0].annotate(label_dict[target[new[8]]], xy=(0,27),fontsize = '10')\n",
        "\n",
        "axs[4, 1].imshow(images[new[9]].permute((1, 2, 0)))\n",
        "axs[4,1].set_title(label_dict[pred[new[9]]], fontsize = '10')\n",
        "axs[4,1].annotate(label_dict[target[new[9]]], xy=(0,27),fontsize = '10')\n",
        "\n",
        "\n"
      ],
      "metadata": {
        "colab": {
          "base_uri": "https://localhost:8080/",
          "height": 704
        },
        "id": "889EcJKRo383",
        "outputId": "37214245-1a17-48ef-824d-dcc82672fda8"
      },
      "execution_count": 14,
      "outputs": [
        {
          "output_type": "stream",
          "name": "stderr",
          "text": [
            "WARNING:matplotlib.image:Clipping input data to the valid range for imshow with RGB data ([0..1] for floats or [0..255] for integers).\n",
            "WARNING:matplotlib.image:Clipping input data to the valid range for imshow with RGB data ([0..1] for floats or [0..255] for integers).\n",
            "WARNING:matplotlib.image:Clipping input data to the valid range for imshow with RGB data ([0..1] for floats or [0..255] for integers).\n",
            "WARNING:matplotlib.image:Clipping input data to the valid range for imshow with RGB data ([0..1] for floats or [0..255] for integers).\n",
            "WARNING:matplotlib.image:Clipping input data to the valid range for imshow with RGB data ([0..1] for floats or [0..255] for integers).\n",
            "WARNING:matplotlib.image:Clipping input data to the valid range for imshow with RGB data ([0..1] for floats or [0..255] for integers).\n",
            "WARNING:matplotlib.image:Clipping input data to the valid range for imshow with RGB data ([0..1] for floats or [0..255] for integers).\n",
            "WARNING:matplotlib.image:Clipping input data to the valid range for imshow with RGB data ([0..1] for floats or [0..255] for integers).\n",
            "WARNING:matplotlib.image:Clipping input data to the valid range for imshow with RGB data ([0..1] for floats or [0..255] for integers).\n",
            "WARNING:matplotlib.image:Clipping input data to the valid range for imshow with RGB data ([0..1] for floats or [0..255] for integers).\n"
          ]
        },
        {
          "output_type": "execute_result",
          "data": {
            "text/plain": [
              "Text(0, 27, 'bird')"
            ]
          },
          "metadata": {},
          "execution_count": 14
        },
        {
          "output_type": "display_data",
          "data": {
            "text/plain": [
              "<Figure size 640x480 with 10 Axes>"
            ],
            "image/png": "[encoded data removed]"
          },
          "metadata": {}
        }
      ]
    }
  ]
}