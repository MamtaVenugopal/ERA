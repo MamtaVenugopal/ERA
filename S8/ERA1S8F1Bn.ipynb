{
  "nbformat": 4,
  "nbformat_minor": 0,
  "metadata": {
    "colab": {
      "provenance": []
    },
    "kernelspec": {
      "name": "python3",
      "display_name": "Python 3"
    },
    "accelerator": "GPU"
  },
  "cells": [
    {
      "cell_type": "markdown",
      "metadata": {
        "id": "aO-7t1Y7-hV4"
      },
      "source": [
        "# Import Libraries"
      ]
    },
    {
      "cell_type": "code",
      "metadata": {
        "id": "8kH16rnZ7wt_"
      },
      "source": [
        "from __future__ import print_function\n",
        "import torch\n",
        "import torch.nn as nn\n",
        "import torch.nn\n",
        "import torch.optim as optim\n",
        "from torchvision import datasets, transforms\n",
        "import matplotlib.pyplot as plt\n",
        "from torchvision.utils import make_grid\n"
      ],
      "execution_count": 3,
      "outputs": []
    },
    {
      "cell_type": "code",
      "source": [
        "from google.colab import drive\n",
        "drive.mount('/content/drive')"
      ],
      "metadata": {
        "colab": {
          "base_uri": "https://localhost:8080/"
        },
        "id": "RjtUDv30tcV-",
        "outputId": "428f8c3b-cd98-41dd-d2fa-ea64e92194e6"
      },
      "execution_count": 4,
      "outputs": [
        {
          "output_type": "stream",
          "name": "stdout",
          "text": [
            "Mounted at /content/drive\n"
          ]
        }
      ]
    },
    {
      "cell_type": "markdown",
      "metadata": {
        "id": "ky3f_Odl-7um"
      },
      "source": [
        "## Data Transformations\n",
        "\n",
        "We first start with defining our data transformations. We need to think what our data is and how can we augment it to correct represent images which it might not see otherwise.\n"
      ]
    },
    {
      "cell_type": "code",
      "metadata": {
        "id": "YtssFUKb-jqx"
      },
      "source": [
        "# Train Phase transformations\n",
        "train_transforms = transforms.Compose([\n",
        "                                      #  transforms.Resize((28, 28)),\n",
        "                                      #  transforms.ColorJitter(brightness=0.10, contrast=0.1, saturation=0.10, hue=0.1),\n",
        "\n",
        "                                       transforms.ToTensor(),\n",
        "                                       transforms.Normalize((0.49,0.48,0.44), (0.22,0.19,0.2010)) # The mean and std have to be sequences (e.g., tuples), therefore you should add a comma after the values.\n",
        "                                       # Note the difference between (0.1307) and (0.1307,)\n",
        "                                       ])\n",
        "\n",
        "# Test Phase transformations\n",
        "test_transforms = transforms.Compose([\n",
        "                                      #  transforms.Resize((28, 28)),\n",
        "                                      #  transforms.ColorJitter(brightness=0.10, contrast=0.1, saturation=0.10, hue=0.1),\n",
        "                                       transforms.ToTensor(),\n",
        "                                       transforms.Normalize((0.49,0.48,0.44), (0.22,0.19,0.2010))\n",
        "                                       ])\n"
      ],
      "execution_count": 5,
      "outputs": []
    },
    {
      "cell_type": "markdown",
      "metadata": {
        "id": "oQciFYo2B1mO"
      },
      "source": [
        "# Dataset and Creating Train/Test Split"
      ]
    },
    {
      "cell_type": "code",
      "metadata": {
        "id": "_4A84rlfDA23",
        "colab": {
          "base_uri": "https://localhost:8080/"
        },
        "outputId": "2f9d40a3-dd9a-45c4-9d76-fae257e234e3"
      },
      "source": [
        "train = datasets.CIFAR10('./data', train=True, download=True, transform=train_transforms)\n",
        "test = datasets.CIFAR10('./data', train=False, download=True, transform=test_transforms)"
      ],
      "execution_count": 6,
      "outputs": [
        {
          "output_type": "stream",
          "name": "stdout",
          "text": [
            "Downloading https://www.cs.toronto.edu/~kriz/cifar-10-python.tar.gz to ./data/cifar-10-python.tar.gz\n"
          ]
        },
        {
          "output_type": "stream",
          "name": "stderr",
          "text": [
            "100%|██████████| 170498071/170498071 [00:13<00:00, 13091430.77it/s]\n"
          ]
        },
        {
          "output_type": "stream",
          "name": "stdout",
          "text": [
            "Extracting ./data/cifar-10-python.tar.gz to ./data\n",
            "Files already downloaded and verified\n"
          ]
        }
      ]
    },
    {
      "cell_type": "code",
      "source": [
        "cls=train.classes"
      ],
      "metadata": {
        "id": "QuSZlGgDk02_"
      },
      "execution_count": 7,
      "outputs": []
    },
    {
      "cell_type": "markdown",
      "metadata": {
        "id": "qgldp_3-Dn0c"
      },
      "source": [
        "# Dataloader Arguments & Test/Train Dataloaders\n"
      ]
    },
    {
      "cell_type": "code",
      "metadata": {
        "id": "C8OLDR79DrHG",
        "colab": {
          "base_uri": "https://localhost:8080/"
        },
        "outputId": "54379671-b11f-4da7-d626-78a2dbdfbc48"
      },
      "source": [
        "SEED = 1\n",
        "\n",
        "# CUDA?\n",
        "cuda = torch.cuda.is_available()\n",
        "print(\"CUDA Available?\", cuda)\n",
        "\n",
        "# For reproducibility\n",
        "torch.manual_seed(SEED)\n",
        "\n",
        "if cuda:\n",
        "    torch.cuda.manual_seed(SEED)\n",
        "\n",
        "# dataloader arguments - something you'll fetch these from cmdprmt\n",
        "dataloader_args = dict(shuffle=True, batch_size=128, num_workers=4, pin_memory=True) if cuda else dict(shuffle=True, batch_size=64)\n",
        "\n",
        "# train dataloader\n",
        "train_loader = torch.utils.data.DataLoader(train, **dataloader_args)\n",
        "\n",
        "# test dataloader\n",
        "test_loader = torch.utils.data.DataLoader(test, **dataloader_args)"
      ],
      "execution_count": 8,
      "outputs": [
        {
          "output_type": "stream",
          "name": "stdout",
          "text": [
            "CUDA Available? True\n"
          ]
        },
        {
          "output_type": "stream",
          "name": "stderr",
          "text": [
            "/usr/local/lib/python3.10/dist-packages/torch/utils/data/dataloader.py:560: UserWarning: This DataLoader will create 4 worker processes in total. Our suggested max number of worker in current system is 2, which is smaller than what this DataLoader is going to create. Please be aware that excessive worker creation might get DataLoader running slow or even freeze, lower the worker number to avoid potential slowness/freeze if necessary.\n",
            "  warnings.warn(_create_warning_msg(\n"
          ]
        }
      ]
    },
    {
      "cell_type": "markdown",
      "metadata": {
        "id": "ubQL3H6RJL3h"
      },
      "source": [
        "# The model\n",
        "Let's start with the model we first saw"
      ]
    },
    {
      "cell_type": "code",
      "metadata": {
        "id": "7FXQlB9kH1ov"
      },
      "source": [
        "import torch.nn.functional as F\n",
        "dropout_value = 0.1\n",
        "class Net(nn.Module):\n",
        "    def __init__(self):\n",
        "        super(Net, self).__init__()\n",
        "        # Input Block C1\n",
        "        self.convblock1 = nn.Sequential(\n",
        "            nn.Conv2d(in_channels=3, out_channels=32, kernel_size=(3, 3), padding=1, bias=False),\n",
        "            nn.ReLU(),\n",
        "            nn.BatchNorm2d(32),\n",
        "            nn.Dropout(dropout_value)\n",
        "        ) # output_size = 32\n",
        "\n",
        "        # CONVOLUTION BLOCK C2\n",
        "        self.convblock2 = nn.Sequential(\n",
        "            nn.Conv2d(in_channels=32, out_channels=16, kernel_size=(3, 3), padding=1, bias=False),\n",
        "            nn.ReLU(),\n",
        "            nn.BatchNorm2d(16),\n",
        "            nn.Dropout(dropout_value)\n",
        "        ) # output_size = 32\n",
        "\n",
        "        # TRANSITION BLOCK 1\n",
        "        self.c3 = nn.Sequential(\n",
        "            nn.Conv2d(in_channels=16, out_channels=16, kernel_size=(1, 1), padding=1, bias=False),\n",
        "        ) # output_size = 32\n",
        "        self.pool1 = nn.MaxPool2d(2, 2) # output_size = 16\n",
        "\n",
        "        # CONVOLUTION BLOCK C3\n",
        "        self.convblock3 = nn.Sequential(\n",
        "            nn.Conv2d(in_channels=16, out_channels=32, kernel_size=(3, 3), padding=1, bias=False),\n",
        "            nn.ReLU(),\n",
        "            nn.BatchNorm2d(32),\n",
        "            nn.Dropout(dropout_value)\n",
        "        ) # output_size = 16\n",
        "        # CONVOLUTION BLOCK C4\n",
        "        self.convblock4 = nn.Sequential(\n",
        "            nn.Conv2d(in_channels=32, out_channels=64, kernel_size=(3, 3), padding=1, bias=False),\n",
        "            nn.ReLU(),\n",
        "            nn.BatchNorm2d(64),\n",
        "            nn.Dropout(dropout_value)\n",
        "        ) # output_size = 16\n",
        "        # CONVOLUTION BLOCK C5\n",
        "        self.convblock5 = nn.Sequential(\n",
        "            nn.Conv2d(in_channels=64, out_channels=32, kernel_size=(3, 3), padding=1, bias=False),\n",
        "            nn.ReLU(),\n",
        "            nn.BatchNorm2d(32),\n",
        "            nn.Dropout(dropout_value)\n",
        "        ) # output_size = 16\n",
        "\n",
        "       # TRANSITION BLOCK 2\n",
        "        self.c6 = nn.Sequential(\n",
        "            nn.Conv2d(in_channels=32, out_channels=16, kernel_size=(1, 1), padding=1, bias=False)\n",
        "        ) # output_size = 16\n",
        "        self.pool2 = nn.MaxPool2d(2, 2) # output_size = 8\n",
        "\n",
        "        # CONVOLUTION BLOCK C7\n",
        "        self.convblock7 = nn.Sequential(\n",
        "            nn.Conv2d(in_channels=16, out_channels=16, kernel_size=(3, 3), padding=1, bias=False),\n",
        "            nn.ReLU(),\n",
        "            nn.BatchNorm2d(16),\n",
        "            nn.Dropout(dropout_value)\n",
        "        ) # output_size = 8\n",
        "        # CONVOLUTION BLOCK C8\n",
        "        self.convblock8 = nn.Sequential(\n",
        "            nn.Conv2d(in_channels=16, out_channels=32, kernel_size=(3, 3), padding=1, bias=False),\n",
        "            nn.ReLU(),\n",
        "            nn.BatchNorm2d(32),\n",
        "            nn.Dropout(dropout_value)\n",
        "        ) # output_size = 8\n",
        "        # CONVOLUTION BLOCK C9\n",
        "        self.convblock9 = nn.Sequential(\n",
        "            nn.Conv2d(in_channels=32, out_channels=32, kernel_size=(3, 3), padding=1, bias=False),\n",
        "            nn.ReLU(),\n",
        "            nn.BatchNorm2d(32),\n",
        "            nn.Dropout(dropout_value)\n",
        "        ) # output_size = 8\n",
        "\n",
        "        # OUTPUT BLOCK\n",
        "        self.gap = nn.Sequential(\n",
        "            nn.AvgPool2d(kernel_size=8)\n",
        "        ) # output_size = 1\n",
        "        # CONVOLUTION BLOCK C10\n",
        "        self.convblock10 = nn.Sequential(\n",
        "            nn.Conv2d(in_channels=32, out_channels=10, kernel_size=(1, 1), padding=0, bias=False),\n",
        "            # nn.BatchNorm2d(10),\n",
        "            # nn.ReLU(),\n",
        "            # nn.Dropout(dropout_value)\n",
        "        )\n",
        "\n",
        "\n",
        "        self.dropout = nn.Dropout(dropout_value)\n",
        "\n",
        "    def forward(self, x):\n",
        "        x = self.convblock1(x)\n",
        "        x = self.convblock2(x)\n",
        "        x = self.c3(x)\n",
        "        x = self.pool1(x)\n",
        "        x = self.convblock3(x)\n",
        "        x = self.convblock4(x)\n",
        "        x = self.convblock5(x)\n",
        "        x = self.c6(x)\n",
        "        x = self.pool2(x)\n",
        "        x = self.convblock7(x)\n",
        "        x = self.convblock8(x)\n",
        "        x = self.convblock9(x)\n",
        "        x = self.gap(x)\n",
        "        x = self.convblock10(x)\n",
        "\n",
        "        x = x.view(-1, 10)\n",
        "        return F.log_softmax(x, dim=-1)"
      ],
      "execution_count": 13,
      "outputs": []
    },
    {
      "cell_type": "markdown",
      "metadata": {
        "id": "M3-vp8X9LCWo"
      },
      "source": [
        "# Model Params\n",
        "Can't emphasize on how important viewing Model Summary is.\n",
        "Unfortunately, there is no in-built model visualizer, so we have to take external help"
      ]
    },
    {
      "cell_type": "code",
      "metadata": {
        "id": "5skB97zIJQQe",
        "colab": {
          "base_uri": "https://localhost:8080/"
        },
        "outputId": "ece4b525-8f2c-483d-b497-ece078737611"
      },
      "source": [
        "!pip install torchsummary\n",
        "from torchsummary import summary\n",
        "use_cuda = torch.cuda.is_available()\n",
        "device = torch.device(\"cuda\" if use_cuda else \"cpu\")\n",
        "print(device)\n",
        "model = Net().to(device)\n",
        "summary(model, input_size=(3, 32, 32))"
      ],
      "execution_count": 14,
      "outputs": [
        {
          "output_type": "stream",
          "name": "stdout",
          "text": [
            "Looking in indexes: https://pypi.org/simple, https://us-python.pkg.dev/colab-wheels/public/simple/\n",
            "Requirement already satisfied: torchsummary in /usr/local/lib/python3.10/dist-packages (1.5.1)\n",
            "cuda\n",
            "----------------------------------------------------------------\n",
            "        Layer (type)               Output Shape         Param #\n",
            "================================================================\n",
            "            Conv2d-1           [-1, 32, 32, 32]             864\n",
            "              ReLU-2           [-1, 32, 32, 32]               0\n",
            "       BatchNorm2d-3           [-1, 32, 32, 32]              64\n",
            "           Dropout-4           [-1, 32, 32, 32]               0\n",
            "            Conv2d-5           [-1, 16, 32, 32]           4,608\n",
            "              ReLU-6           [-1, 16, 32, 32]               0\n",
            "       BatchNorm2d-7           [-1, 16, 32, 32]              32\n",
            "           Dropout-8           [-1, 16, 32, 32]               0\n",
            "            Conv2d-9           [-1, 16, 34, 34]             256\n",
            "        MaxPool2d-10           [-1, 16, 17, 17]               0\n",
            "           Conv2d-11           [-1, 32, 17, 17]           4,608\n",
            "             ReLU-12           [-1, 32, 17, 17]               0\n",
            "      BatchNorm2d-13           [-1, 32, 17, 17]              64\n",
            "          Dropout-14           [-1, 32, 17, 17]               0\n",
            "           Conv2d-15           [-1, 64, 17, 17]          18,432\n",
            "             ReLU-16           [-1, 64, 17, 17]               0\n",
            "      BatchNorm2d-17           [-1, 64, 17, 17]             128\n",
            "          Dropout-18           [-1, 64, 17, 17]               0\n",
            "           Conv2d-19           [-1, 32, 17, 17]          18,432\n",
            "             ReLU-20           [-1, 32, 17, 17]               0\n",
            "      BatchNorm2d-21           [-1, 32, 17, 17]              64\n",
            "          Dropout-22           [-1, 32, 17, 17]               0\n",
            "           Conv2d-23           [-1, 16, 19, 19]             512\n",
            "        MaxPool2d-24             [-1, 16, 9, 9]               0\n",
            "           Conv2d-25             [-1, 16, 9, 9]           2,304\n",
            "             ReLU-26             [-1, 16, 9, 9]               0\n",
            "      BatchNorm2d-27             [-1, 16, 9, 9]              32\n",
            "          Dropout-28             [-1, 16, 9, 9]               0\n",
            "           Conv2d-29             [-1, 32, 9, 9]           4,608\n",
            "             ReLU-30             [-1, 32, 9, 9]               0\n",
            "      BatchNorm2d-31             [-1, 32, 9, 9]              64\n",
            "          Dropout-32             [-1, 32, 9, 9]               0\n",
            "           Conv2d-33             [-1, 32, 9, 9]           9,216\n",
            "             ReLU-34             [-1, 32, 9, 9]               0\n",
            "      BatchNorm2d-35             [-1, 32, 9, 9]              64\n",
            "          Dropout-36             [-1, 32, 9, 9]               0\n",
            "        AvgPool2d-37             [-1, 32, 1, 1]               0\n",
            "           Conv2d-38             [-1, 10, 1, 1]             320\n",
            "================================================================\n",
            "Total params: 64,672\n",
            "Trainable params: 64,672\n",
            "Non-trainable params: 0\n",
            "----------------------------------------------------------------\n",
            "Input size (MB): 0.01\n",
            "Forward/backward pass size (MB): 3.06\n",
            "Params size (MB): 0.25\n",
            "Estimated Total Size (MB): 3.32\n",
            "----------------------------------------------------------------\n"
          ]
        }
      ]
    },
    {
      "cell_type": "markdown",
      "metadata": {
        "id": "1__x_SbrL7z3"
      },
      "source": [
        "# Training and Testing\n",
        "\n",
        "All right, so we have 24M params, and that's too many, we know that. But the purpose of this notebook is to set things right for our future experiments.\n",
        "\n",
        "Looking at logs can be boring, so we'll introduce **tqdm** progressbar to get cooler logs.\n",
        "\n",
        "Let's write train and test functions"
      ]
    },
    {
      "cell_type": "code",
      "metadata": {
        "id": "fbkF2nN_LYIb"
      },
      "source": [
        "from tqdm import tqdm\n",
        "\n",
        "train_losses = []\n",
        "test_losses = []\n",
        "train_acc = []\n",
        "test_acc = []\n",
        "\n",
        "def train(model, device, train_loader, optimizer, epoch):\n",
        "  model.train()\n",
        "  pbar = tqdm(train_loader)\n",
        "  correct = 0\n",
        "  processed = 0\n",
        "  for batch_idx, (data, target) in enumerate(pbar):\n",
        "    # get samples\n",
        "    data, target = data.to(device), target.to(device)\n",
        "\n",
        "    # Init\n",
        "    optimizer.zero_grad()\n",
        "    # In PyTorch, we need to set the gradients to zero before starting to do backpropragation because PyTorch accumulates the gradients on subsequent backward passes.\n",
        "    # Because of this, when you start your training loop, ideally you should zero out the gradients so that you do the parameter update correctly.\n",
        "\n",
        "    # Predict\n",
        "    y_pred = model(data)\n",
        "\n",
        "    # Calculate loss\n",
        "    loss = F.nll_loss(y_pred, target)\n",
        "    train_losses.append(loss)\n",
        "\n",
        "    # Backpropagation\n",
        "    loss.backward()\n",
        "    optimizer.step()\n",
        "\n",
        "    # Update pbar-tqdm\n",
        "\n",
        "    pred = y_pred.argmax(dim=1, keepdim=True)  # get the index of the max log-probability\n",
        "    correct += pred.eq(target.view_as(pred)).sum().item()\n",
        "    processed += len(data)\n",
        "\n",
        "    pbar.set_description(desc= f'Loss={loss.item()} Batch_id={batch_idx} Accuracy={100*correct/processed:0.2f}')\n",
        "    train_acc.append(100*correct/processed)\n",
        "\n",
        "def test(model, device, test_loader):\n",
        "    model.eval()\n",
        "    test_loss = 0\n",
        "    correct = 0\n",
        "    with torch.no_grad():\n",
        "        for data, target in test_loader:\n",
        "            data, target = data.to(device), target.to(device)\n",
        "            output = model(data)\n",
        "            test_loss += F.nll_loss(output, target, reduction='sum').item()  # sum up batch loss\n",
        "            pred = output.argmax(dim=1, keepdim=True)  # get the index of the max log-probability\n",
        "            correct += pred.eq(target.view_as(pred)).sum().item()\n",
        "\n",
        "    test_loss /= len(test_loader.dataset)\n",
        "    test_losses.append(test_loss)\n",
        "\n",
        "    print('\\nTest set: Average loss: {:.4f}, Accuracy: {}/{} ({:.2f}%)\\n'.format(\n",
        "        test_loss, correct, len(test_loader.dataset),\n",
        "        100. * correct / len(test_loader.dataset)))\n",
        "\n",
        "    test_acc.append(100. * correct / len(test_loader.dataset))"
      ],
      "execution_count": 15,
      "outputs": []
    },
    {
      "cell_type": "code",
      "metadata": {
        "id": "aE5Le6FYHhc8",
        "colab": {
          "base_uri": "https://localhost:8080/"
        },
        "outputId": "9b77d6b3-a817-46f0-be0d-eedf7dfa69dd"
      },
      "source": [
        "from torch.optim.lr_scheduler import StepLR\n",
        "\n",
        "model =  Net().to(device)\n",
        "optimizer = optim.SGD(model.parameters(), lr=0.01, momentum=0.9)\n",
        "scheduler = StepLR(optimizer, step_size=6, gamma=0.1)\n",
        "\n",
        "\n",
        "EPOCHS = 20\n",
        "for epoch in range(EPOCHS):\n",
        "    print(\"EPOCH:\", epoch)\n",
        "    train(model, device, train_loader, optimizer, epoch)\n",
        "    scheduler.step()\n",
        "    test(model, device, test_loader)"
      ],
      "execution_count": 16,
      "outputs": [
        {
          "output_type": "stream",
          "name": "stdout",
          "text": [
            "EPOCH: 0\n"
          ]
        },
        {
          "output_type": "stream",
          "name": "stderr",
          "text": [
            "Loss=1.2149571180343628 Batch_id=390 Accuracy=42.82: 100%|██████████| 391/391 [00:30<00:00, 13.03it/s]\n"
          ]
        },
        {
          "output_type": "stream",
          "name": "stdout",
          "text": [
            "\n",
            "Test set: Average loss: 1.3376, Accuracy: 5032/10000 (50.32%)\n",
            "\n",
            "EPOCH: 1\n"
          ]
        },
        {
          "output_type": "stream",
          "name": "stderr",
          "text": [
            "Loss=1.02845299243927 Batch_id=390 Accuracy=57.92: 100%|██████████| 391/391 [00:20<00:00, 19.22it/s]\n"
          ]
        },
        {
          "output_type": "stream",
          "name": "stdout",
          "text": [
            "\n",
            "Test set: Average loss: 1.1154, Accuracy: 5991/10000 (59.91%)\n",
            "\n",
            "EPOCH: 2\n"
          ]
        },
        {
          "output_type": "stream",
          "name": "stderr",
          "text": [
            "Loss=0.9437558054924011 Batch_id=390 Accuracy=63.49: 100%|██████████| 391/391 [00:18<00:00, 20.96it/s]\n"
          ]
        },
        {
          "output_type": "stream",
          "name": "stdout",
          "text": [
            "\n",
            "Test set: Average loss: 0.9969, Accuracy: 6384/10000 (63.84%)\n",
            "\n",
            "EPOCH: 3\n"
          ]
        },
        {
          "output_type": "stream",
          "name": "stderr",
          "text": [
            "Loss=0.8174306750297546 Batch_id=390 Accuracy=66.37: 100%|██████████| 391/391 [00:19<00:00, 19.78it/s]\n"
          ]
        },
        {
          "output_type": "stream",
          "name": "stdout",
          "text": [
            "\n",
            "Test set: Average loss: 0.9527, Accuracy: 6585/10000 (65.85%)\n",
            "\n",
            "EPOCH: 4\n"
          ]
        },
        {
          "output_type": "stream",
          "name": "stderr",
          "text": [
            "Loss=0.8622385859489441 Batch_id=390 Accuracy=68.74: 100%|██████████| 391/391 [00:18<00:00, 21.08it/s]\n"
          ]
        },
        {
          "output_type": "stream",
          "name": "stdout",
          "text": [
            "\n",
            "Test set: Average loss: 0.9105, Accuracy: 6744/10000 (67.44%)\n",
            "\n",
            "EPOCH: 5\n"
          ]
        },
        {
          "output_type": "stream",
          "name": "stderr",
          "text": [
            "Loss=0.8112500309944153 Batch_id=390 Accuracy=70.79: 100%|██████████| 391/391 [00:20<00:00, 18.94it/s]\n"
          ]
        },
        {
          "output_type": "stream",
          "name": "stdout",
          "text": [
            "\n",
            "Test set: Average loss: 0.8402, Accuracy: 7021/10000 (70.21%)\n",
            "\n",
            "EPOCH: 6\n"
          ]
        },
        {
          "output_type": "stream",
          "name": "stderr",
          "text": [
            "Loss=0.5606979131698608 Batch_id=390 Accuracy=74.42: 100%|██████████| 391/391 [00:18<00:00, 21.53it/s]\n"
          ]
        },
        {
          "output_type": "stream",
          "name": "stdout",
          "text": [
            "\n",
            "Test set: Average loss: 0.7822, Accuracy: 7205/10000 (72.05%)\n",
            "\n",
            "EPOCH: 7\n"
          ]
        },
        {
          "output_type": "stream",
          "name": "stderr",
          "text": [
            "Loss=0.6718202233314514 Batch_id=390 Accuracy=75.51: 100%|██████████| 391/391 [00:18<00:00, 21.08it/s]\n"
          ]
        },
        {
          "output_type": "stream",
          "name": "stdout",
          "text": [
            "\n",
            "Test set: Average loss: 0.7779, Accuracy: 7245/10000 (72.45%)\n",
            "\n",
            "EPOCH: 8\n"
          ]
        },
        {
          "output_type": "stream",
          "name": "stderr",
          "text": [
            "Loss=0.732251763343811 Batch_id=390 Accuracy=75.79: 100%|██████████| 391/391 [00:17<00:00, 21.77it/s]\n"
          ]
        },
        {
          "output_type": "stream",
          "name": "stdout",
          "text": [
            "\n",
            "Test set: Average loss: 0.7713, Accuracy: 7258/10000 (72.58%)\n",
            "\n",
            "EPOCH: 9\n"
          ]
        },
        {
          "output_type": "stream",
          "name": "stderr",
          "text": [
            "Loss=0.6306289434432983 Batch_id=390 Accuracy=76.30: 100%|██████████| 391/391 [00:19<00:00, 20.47it/s]\n"
          ]
        },
        {
          "output_type": "stream",
          "name": "stdout",
          "text": [
            "\n",
            "Test set: Average loss: 0.7553, Accuracy: 7290/10000 (72.90%)\n",
            "\n",
            "EPOCH: 10\n"
          ]
        },
        {
          "output_type": "stream",
          "name": "stderr",
          "text": [
            "Loss=0.8014747500419617 Batch_id=390 Accuracy=76.70: 100%|██████████| 391/391 [00:17<00:00, 22.01it/s]\n"
          ]
        },
        {
          "output_type": "stream",
          "name": "stdout",
          "text": [
            "\n",
            "Test set: Average loss: 0.7675, Accuracy: 7301/10000 (73.01%)\n",
            "\n",
            "EPOCH: 11\n"
          ]
        },
        {
          "output_type": "stream",
          "name": "stderr",
          "text": [
            "Loss=0.7240853309631348 Batch_id=390 Accuracy=76.72: 100%|██████████| 391/391 [00:19<00:00, 20.56it/s]\n"
          ]
        },
        {
          "output_type": "stream",
          "name": "stdout",
          "text": [
            "\n",
            "Test set: Average loss: 0.7508, Accuracy: 7358/10000 (73.58%)\n",
            "\n",
            "EPOCH: 12\n"
          ]
        },
        {
          "output_type": "stream",
          "name": "stderr",
          "text": [
            "Loss=0.4897219240665436 Batch_id=390 Accuracy=76.92: 100%|██████████| 391/391 [00:19<00:00, 19.69it/s]\n"
          ]
        },
        {
          "output_type": "stream",
          "name": "stdout",
          "text": [
            "\n",
            "Test set: Average loss: 0.7464, Accuracy: 7376/10000 (73.76%)\n",
            "\n",
            "EPOCH: 13\n"
          ]
        },
        {
          "output_type": "stream",
          "name": "stderr",
          "text": [
            "Loss=0.5987011790275574 Batch_id=390 Accuracy=77.44: 100%|██████████| 391/391 [00:19<00:00, 20.53it/s]\n"
          ]
        },
        {
          "output_type": "stream",
          "name": "stdout",
          "text": [
            "\n",
            "Test set: Average loss: 0.7457, Accuracy: 7378/10000 (73.78%)\n",
            "\n",
            "EPOCH: 14\n"
          ]
        },
        {
          "output_type": "stream",
          "name": "stderr",
          "text": [
            "Loss=0.6401997804641724 Batch_id=390 Accuracy=77.49: 100%|██████████| 391/391 [00:18<00:00, 21.19it/s]\n"
          ]
        },
        {
          "output_type": "stream",
          "name": "stdout",
          "text": [
            "\n",
            "Test set: Average loss: 0.7483, Accuracy: 7354/10000 (73.54%)\n",
            "\n",
            "EPOCH: 15\n"
          ]
        },
        {
          "output_type": "stream",
          "name": "stderr",
          "text": [
            "Loss=0.6734844446182251 Batch_id=390 Accuracy=77.40: 100%|██████████| 391/391 [00:18<00:00, 21.57it/s]\n"
          ]
        },
        {
          "output_type": "stream",
          "name": "stdout",
          "text": [
            "\n",
            "Test set: Average loss: 0.7475, Accuracy: 7365/10000 (73.65%)\n",
            "\n",
            "EPOCH: 16\n"
          ]
        },
        {
          "output_type": "stream",
          "name": "stderr",
          "text": [
            "Loss=0.6865693926811218 Batch_id=390 Accuracy=77.29: 100%|██████████| 391/391 [00:17<00:00, 21.85it/s]\n"
          ]
        },
        {
          "output_type": "stream",
          "name": "stdout",
          "text": [
            "\n",
            "Test set: Average loss: 0.7465, Accuracy: 7378/10000 (73.78%)\n",
            "\n",
            "EPOCH: 17\n"
          ]
        },
        {
          "output_type": "stream",
          "name": "stderr",
          "text": [
            "Loss=0.6504474878311157 Batch_id=390 Accuracy=77.56: 100%|██████████| 391/391 [00:17<00:00, 22.09it/s]\n"
          ]
        },
        {
          "output_type": "stream",
          "name": "stdout",
          "text": [
            "\n",
            "Test set: Average loss: 0.7401, Accuracy: 7397/10000 (73.97%)\n",
            "\n",
            "EPOCH: 18\n"
          ]
        },
        {
          "output_type": "stream",
          "name": "stderr",
          "text": [
            "Loss=0.6648223996162415 Batch_id=390 Accuracy=77.30: 100%|██████████| 391/391 [00:19<00:00, 20.13it/s]\n"
          ]
        },
        {
          "output_type": "stream",
          "name": "stdout",
          "text": [
            "\n",
            "Test set: Average loss: 0.7496, Accuracy: 7375/10000 (73.75%)\n",
            "\n",
            "EPOCH: 19\n"
          ]
        },
        {
          "output_type": "stream",
          "name": "stderr",
          "text": [
            "Loss=0.6708530187606812 Batch_id=390 Accuracy=77.48: 100%|██████████| 391/391 [00:20<00:00, 18.77it/s]\n"
          ]
        },
        {
          "output_type": "stream",
          "name": "stdout",
          "text": [
            "\n",
            "Test set: Average loss: 0.7521, Accuracy: 7361/10000 (73.61%)\n",
            "\n"
          ]
        }
      ]
    },
    {
      "cell_type": "code",
      "source": [
        "t = [t_items.item() for t_items in train_losses]\n",
        "%matplotlib inline\n",
        "import matplotlib.pyplot as plt\n",
        "fig, axs = plt.subplots(2,2,figsize=(15,10))\n",
        "axs[0, 0].plot(t)\n",
        "axs[0, 0].set_title(\"Training Loss\")\n",
        "axs[1, 0].plot(train_acc)\n",
        "axs[1, 0].set_title(\"Training Accuracy\")\n",
        "axs[0, 1].plot(test_losses)\n",
        "axs[0, 1].set_title(\"Test Loss\")\n",
        "axs[1, 1].plot(test_acc)\n",
        "axs[1, 1].set_title(\"Test Accuracy\")"
      ],
      "metadata": {
        "id": "fKeBz_bFDIBd",
        "colab": {
          "base_uri": "https://localhost:8080/",
          "height": 871
        },
        "outputId": "b4610792-fb73-4a48-ca3c-935f68b48b09"
      },
      "execution_count": 17,
      "outputs": [
        {
          "output_type": "execute_result",
          "data": {
            "text/plain": [
              "Text(0.5, 1.0, 'Test Accuracy')"
            ]
          },
          "metadata": {},
          "execution_count": 17
        },
        {
          "output_type": "display_data",
          "data": {
            "text/plain": [
              "<Figure size 1500x1000 with 4 Axes>"
            ],
            "image/png": "[encoded data removed]"
          },
          "metadata": {}
        }
      ]
    },
    {
      "cell_type": "code",
      "source": [
        "dataiter = iter(test_loader)\n",
        "images, labels = next(dataiter)\n",
        "print(labels)\n",
        "model.eval()\n",
        "test_loss = 0\n",
        "pred = []\n",
        "with torch.no_grad():\n",
        "  data, target = images.to(device), labels.to(device)\n",
        "  output = model(data)\n",
        "  test_loss += F.nll_loss(output, target, reduction='sum').item()  # sum up batch loss\n",
        "  p = output.argmax(dim=1, keepdim=True)\n",
        "  print(p.tolist())\n",
        "  #pred.append(output.argmax(dim=1, keepdim=True)[1].tolist()) # get the index of the max log-probability\n",
        "pred = [t_items.item() for t_items in p]\n",
        "target = [t_items.item() for t_items in target]\n",
        "print('prediction:',pred)\n",
        "print('target:',target)\n",
        "res = [idx for idx, elem in enumerate(pred)\n",
        "                           if elem != target[idx]]\n",
        "\n",
        "ind = [i for i in range(10)]\n",
        "label_dict=dict(zip(ind,cls))\n",
        "new = res[0:10]\n",
        "print(len(new))"
      ],
      "metadata": {
        "colab": {
          "base_uri": "https://localhost:8080/"
        },
        "id": "D3c_QNT9weZM",
        "outputId": "4f8d031b-9f45-42e7-a957-78ea2339ed94"
      },
      "execution_count": 18,
      "outputs": [
        {
          "output_type": "stream",
          "name": "stderr",
          "text": [
            "/usr/local/lib/python3.10/dist-packages/torch/utils/data/dataloader.py:560: UserWarning: This DataLoader will create 4 worker processes in total. Our suggested max number of worker in current system is 2, which is smaller than what this DataLoader is going to create. Please be aware that excessive worker creation might get DataLoader running slow or even freeze, lower the worker number to avoid potential slowness/freeze if necessary.\n",
            "  warnings.warn(_create_warning_msg(\n"
          ]
        },
        {
          "output_type": "stream",
          "name": "stdout",
          "text": [
            "tensor([2, 8, 8, 4, 8, 8, 6, 0, 3, 7, 4, 7, 5, 4, 5, 6, 4, 9, 1, 8, 2, 4, 3, 9,\n",
            "        9, 0, 9, 7, 1, 1, 4, 7, 8, 4, 6, 2, 5, 2, 1, 3, 2, 7, 6, 2, 2, 3, 0, 2,\n",
            "        3, 5, 8, 5, 6, 1, 9, 6, 6, 0, 4, 2, 2, 6, 1, 4, 4, 5, 0, 4, 8, 1, 0, 3,\n",
            "        5, 3, 4, 0, 3, 2, 5, 5, 1, 5, 4, 7, 2, 6, 5, 6, 4, 7, 1, 6, 2, 5, 0, 2,\n",
            "        4, 8, 0, 3, 2, 4, 3, 5, 6, 4, 6, 7, 1, 6, 9, 1, 7, 6, 4, 2, 1, 0, 9, 4,\n",
            "        6, 5, 3, 4, 9, 4, 6, 0])\n",
            "[[5], [8], [8], [3], [8], [8], [6], [0], [5], [7], [4], [7], [2], [7], [5], [6], [7], [9], [1], [8], [0], [4], [3], [9], [9], [0], [9], [7], [1], [1], [4], [3], [8], [5], [2], [2], [3], [6], [1], [3], [3], [7], [6], [2], [6], [3], [0], [6], [2], [5], [8], [5], [6], [1], [9], [2], [6], [0], [6], [2], [2], [6], [1], [3], [5], [3], [0], [4], [8], [1], [0], [5], [3], [3], [4], [3], [3], [2], [5], [5], [1], [3], [2], [7], [3], [6], [5], [6], [2], [5], [1], [6], [2], [5], [2], [2], [4], [0], [0], [3], [2], [5], [3], [5], [6], [4], [6], [7], [1], [6], [9], [1], [7], [6], [6], [2], [1], [2], [9], [7], [6], [5], [3], [4], [9], [3], [6], [0]]\n",
            "prediction: [5, 8, 8, 3, 8, 8, 6, 0, 5, 7, 4, 7, 2, 7, 5, 6, 7, 9, 1, 8, 0, 4, 3, 9, 9, 0, 9, 7, 1, 1, 4, 3, 8, 5, 2, 2, 3, 6, 1, 3, 3, 7, 6, 2, 6, 3, 0, 6, 2, 5, 8, 5, 6, 1, 9, 2, 6, 0, 6, 2, 2, 6, 1, 3, 5, 3, 0, 4, 8, 1, 0, 5, 3, 3, 4, 3, 3, 2, 5, 5, 1, 3, 2, 7, 3, 6, 5, 6, 2, 5, 1, 6, 2, 5, 2, 2, 4, 0, 0, 3, 2, 5, 3, 5, 6, 4, 6, 7, 1, 6, 9, 1, 7, 6, 6, 2, 1, 2, 9, 7, 6, 5, 3, 4, 9, 3, 6, 0]\n",
            "target: [2, 8, 8, 4, 8, 8, 6, 0, 3, 7, 4, 7, 5, 4, 5, 6, 4, 9, 1, 8, 2, 4, 3, 9, 9, 0, 9, 7, 1, 1, 4, 7, 8, 4, 6, 2, 5, 2, 1, 3, 2, 7, 6, 2, 2, 3, 0, 2, 3, 5, 8, 5, 6, 1, 9, 6, 6, 0, 4, 2, 2, 6, 1, 4, 4, 5, 0, 4, 8, 1, 0, 3, 5, 3, 4, 0, 3, 2, 5, 5, 1, 5, 4, 7, 2, 6, 5, 6, 4, 7, 1, 6, 2, 5, 0, 2, 4, 8, 0, 3, 2, 4, 3, 5, 6, 4, 6, 7, 1, 6, 9, 1, 7, 6, 4, 2, 1, 0, 9, 4, 6, 5, 3, 4, 9, 4, 6, 0]\n",
            "10\n"
          ]
        }
      ]
    },
    {
      "cell_type": "code",
      "source": [
        "fig, axs = plt.subplots(5, 2 ,layout='constrained')\n",
        "axs[0, 0].imshow(images[new[0]].permute((1, 2, 0)))\n",
        "axs[0,0].set_title(label_dict[pred[new[0]]], fontsize = '10')\n",
        "axs[0,0].annotate(label_dict[target[new[0]]], xy=(0,27),fontsize = '10')\n",
        "\n",
        "axs[0, 1].imshow(images[new[1]].permute((1, 2, 0)))\n",
        "axs[0,1].set_title(label_dict[pred[new[1]]], fontsize = '10')\n",
        "axs[0,1].annotate(label_dict[target[new[1]]], xy=(0,27),fontsize = '10')\n",
        "\n",
        "axs[1, 0].imshow(images[new[2]].permute((1, 2, 0)))\n",
        "axs[1,0].set_title(label_dict[pred[new[2]]], fontsize = '10')\n",
        "axs[1,0].annotate(label_dict[target[new[2]]], xy=(0,27),fontsize = '10')\n",
        "\n",
        "axs[1, 1].imshow(images[new[3]].permute((1, 2, 0)))\n",
        "axs[1,1].set_title(label_dict[pred[new[3]]], fontsize = '10')\n",
        "axs[1,1].annotate(label_dict[target[new[3]]], xy=(0,27),fontsize = '10')\n",
        "\n",
        "axs[2, 0].imshow(images[new[4]].permute((1, 2, 0)))\n",
        "axs[2,0].set_title(label_dict[pred[new[4]]], fontsize = '10')\n",
        "axs[2,0].annotate(label_dict[target[new[4]]], xy=(0,27),fontsize = '10')\n",
        "\n",
        "axs[2, 1].imshow(images[new[5]].permute((1, 2, 0)))\n",
        "axs[2,1].set_title(label_dict[pred[new[5]]], fontsize = '10')\n",
        "axs[2,1].annotate(label_dict[target[new[5]]], xy=(0,27),fontsize = '10')\n",
        "\n",
        "axs[3, 0].imshow(images[new[6]].permute((1, 2, 0)))\n",
        "axs[3,0].set_title(label_dict[pred[new[6]]], fontsize = '10')\n",
        "axs[3,0].annotate(label_dict[target[new[6]]], xy=(0,27),fontsize = '10')\n",
        "\n",
        "axs[3, 1].imshow(images[new[7]].permute((1, 2, 0)))\n",
        "axs[3,1].set_title(label_dict[pred[new[7]]], fontsize = '10')\n",
        "axs[3,1].annotate(label_dict[target[new[7]]], xy=(0,27),fontsize = '10')\n",
        "\n",
        "axs[4, 0].imshow(images[new[8]].permute((1, 2, 0)))\n",
        "axs[4,0].set_title(label_dict[pred[new[8]]], fontsize = '10')\n",
        "axs[4,0].annotate(label_dict[target[new[8]]], xy=(0,27),fontsize = '10')\n",
        "\n",
        "axs[4, 1].imshow(images[new[9]].permute((1, 2, 0)))\n",
        "axs[4,1].set_title(label_dict[pred[new[9]]], fontsize = '10')\n",
        "axs[4,1].annotate(label_dict[target[new[9]]], xy=(0,27),fontsize = '10')\n",
        "\n",
        "\n"
      ],
      "metadata": {
        "colab": {
          "base_uri": "https://localhost:8080/",
          "height": 704
        },
        "id": "889EcJKRo383",
        "outputId": "4e25bf93-28d3-4e4d-b54f-3036a4a1043f"
      },
      "execution_count": 19,
      "outputs": [
        {
          "output_type": "stream",
          "name": "stderr",
          "text": [
            "WARNING:matplotlib.image:Clipping input data to the valid range for imshow with RGB data ([0..1] for floats or [0..255] for integers).\n",
            "WARNING:matplotlib.image:Clipping input data to the valid range for imshow with RGB data ([0..1] for floats or [0..255] for integers).\n",
            "WARNING:matplotlib.image:Clipping input data to the valid range for imshow with RGB data ([0..1] for floats or [0..255] for integers).\n",
            "WARNING:matplotlib.image:Clipping input data to the valid range for imshow with RGB data ([0..1] for floats or [0..255] for integers).\n",
            "WARNING:matplotlib.image:Clipping input data to the valid range for imshow with RGB data ([0..1] for floats or [0..255] for integers).\n",
            "WARNING:matplotlib.image:Clipping input data to the valid range for imshow with RGB data ([0..1] for floats or [0..255] for integers).\n",
            "WARNING:matplotlib.image:Clipping input data to the valid range for imshow with RGB data ([0..1] for floats or [0..255] for integers).\n",
            "WARNING:matplotlib.image:Clipping input data to the valid range for imshow with RGB data ([0..1] for floats or [0..255] for integers).\n",
            "WARNING:matplotlib.image:Clipping input data to the valid range for imshow with RGB data ([0..1] for floats or [0..255] for integers).\n",
            "WARNING:matplotlib.image:Clipping input data to the valid range for imshow with RGB data ([0..1] for floats or [0..255] for integers).\n"
          ]
        },
        {
          "output_type": "execute_result",
          "data": {
            "text/plain": [
              "Text(0, 27, 'frog')"
            ]
          },
          "metadata": {},
          "execution_count": 19
        },
        {
          "output_type": "display_data",
          "data": {
            "text/plain": [
              "<Figure size 640x480 with 10 Axes>"
            ],
            "image/png": "[encoded data removed]"
          },
          "metadata": {}
        }
      ]
    }
  ]
}